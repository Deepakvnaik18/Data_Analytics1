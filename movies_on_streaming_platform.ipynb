{
  "cells": [
    {
      "cell_type": "markdown",
      "metadata": {},
      "source": [
        "# importing the libraries"
      ]
    },
    {
      "cell_type": "code",
      "execution_count": 1,
      "metadata": {
        "id": "ob3kIWxZVn5W"
      },
      "outputs": [],
      "source": [
        "import numpy as np\n",
        "import pandas as pd\n",
        "import matplotlib.pyplot as plt\n",
        "import seaborn as sns"
      ]
    },
    {
      "cell_type": "markdown",
      "metadata": {},
      "source": [
        "# loading the dataset "
      ]
    },
    {
      "cell_type": "code",
      "execution_count": 2,
      "metadata": {
        "colab": {
          "base_uri": "https://localhost:8080/"
        },
        "id": "oSb5vJ5NVwcG",
        "outputId": "9a4bc97f-cbfe-4257-b8db-6b9a78d657aa"
      },
      "outputs": [],
      "source": [
        "movie=pd.read_csv('https://raw.githubusercontent.com/rajeevratan84/datascienceforbusiness/refs/heads/master/MoviesOnStreamingPlatforms_updated.csv')\n",
        "\n",
        "\n"
      ]
    },
    {
      "cell_type": "markdown",
      "metadata": {},
      "source": [
        "# understanding the dataset"
      ]
    },
    {
      "cell_type": "code",
      "execution_count": 3,
      "metadata": {},
      "outputs": [
        {
          "data": {
            "text/plain": [
              "Index(['Unnamed: 0', 'ID', 'Title', 'Year', 'Age', 'IMDb', 'Rotten Tomatoes',\n",
              "       'Netflix', 'Hulu', 'Prime Video', 'Disney+', 'Type', 'Directors',\n",
              "       'Genres', 'Country', 'Language', 'Runtime'],\n",
              "      dtype='object')"
            ]
          },
          "execution_count": 3,
          "metadata": {},
          "output_type": "execute_result"
        }
      ],
      "source": [
        "movie.columns"
      ]
    },
    {
      "cell_type": "code",
      "execution_count": 4,
      "metadata": {},
      "outputs": [
        {
          "name": "stdout",
          "output_type": "stream",
          "text": [
            "<class 'pandas.core.frame.DataFrame'>\n",
            "RangeIndex: 16744 entries, 0 to 16743\n",
            "Data columns (total 17 columns):\n",
            " #   Column           Non-Null Count  Dtype  \n",
            "---  ------           --------------  -----  \n",
            " 0   Unnamed: 0       16744 non-null  int64  \n",
            " 1   ID               16744 non-null  int64  \n",
            " 2   Title            16744 non-null  object \n",
            " 3   Year             16744 non-null  int64  \n",
            " 4   Age              7354 non-null   object \n",
            " 5   IMDb             16173 non-null  float64\n",
            " 6   Rotten Tomatoes  5158 non-null   object \n",
            " 7   Netflix          16744 non-null  int64  \n",
            " 8   Hulu             16744 non-null  int64  \n",
            " 9   Prime Video      16744 non-null  int64  \n",
            " 10  Disney+          16744 non-null  int64  \n",
            " 11  Type             16744 non-null  int64  \n",
            " 12  Directors        16018 non-null  object \n",
            " 13  Genres           16469 non-null  object \n",
            " 14  Country          16309 non-null  object \n",
            " 15  Language         16130 non-null  object \n",
            " 16  Runtime          16152 non-null  float64\n",
            "dtypes: float64(2), int64(8), object(7)\n",
            "memory usage: 2.2+ MB\n"
          ]
        }
      ],
      "source": [
        "movie.info()"
      ]
    },
    {
      "cell_type": "markdown",
      "metadata": {},
      "source": [
        "# Data cleaning"
      ]
    },
    {
      "cell_type": "code",
      "execution_count": 5,
      "metadata": {
        "id": "foMaEDj1W5lu"
      },
      "outputs": [],
      "source": [
        "movie=movie.drop(columns=['Unnamed: 0']) # removing the unnecessary columns"
      ]
    },
    {
      "cell_type": "code",
      "execution_count": 6,
      "metadata": {
        "colab": {
          "base_uri": "https://localhost:8080/"
        },
        "id": "X1xk3kcQW5iI",
        "outputId": "96adf31b-aedc-4d31-c926-68dbb343f5d9"
      },
      "outputs": [],
      "source": [
        "movie['Age']=movie['Age'].fillna(movie['Age'].mode()[0])\n",
        "movie['IMDb']=movie['IMDb'].fillna(movie['IMDb'].mean()).round(1)\n",
        "\n",
        "movie['Rotten Tomatoes']=movie['Rotten Tomatoes'].str.strip('%')\n",
        "movie['Rotten Tomatoes']=movie['Rotten Tomatoes'].astype(float)\n",
        "movie['Rotten Tomatoes']=(movie['Rotten Tomatoes'].fillna(movie['Rotten Tomatoes'].mean())/10).round(1)"
      ]
    },
    {
      "cell_type": "code",
      "execution_count": 7,
      "metadata": {
        "colab": {
          "base_uri": "https://localhost:8080/"
        },
        "id": "q6bnIHMlW5cu",
        "outputId": "29d5792b-3c4c-45a8-944b-2b7213cea233"
      },
      "outputs": [],
      "source": [
        "movie['Directors']=movie['Directors'].fillna('unknown')\n",
        "movie['Genres']=movie['Genres'].fillna('unknown')\n",
        "movie['Country']=movie['Country'].fillna('unknown')\n",
        "movie['Language']=movie['Language'].fillna('unknown')\n",
        "movie['Runtime']=movie['Runtime'].fillna(movie['Runtime'].mean())"
      ]
    },
    {
      "cell_type": "code",
      "execution_count": 8,
      "metadata": {
        "colab": {
          "base_uri": "https://localhost:8080/"
        },
        "id": "GuuDHulEW5V0",
        "outputId": "b85713bc-aa99-4235-b32d-506a1a141663"
      },
      "outputs": [
        {
          "name": "stdout",
          "output_type": "stream",
          "text": [
            "<class 'pandas.core.frame.DataFrame'>\n",
            "RangeIndex: 16744 entries, 0 to 16743\n",
            "Data columns (total 16 columns):\n",
            " #   Column           Non-Null Count  Dtype  \n",
            "---  ------           --------------  -----  \n",
            " 0   ID               16744 non-null  int64  \n",
            " 1   Title            16744 non-null  object \n",
            " 2   Year             16744 non-null  int64  \n",
            " 3   Age              16744 non-null  object \n",
            " 4   IMDb             16744 non-null  float64\n",
            " 5   Rotten Tomatoes  16744 non-null  float64\n",
            " 6   Netflix          16744 non-null  int64  \n",
            " 7   Hulu             16744 non-null  int64  \n",
            " 8   Prime Video      16744 non-null  int64  \n",
            " 9   Disney+          16744 non-null  int64  \n",
            " 10  Type             16744 non-null  int64  \n",
            " 11  Directors        16744 non-null  object \n",
            " 12  Genres           16744 non-null  object \n",
            " 13  Country          16744 non-null  object \n",
            " 14  Language         16744 non-null  object \n",
            " 15  Runtime          16744 non-null  float64\n",
            "dtypes: float64(3), int64(7), object(6)\n",
            "memory usage: 2.0+ MB\n"
          ]
        }
      ],
      "source": [
        "movie.info()"
      ]
    },
    {
      "cell_type": "code",
      "execution_count": 9,
      "metadata": {
        "colab": {
          "base_uri": "https://localhost:8080/",
          "height": 112
        },
        "id": "EfalVzruWoes",
        "outputId": "8f96fb80-54ca-4ffb-c2f8-9cdc18e65c4d"
      },
      "outputs": [
        {
          "data": {
            "text/html": [
              "<div>\n",
              "<style scoped>\n",
              "    .dataframe tbody tr th:only-of-type {\n",
              "        vertical-align: middle;\n",
              "    }\n",
              "\n",
              "    .dataframe tbody tr th {\n",
              "        vertical-align: top;\n",
              "    }\n",
              "\n",
              "    .dataframe thead th {\n",
              "        text-align: right;\n",
              "    }\n",
              "</style>\n",
              "<table border=\"1\" class=\"dataframe\">\n",
              "  <thead>\n",
              "    <tr style=\"text-align: right;\">\n",
              "      <th></th>\n",
              "      <th>ID</th>\n",
              "      <th>Title</th>\n",
              "      <th>Year</th>\n",
              "      <th>Age</th>\n",
              "      <th>IMDb</th>\n",
              "      <th>Rotten Tomatoes</th>\n",
              "      <th>Netflix</th>\n",
              "      <th>Hulu</th>\n",
              "      <th>Prime Video</th>\n",
              "      <th>Disney+</th>\n",
              "      <th>Type</th>\n",
              "      <th>Directors</th>\n",
              "      <th>Genres</th>\n",
              "      <th>Country</th>\n",
              "      <th>Language</th>\n",
              "      <th>Runtime</th>\n",
              "    </tr>\n",
              "  </thead>\n",
              "  <tbody>\n",
              "    <tr>\n",
              "      <th>0</th>\n",
              "      <td>1</td>\n",
              "      <td>Inception</td>\n",
              "      <td>2010</td>\n",
              "      <td>13+</td>\n",
              "      <td>8.8</td>\n",
              "      <td>8.7</td>\n",
              "      <td>1</td>\n",
              "      <td>0</td>\n",
              "      <td>0</td>\n",
              "      <td>0</td>\n",
              "      <td>0</td>\n",
              "      <td>Christopher Nolan</td>\n",
              "      <td>Action,Adventure,Sci-Fi,Thriller</td>\n",
              "      <td>United States,United Kingdom</td>\n",
              "      <td>English,Japanese,French</td>\n",
              "      <td>148.0</td>\n",
              "    </tr>\n",
              "    <tr>\n",
              "      <th>1</th>\n",
              "      <td>2</td>\n",
              "      <td>The Matrix</td>\n",
              "      <td>1999</td>\n",
              "      <td>18+</td>\n",
              "      <td>8.7</td>\n",
              "      <td>8.7</td>\n",
              "      <td>1</td>\n",
              "      <td>0</td>\n",
              "      <td>0</td>\n",
              "      <td>0</td>\n",
              "      <td>0</td>\n",
              "      <td>Lana Wachowski,Lilly Wachowski</td>\n",
              "      <td>Action,Sci-Fi</td>\n",
              "      <td>United States</td>\n",
              "      <td>English</td>\n",
              "      <td>136.0</td>\n",
              "    </tr>\n",
              "  </tbody>\n",
              "</table>\n",
              "</div>"
            ],
            "text/plain": [
              "   ID       Title  Year  Age  IMDb  Rotten Tomatoes  Netflix  Hulu  \\\n",
              "0   1   Inception  2010  13+   8.8              8.7        1     0   \n",
              "1   2  The Matrix  1999  18+   8.7              8.7        1     0   \n",
              "\n",
              "   Prime Video  Disney+  Type                       Directors  \\\n",
              "0            0        0     0               Christopher Nolan   \n",
              "1            0        0     0  Lana Wachowski,Lilly Wachowski   \n",
              "\n",
              "                             Genres                       Country  \\\n",
              "0  Action,Adventure,Sci-Fi,Thriller  United States,United Kingdom   \n",
              "1                     Action,Sci-Fi                 United States   \n",
              "\n",
              "                  Language  Runtime  \n",
              "0  English,Japanese,French    148.0  \n",
              "1                  English    136.0  "
            ]
          },
          "execution_count": 9,
          "metadata": {},
          "output_type": "execute_result"
        }
      ],
      "source": [
        "movie.head(2)"
      ]
    },
    {
      "cell_type": "code",
      "execution_count": 10,
      "metadata": {
        "colab": {
          "base_uri": "https://localhost:8080/",
          "height": 424
        },
        "id": "_WRJZRWHWq3K",
        "outputId": "8425678b-9cf9-4378-af42-2847324e43c1"
      },
      "outputs": [
        {
          "data": {
            "text/html": [
              "<div>\n",
              "<style scoped>\n",
              "    .dataframe tbody tr th:only-of-type {\n",
              "        vertical-align: middle;\n",
              "    }\n",
              "\n",
              "    .dataframe tbody tr th {\n",
              "        vertical-align: top;\n",
              "    }\n",
              "\n",
              "    .dataframe thead th {\n",
              "        text-align: right;\n",
              "    }\n",
              "</style>\n",
              "<table border=\"1\" class=\"dataframe\">\n",
              "  <thead>\n",
              "    <tr style=\"text-align: right;\">\n",
              "      <th></th>\n",
              "      <th>Title</th>\n",
              "      <th>IMDb</th>\n",
              "      <th>Netflix</th>\n",
              "      <th>Runtime</th>\n",
              "      <th>Genres</th>\n",
              "    </tr>\n",
              "  </thead>\n",
              "  <tbody>\n",
              "    <tr>\n",
              "      <th>0</th>\n",
              "      <td>Inception</td>\n",
              "      <td>8.8</td>\n",
              "      <td>1</td>\n",
              "      <td>148.0</td>\n",
              "      <td>Action</td>\n",
              "    </tr>\n",
              "    <tr>\n",
              "      <th>0</th>\n",
              "      <td>Inception</td>\n",
              "      <td>8.8</td>\n",
              "      <td>1</td>\n",
              "      <td>148.0</td>\n",
              "      <td>Adventure</td>\n",
              "    </tr>\n",
              "    <tr>\n",
              "      <th>0</th>\n",
              "      <td>Inception</td>\n",
              "      <td>8.8</td>\n",
              "      <td>1</td>\n",
              "      <td>148.0</td>\n",
              "      <td>Sci-Fi</td>\n",
              "    </tr>\n",
              "    <tr>\n",
              "      <th>0</th>\n",
              "      <td>Inception</td>\n",
              "      <td>8.8</td>\n",
              "      <td>1</td>\n",
              "      <td>148.0</td>\n",
              "      <td>Thriller</td>\n",
              "    </tr>\n",
              "    <tr>\n",
              "      <th>1</th>\n",
              "      <td>The Matrix</td>\n",
              "      <td>8.7</td>\n",
              "      <td>1</td>\n",
              "      <td>136.0</td>\n",
              "      <td>Action</td>\n",
              "    </tr>\n",
              "  </tbody>\n",
              "</table>\n",
              "</div>"
            ],
            "text/plain": [
              "        Title  IMDb  Netflix  Runtime     Genres\n",
              "0   Inception   8.8        1    148.0     Action\n",
              "0   Inception   8.8        1    148.0  Adventure\n",
              "0   Inception   8.8        1    148.0     Sci-Fi\n",
              "0   Inception   8.8        1    148.0   Thriller\n",
              "1  The Matrix   8.7        1    136.0     Action"
            ]
          },
          "execution_count": 10,
          "metadata": {},
          "output_type": "execute_result"
        }
      ],
      "source": [
        "x=movie['Genres'].str.split(',')\n",
        "Genres=x.explode()\n",
        "\n",
        "Genres_df=pd.merge(movie[['Title','IMDb','Netflix','Runtime']],Genres,left_index=True,right_index=True)\n",
        "Genres_df.head()"
      ]
    },
    {
      "cell_type": "code",
      "execution_count": 11,
      "metadata": {},
      "outputs": [
        {
          "data": {
            "text/plain": [
              "0        1\n",
              "1        1\n",
              "2        1\n",
              "3        1\n",
              "4        2\n",
              "        ..\n",
              "16739    1\n",
              "16740    1\n",
              "16741    1\n",
              "16742    1\n",
              "16743    1\n",
              "Length: 16744, dtype: int64"
            ]
          },
          "execution_count": 11,
          "metadata": {},
          "output_type": "execute_result"
        }
      ],
      "source": [
        "z = movie.columns[[6,7,8,9]]\n",
        "\n",
        "movie[z].sum(1)"
      ]
    },
    {
      "cell_type": "code",
      "execution_count": 12,
      "metadata": {
        "id": "cH-8-_nCWqzi"
      },
      "outputs": [
        {
          "data": {
            "text/html": [
              "<div>\n",
              "<style scoped>\n",
              "    .dataframe tbody tr th:only-of-type {\n",
              "        vertical-align: middle;\n",
              "    }\n",
              "\n",
              "    .dataframe tbody tr th {\n",
              "        vertical-align: top;\n",
              "    }\n",
              "\n",
              "    .dataframe thead th {\n",
              "        text-align: right;\n",
              "    }\n",
              "</style>\n",
              "<table border=\"1\" class=\"dataframe\">\n",
              "  <thead>\n",
              "    <tr style=\"text-align: right;\">\n",
              "      <th></th>\n",
              "      <th>Title</th>\n",
              "      <th>IMDb</th>\n",
              "      <th>Language</th>\n",
              "    </tr>\n",
              "  </thead>\n",
              "  <tbody>\n",
              "    <tr>\n",
              "      <th>0</th>\n",
              "      <td>Inception</td>\n",
              "      <td>8.8</td>\n",
              "      <td>English</td>\n",
              "    </tr>\n",
              "    <tr>\n",
              "      <th>0</th>\n",
              "      <td>Inception</td>\n",
              "      <td>8.8</td>\n",
              "      <td>Japanese</td>\n",
              "    </tr>\n",
              "    <tr>\n",
              "      <th>0</th>\n",
              "      <td>Inception</td>\n",
              "      <td>8.8</td>\n",
              "      <td>French</td>\n",
              "    </tr>\n",
              "    <tr>\n",
              "      <th>1</th>\n",
              "      <td>The Matrix</td>\n",
              "      <td>8.7</td>\n",
              "      <td>English</td>\n",
              "    </tr>\n",
              "    <tr>\n",
              "      <th>2</th>\n",
              "      <td>Avengers: Infinity War</td>\n",
              "      <td>8.5</td>\n",
              "      <td>English</td>\n",
              "    </tr>\n",
              "  </tbody>\n",
              "</table>\n",
              "</div>"
            ],
            "text/plain": [
              "                    Title  IMDb  Language\n",
              "0               Inception   8.8   English\n",
              "0               Inception   8.8  Japanese\n",
              "0               Inception   8.8    French\n",
              "1              The Matrix   8.7   English\n",
              "2  Avengers: Infinity War   8.5   English"
            ]
          },
          "execution_count": 12,
          "metadata": {},
          "output_type": "execute_result"
        }
      ],
      "source": [
        "# Splitting 'Language' column where multiple languages are separated by commas\n",
        "language_split = movie['Language'].str.split(',')\n",
        "Languages = language_split.explode()\n",
        "\n",
        "# Creating a DataFrame with Title, IMDb, and Language\n",
        "Languages_df = pd.merge(movie[['Title', 'IMDb']], Languages, left_index=True, right_index=True)\n",
        "Languages_df.head()\n"
      ]
    },
    {
      "cell_type": "code",
      "execution_count": 13,
      "metadata": {
        "id": "xa-n0DArWqxL"
      },
      "outputs": [
        {
          "data": {
            "text/html": [
              "<div>\n",
              "<style scoped>\n",
              "    .dataframe tbody tr th:only-of-type {\n",
              "        vertical-align: middle;\n",
              "    }\n",
              "\n",
              "    .dataframe tbody tr th {\n",
              "        vertical-align: top;\n",
              "    }\n",
              "\n",
              "    .dataframe thead th {\n",
              "        text-align: right;\n",
              "    }\n",
              "</style>\n",
              "<table border=\"1\" class=\"dataframe\">\n",
              "  <thead>\n",
              "    <tr style=\"text-align: right;\">\n",
              "      <th></th>\n",
              "      <th>Title</th>\n",
              "      <th>IMDb</th>\n",
              "      <th>Rotten Tomatoes</th>\n",
              "      <th>Genres</th>\n",
              "      <th>Runtime</th>\n",
              "      <th>Platform</th>\n",
              "    </tr>\n",
              "  </thead>\n",
              "  <tbody>\n",
              "    <tr>\n",
              "      <th>0</th>\n",
              "      <td>Inception</td>\n",
              "      <td>8.8</td>\n",
              "      <td>8.7</td>\n",
              "      <td>Action,Adventure,Sci-Fi,Thriller</td>\n",
              "      <td>148.0</td>\n",
              "      <td>Netflix</td>\n",
              "    </tr>\n",
              "    <tr>\n",
              "      <th>1</th>\n",
              "      <td>The Matrix</td>\n",
              "      <td>8.7</td>\n",
              "      <td>8.7</td>\n",
              "      <td>Action,Sci-Fi</td>\n",
              "      <td>136.0</td>\n",
              "      <td>Netflix</td>\n",
              "    </tr>\n",
              "    <tr>\n",
              "      <th>2</th>\n",
              "      <td>Avengers: Infinity War</td>\n",
              "      <td>8.5</td>\n",
              "      <td>8.4</td>\n",
              "      <td>Action,Adventure,Sci-Fi</td>\n",
              "      <td>149.0</td>\n",
              "      <td>Netflix</td>\n",
              "    </tr>\n",
              "    <tr>\n",
              "      <th>3</th>\n",
              "      <td>Back to the Future</td>\n",
              "      <td>8.5</td>\n",
              "      <td>9.6</td>\n",
              "      <td>Adventure,Comedy,Sci-Fi</td>\n",
              "      <td>116.0</td>\n",
              "      <td>Netflix</td>\n",
              "    </tr>\n",
              "    <tr>\n",
              "      <th>4</th>\n",
              "      <td>The Good, the Bad and the Ugly</td>\n",
              "      <td>8.8</td>\n",
              "      <td>9.7</td>\n",
              "      <td>Western</td>\n",
              "      <td>161.0</td>\n",
              "      <td>Netflix</td>\n",
              "    </tr>\n",
              "  </tbody>\n",
              "</table>\n",
              "</div>"
            ],
            "text/plain": [
              "                            Title  IMDb  Rotten Tomatoes  \\\n",
              "0                       Inception   8.8              8.7   \n",
              "1                      The Matrix   8.7              8.7   \n",
              "2          Avengers: Infinity War   8.5              8.4   \n",
              "3              Back to the Future   8.5              9.6   \n",
              "4  The Good, the Bad and the Ugly   8.8              9.7   \n",
              "\n",
              "                             Genres  Runtime Platform  \n",
              "0  Action,Adventure,Sci-Fi,Thriller    148.0  Netflix  \n",
              "1                     Action,Sci-Fi    136.0  Netflix  \n",
              "2           Action,Adventure,Sci-Fi    149.0  Netflix  \n",
              "3           Adventure,Comedy,Sci-Fi    116.0  Netflix  \n",
              "4                           Western    161.0  Netflix  "
            ]
          },
          "execution_count": 13,
          "metadata": {},
          "output_type": "execute_result"
        }
      ],
      "source": [
        "# Melting the dataset to transform platform columns into rows\n",
        "Platforms_df = movie.melt(id_vars=['Title', 'IMDb','Rotten Tomatoes','Genres','Runtime'], \n",
        "                          value_vars=['Netflix', 'Hulu', 'Prime Video', 'Disney+'], \n",
        "                          var_name='Platform', \n",
        "                          value_name='Available')\n",
        "\n",
        "# Filtering out movies that are NOT available (Available == 0)\n",
        "Platforms_df = Platforms_df[Platforms_df['Available'] == 1].drop(columns=['Available'])\n",
        "\n",
        "Platforms_df.head()\n"
      ]
    },
    {
      "cell_type": "code",
      "execution_count": 14,
      "metadata": {
        "id": "6f-ljFaXWquW"
      },
      "outputs": [
        {
          "data": {
            "text/html": [
              "<div>\n",
              "<style scoped>\n",
              "    .dataframe tbody tr th:only-of-type {\n",
              "        vertical-align: middle;\n",
              "    }\n",
              "\n",
              "    .dataframe tbody tr th {\n",
              "        vertical-align: top;\n",
              "    }\n",
              "\n",
              "    .dataframe thead th {\n",
              "        text-align: right;\n",
              "    }\n",
              "</style>\n",
              "<table border=\"1\" class=\"dataframe\">\n",
              "  <thead>\n",
              "    <tr style=\"text-align: right;\">\n",
              "      <th></th>\n",
              "      <th>Title</th>\n",
              "      <th>IMDb</th>\n",
              "      <th>Directors</th>\n",
              "    </tr>\n",
              "  </thead>\n",
              "  <tbody>\n",
              "    <tr>\n",
              "      <th>0</th>\n",
              "      <td>Inception</td>\n",
              "      <td>8.8</td>\n",
              "      <td>Christopher Nolan</td>\n",
              "    </tr>\n",
              "    <tr>\n",
              "      <th>1</th>\n",
              "      <td>The Matrix</td>\n",
              "      <td>8.7</td>\n",
              "      <td>Lana Wachowski</td>\n",
              "    </tr>\n",
              "    <tr>\n",
              "      <th>1</th>\n",
              "      <td>The Matrix</td>\n",
              "      <td>8.7</td>\n",
              "      <td>Lilly Wachowski</td>\n",
              "    </tr>\n",
              "    <tr>\n",
              "      <th>2</th>\n",
              "      <td>Avengers: Infinity War</td>\n",
              "      <td>8.5</td>\n",
              "      <td>Anthony Russo</td>\n",
              "    </tr>\n",
              "    <tr>\n",
              "      <th>2</th>\n",
              "      <td>Avengers: Infinity War</td>\n",
              "      <td>8.5</td>\n",
              "      <td>Joe Russo</td>\n",
              "    </tr>\n",
              "  </tbody>\n",
              "</table>\n",
              "</div>"
            ],
            "text/plain": [
              "                    Title  IMDb          Directors\n",
              "0               Inception   8.8  Christopher Nolan\n",
              "1              The Matrix   8.7     Lana Wachowski\n",
              "1              The Matrix   8.7    Lilly Wachowski\n",
              "2  Avengers: Infinity War   8.5      Anthony Russo\n",
              "2  Avengers: Infinity War   8.5          Joe Russo"
            ]
          },
          "execution_count": 14,
          "metadata": {},
          "output_type": "execute_result"
        }
      ],
      "source": [
        "# Splitting 'Directors' column\n",
        "directors_split = movie['Directors'].str.split(',')\n",
        "Directors = directors_split.explode()\n",
        "\n",
        "# Creating Directors_df\n",
        "Directors_df = pd.merge(movie[['Title', 'IMDb']], Directors, left_index=True, right_index=True)\n",
        "Directors_df.head()"
      ]
    },
    {
      "cell_type": "code",
      "execution_count": 15,
      "metadata": {
        "id": "12Kqi4uWWqdE"
      },
      "outputs": [],
      "source": [
        "# Defining runtime categories\n",
        "bins = [0, 60, 120, 180, 300]  # (in minutes)\n",
        "labels = ['Short (<60 min)', 'Medium (60-120 min)', 'Long (120-180 min)', 'Very Long (>180 min)']\n",
        "movie['Runtime Category'] = pd.cut(movie['Runtime'], bins=bins, labels=labels, right=False)\n"
      ]
    },
    {
      "cell_type": "code",
      "execution_count": 16,
      "metadata": {
        "id": "cm1FQnxfWqXY"
      },
      "outputs": [
        {
          "data": {
            "text/html": [
              "<div>\n",
              "<style scoped>\n",
              "    .dataframe tbody tr th:only-of-type {\n",
              "        vertical-align: middle;\n",
              "    }\n",
              "\n",
              "    .dataframe tbody tr th {\n",
              "        vertical-align: top;\n",
              "    }\n",
              "\n",
              "    .dataframe thead th {\n",
              "        text-align: right;\n",
              "    }\n",
              "</style>\n",
              "<table border=\"1\" class=\"dataframe\">\n",
              "  <thead>\n",
              "    <tr style=\"text-align: right;\">\n",
              "      <th></th>\n",
              "      <th>ID</th>\n",
              "      <th>Title</th>\n",
              "      <th>Year</th>\n",
              "      <th>Age</th>\n",
              "      <th>IMDb</th>\n",
              "      <th>Rotten Tomatoes</th>\n",
              "      <th>Netflix</th>\n",
              "      <th>Hulu</th>\n",
              "      <th>Prime Video</th>\n",
              "      <th>Disney+</th>\n",
              "      <th>Type</th>\n",
              "      <th>Directors</th>\n",
              "      <th>Genres</th>\n",
              "      <th>Country</th>\n",
              "      <th>Language</th>\n",
              "      <th>Runtime</th>\n",
              "      <th>Runtime Category</th>\n",
              "    </tr>\n",
              "  </thead>\n",
              "  <tbody>\n",
              "    <tr>\n",
              "      <th>0</th>\n",
              "      <td>1</td>\n",
              "      <td>Inception</td>\n",
              "      <td>2010</td>\n",
              "      <td>13+</td>\n",
              "      <td>8.8</td>\n",
              "      <td>8.7</td>\n",
              "      <td>1</td>\n",
              "      <td>0</td>\n",
              "      <td>0</td>\n",
              "      <td>0</td>\n",
              "      <td>0</td>\n",
              "      <td>Christopher Nolan</td>\n",
              "      <td>Action,Adventure,Sci-Fi,Thriller</td>\n",
              "      <td>United States,United Kingdom</td>\n",
              "      <td>English,Japanese,French</td>\n",
              "      <td>148.000000</td>\n",
              "      <td>Long (120-180 min)</td>\n",
              "    </tr>\n",
              "    <tr>\n",
              "      <th>1</th>\n",
              "      <td>2</td>\n",
              "      <td>The Matrix</td>\n",
              "      <td>1999</td>\n",
              "      <td>18+</td>\n",
              "      <td>8.7</td>\n",
              "      <td>8.7</td>\n",
              "      <td>1</td>\n",
              "      <td>0</td>\n",
              "      <td>0</td>\n",
              "      <td>0</td>\n",
              "      <td>0</td>\n",
              "      <td>Lana Wachowski,Lilly Wachowski</td>\n",
              "      <td>Action,Sci-Fi</td>\n",
              "      <td>United States</td>\n",
              "      <td>English</td>\n",
              "      <td>136.000000</td>\n",
              "      <td>Long (120-180 min)</td>\n",
              "    </tr>\n",
              "    <tr>\n",
              "      <th>2</th>\n",
              "      <td>3</td>\n",
              "      <td>Avengers: Infinity War</td>\n",
              "      <td>2018</td>\n",
              "      <td>13+</td>\n",
              "      <td>8.5</td>\n",
              "      <td>8.4</td>\n",
              "      <td>1</td>\n",
              "      <td>0</td>\n",
              "      <td>0</td>\n",
              "      <td>0</td>\n",
              "      <td>0</td>\n",
              "      <td>Anthony Russo,Joe Russo</td>\n",
              "      <td>Action,Adventure,Sci-Fi</td>\n",
              "      <td>United States</td>\n",
              "      <td>English</td>\n",
              "      <td>149.000000</td>\n",
              "      <td>Long (120-180 min)</td>\n",
              "    </tr>\n",
              "    <tr>\n",
              "      <th>3</th>\n",
              "      <td>4</td>\n",
              "      <td>Back to the Future</td>\n",
              "      <td>1985</td>\n",
              "      <td>7+</td>\n",
              "      <td>8.5</td>\n",
              "      <td>9.6</td>\n",
              "      <td>1</td>\n",
              "      <td>0</td>\n",
              "      <td>0</td>\n",
              "      <td>0</td>\n",
              "      <td>0</td>\n",
              "      <td>Robert Zemeckis</td>\n",
              "      <td>Adventure,Comedy,Sci-Fi</td>\n",
              "      <td>United States</td>\n",
              "      <td>English</td>\n",
              "      <td>116.000000</td>\n",
              "      <td>Medium (60-120 min)</td>\n",
              "    </tr>\n",
              "    <tr>\n",
              "      <th>4</th>\n",
              "      <td>5</td>\n",
              "      <td>The Good, the Bad and the Ugly</td>\n",
              "      <td>1966</td>\n",
              "      <td>18+</td>\n",
              "      <td>8.8</td>\n",
              "      <td>9.7</td>\n",
              "      <td>1</td>\n",
              "      <td>0</td>\n",
              "      <td>1</td>\n",
              "      <td>0</td>\n",
              "      <td>0</td>\n",
              "      <td>Sergio Leone</td>\n",
              "      <td>Western</td>\n",
              "      <td>Italy,Spain,West Germany</td>\n",
              "      <td>Italian</td>\n",
              "      <td>161.000000</td>\n",
              "      <td>Long (120-180 min)</td>\n",
              "    </tr>\n",
              "    <tr>\n",
              "      <th>...</th>\n",
              "      <td>...</td>\n",
              "      <td>...</td>\n",
              "      <td>...</td>\n",
              "      <td>...</td>\n",
              "      <td>...</td>\n",
              "      <td>...</td>\n",
              "      <td>...</td>\n",
              "      <td>...</td>\n",
              "      <td>...</td>\n",
              "      <td>...</td>\n",
              "      <td>...</td>\n",
              "      <td>...</td>\n",
              "      <td>...</td>\n",
              "      <td>...</td>\n",
              "      <td>...</td>\n",
              "      <td>...</td>\n",
              "      <td>...</td>\n",
              "    </tr>\n",
              "    <tr>\n",
              "      <th>16739</th>\n",
              "      <td>16740</td>\n",
              "      <td>The Ghosts of Buxley Hall</td>\n",
              "      <td>1980</td>\n",
              "      <td>18+</td>\n",
              "      <td>6.2</td>\n",
              "      <td>6.5</td>\n",
              "      <td>0</td>\n",
              "      <td>0</td>\n",
              "      <td>0</td>\n",
              "      <td>1</td>\n",
              "      <td>0</td>\n",
              "      <td>Bruce Bilson</td>\n",
              "      <td>Comedy,Family,Fantasy,Horror</td>\n",
              "      <td>United States</td>\n",
              "      <td>English</td>\n",
              "      <td>120.000000</td>\n",
              "      <td>Long (120-180 min)</td>\n",
              "    </tr>\n",
              "    <tr>\n",
              "      <th>16740</th>\n",
              "      <td>16741</td>\n",
              "      <td>The Poof Point</td>\n",
              "      <td>2001</td>\n",
              "      <td>7+</td>\n",
              "      <td>4.7</td>\n",
              "      <td>6.5</td>\n",
              "      <td>0</td>\n",
              "      <td>0</td>\n",
              "      <td>0</td>\n",
              "      <td>1</td>\n",
              "      <td>0</td>\n",
              "      <td>Neal Israel</td>\n",
              "      <td>Comedy,Family,Sci-Fi</td>\n",
              "      <td>United States</td>\n",
              "      <td>English</td>\n",
              "      <td>90.000000</td>\n",
              "      <td>Medium (60-120 min)</td>\n",
              "    </tr>\n",
              "    <tr>\n",
              "      <th>16741</th>\n",
              "      <td>16742</td>\n",
              "      <td>Sharks of Lost Island</td>\n",
              "      <td>2013</td>\n",
              "      <td>18+</td>\n",
              "      <td>5.7</td>\n",
              "      <td>6.5</td>\n",
              "      <td>0</td>\n",
              "      <td>0</td>\n",
              "      <td>0</td>\n",
              "      <td>1</td>\n",
              "      <td>0</td>\n",
              "      <td>Neil Gelinas</td>\n",
              "      <td>Documentary</td>\n",
              "      <td>United States</td>\n",
              "      <td>English</td>\n",
              "      <td>93.413447</td>\n",
              "      <td>Medium (60-120 min)</td>\n",
              "    </tr>\n",
              "    <tr>\n",
              "      <th>16742</th>\n",
              "      <td>16743</td>\n",
              "      <td>Man Among Cheetahs</td>\n",
              "      <td>2017</td>\n",
              "      <td>18+</td>\n",
              "      <td>6.6</td>\n",
              "      <td>6.5</td>\n",
              "      <td>0</td>\n",
              "      <td>0</td>\n",
              "      <td>0</td>\n",
              "      <td>1</td>\n",
              "      <td>0</td>\n",
              "      <td>Richard Slater-Jones</td>\n",
              "      <td>Documentary</td>\n",
              "      <td>United States</td>\n",
              "      <td>English</td>\n",
              "      <td>93.413447</td>\n",
              "      <td>Medium (60-120 min)</td>\n",
              "    </tr>\n",
              "    <tr>\n",
              "      <th>16743</th>\n",
              "      <td>16744</td>\n",
              "      <td>In Beaver Valley</td>\n",
              "      <td>1950</td>\n",
              "      <td>18+</td>\n",
              "      <td>5.9</td>\n",
              "      <td>6.5</td>\n",
              "      <td>0</td>\n",
              "      <td>0</td>\n",
              "      <td>0</td>\n",
              "      <td>1</td>\n",
              "      <td>0</td>\n",
              "      <td>James Algar</td>\n",
              "      <td>Documentary,Short,Family</td>\n",
              "      <td>United States</td>\n",
              "      <td>English</td>\n",
              "      <td>32.000000</td>\n",
              "      <td>Short (&lt;60 min)</td>\n",
              "    </tr>\n",
              "  </tbody>\n",
              "</table>\n",
              "<p>16744 rows × 17 columns</p>\n",
              "</div>"
            ],
            "text/plain": [
              "          ID                           Title  Year  Age  IMDb  \\\n",
              "0          1                       Inception  2010  13+   8.8   \n",
              "1          2                      The Matrix  1999  18+   8.7   \n",
              "2          3          Avengers: Infinity War  2018  13+   8.5   \n",
              "3          4              Back to the Future  1985   7+   8.5   \n",
              "4          5  The Good, the Bad and the Ugly  1966  18+   8.8   \n",
              "...      ...                             ...   ...  ...   ...   \n",
              "16739  16740       The Ghosts of Buxley Hall  1980  18+   6.2   \n",
              "16740  16741                  The Poof Point  2001   7+   4.7   \n",
              "16741  16742           Sharks of Lost Island  2013  18+   5.7   \n",
              "16742  16743              Man Among Cheetahs  2017  18+   6.6   \n",
              "16743  16744                In Beaver Valley  1950  18+   5.9   \n",
              "\n",
              "       Rotten Tomatoes  Netflix  Hulu  Prime Video  Disney+  Type  \\\n",
              "0                  8.7        1     0            0        0     0   \n",
              "1                  8.7        1     0            0        0     0   \n",
              "2                  8.4        1     0            0        0     0   \n",
              "3                  9.6        1     0            0        0     0   \n",
              "4                  9.7        1     0            1        0     0   \n",
              "...                ...      ...   ...          ...      ...   ...   \n",
              "16739              6.5        0     0            0        1     0   \n",
              "16740              6.5        0     0            0        1     0   \n",
              "16741              6.5        0     0            0        1     0   \n",
              "16742              6.5        0     0            0        1     0   \n",
              "16743              6.5        0     0            0        1     0   \n",
              "\n",
              "                            Directors                            Genres  \\\n",
              "0                   Christopher Nolan  Action,Adventure,Sci-Fi,Thriller   \n",
              "1      Lana Wachowski,Lilly Wachowski                     Action,Sci-Fi   \n",
              "2             Anthony Russo,Joe Russo           Action,Adventure,Sci-Fi   \n",
              "3                     Robert Zemeckis           Adventure,Comedy,Sci-Fi   \n",
              "4                        Sergio Leone                           Western   \n",
              "...                               ...                               ...   \n",
              "16739                    Bruce Bilson      Comedy,Family,Fantasy,Horror   \n",
              "16740                     Neal Israel              Comedy,Family,Sci-Fi   \n",
              "16741                    Neil Gelinas                       Documentary   \n",
              "16742            Richard Slater-Jones                       Documentary   \n",
              "16743                     James Algar          Documentary,Short,Family   \n",
              "\n",
              "                            Country                 Language     Runtime  \\\n",
              "0      United States,United Kingdom  English,Japanese,French  148.000000   \n",
              "1                     United States                  English  136.000000   \n",
              "2                     United States                  English  149.000000   \n",
              "3                     United States                  English  116.000000   \n",
              "4          Italy,Spain,West Germany                  Italian  161.000000   \n",
              "...                             ...                      ...         ...   \n",
              "16739                 United States                  English  120.000000   \n",
              "16740                 United States                  English   90.000000   \n",
              "16741                 United States                  English   93.413447   \n",
              "16742                 United States                  English   93.413447   \n",
              "16743                 United States                  English   32.000000   \n",
              "\n",
              "          Runtime Category  \n",
              "0       Long (120-180 min)  \n",
              "1       Long (120-180 min)  \n",
              "2       Long (120-180 min)  \n",
              "3      Medium (60-120 min)  \n",
              "4       Long (120-180 min)  \n",
              "...                    ...  \n",
              "16739   Long (120-180 min)  \n",
              "16740  Medium (60-120 min)  \n",
              "16741  Medium (60-120 min)  \n",
              "16742  Medium (60-120 min)  \n",
              "16743      Short (<60 min)  \n",
              "\n",
              "[16744 rows x 17 columns]"
            ]
          },
          "execution_count": 16,
          "metadata": {},
          "output_type": "execute_result"
        }
      ],
      "source": [
        "movie"
      ]
    },
    {
      "cell_type": "markdown",
      "metadata": {},
      "source": [
        "# DATA ANALYSIS"
      ]
    },
    {
      "cell_type": "markdown",
      "metadata": {},
      "source": [
        "# How many unique movies are in the dataset?\n",
        "# What is the average IMDb rating of all movies?\n",
        "# How many movies were released each year?\n",
        "# What is the most common genre in the dataset?\n",
        "# What is the most common language for movies?\n",
        "\n",
        "# How many movies are available on each streaming platform?\n",
        "# Which platform has the highest average IMDb rating?\n",
        "# Are there any movies available on all four platforms (Netflix, Hulu, Prime Video, Disney+)?\n",
        "# Which platform has the most movies with an IMDb rating above 8.0?\n",
        "# Which platform has the most movies released after 2015?\n",
        "\n",
        "# What are the top 5 genres with the most movies?\n",
        "# Which genre has the highest average IMDb rating?\n",
        "# What is the most popular genre on Netflix?\n",
        "# How many movies in the Comedy genre have an IMDb rating above 7.5?\n",
        "# What is the average IMDb rating for Horror movies?\n",
        "\n",
        "# Who are the top 5 directors with the most movies in the dataset?\n",
        "# Which director has the highest average IMDb rating?\n",
        "# Which director has made the most Action movies?\n",
        "# What is the average IMDb rating of movies directed by Christopher Nolan?\n",
        "# How many movies by Steven Spielberg are available on Prime Video?\n",
        "\n",
        "# What are the top 5 most common languages in the dataset?\n",
        "# What is the average IMDb rating of French movies?\n",
        "# How many movies are from the United States?\n",
        "# Which country has produced the most Drama movies?\n",
        "# What is the most common language for movies on Hulu?\n",
        "# IMDb and Rotten Tomatoes Score Analysis\n",
        "# What is the highest IMDb rating in the dataset, and which movie has it?\n",
        "# What is the lowest Rotten Tomatoes score, and which movie has it?\n",
        "# What is the correlation between IMDb ratings and Rotten Tomatoes scores?\n",
        "# How many movies have both IMDb rating above 8.0 and Rotten Tomatoes score above 90%?\n",
        "# Which platform has the highest average Rotten Tomatoes score?\n",
        "\n",
        "# What is the average runtime of all movies?\n",
        "# Which movie has the longest runtime?\n",
        "# Which genre tends to have the longest runtime on average?\n",
        "# How many movies have a runtime of less than 60 minutes?\n",
        "# What is the average IMDb rating for movies with a runtime above 150 minutes?"
      ]
    },
    {
      "cell_type": "code",
      "execution_count": 17,
      "metadata": {},
      "outputs": [
        {
          "data": {
            "text/html": [
              "<div>\n",
              "<style scoped>\n",
              "    .dataframe tbody tr th:only-of-type {\n",
              "        vertical-align: middle;\n",
              "    }\n",
              "\n",
              "    .dataframe tbody tr th {\n",
              "        vertical-align: top;\n",
              "    }\n",
              "\n",
              "    .dataframe thead th {\n",
              "        text-align: right;\n",
              "    }\n",
              "</style>\n",
              "<table border=\"1\" class=\"dataframe\">\n",
              "  <thead>\n",
              "    <tr style=\"text-align: right;\">\n",
              "      <th></th>\n",
              "      <th>ID</th>\n",
              "      <th>Title</th>\n",
              "      <th>Year</th>\n",
              "      <th>Age</th>\n",
              "      <th>IMDb</th>\n",
              "      <th>Rotten Tomatoes</th>\n",
              "      <th>Netflix</th>\n",
              "      <th>Hulu</th>\n",
              "      <th>Prime Video</th>\n",
              "      <th>Disney+</th>\n",
              "      <th>Type</th>\n",
              "      <th>Directors</th>\n",
              "      <th>Genres</th>\n",
              "      <th>Country</th>\n",
              "      <th>Language</th>\n",
              "      <th>Runtime</th>\n",
              "      <th>Runtime Category</th>\n",
              "    </tr>\n",
              "  </thead>\n",
              "  <tbody>\n",
              "    <tr>\n",
              "      <th>0</th>\n",
              "      <td>1</td>\n",
              "      <td>Inception</td>\n",
              "      <td>2010</td>\n",
              "      <td>13+</td>\n",
              "      <td>8.8</td>\n",
              "      <td>8.7</td>\n",
              "      <td>1</td>\n",
              "      <td>0</td>\n",
              "      <td>0</td>\n",
              "      <td>0</td>\n",
              "      <td>0</td>\n",
              "      <td>Christopher Nolan</td>\n",
              "      <td>Action,Adventure,Sci-Fi,Thriller</td>\n",
              "      <td>United States,United Kingdom</td>\n",
              "      <td>English,Japanese,French</td>\n",
              "      <td>148.000000</td>\n",
              "      <td>Long (120-180 min)</td>\n",
              "    </tr>\n",
              "    <tr>\n",
              "      <th>1</th>\n",
              "      <td>2</td>\n",
              "      <td>The Matrix</td>\n",
              "      <td>1999</td>\n",
              "      <td>18+</td>\n",
              "      <td>8.7</td>\n",
              "      <td>8.7</td>\n",
              "      <td>1</td>\n",
              "      <td>0</td>\n",
              "      <td>0</td>\n",
              "      <td>0</td>\n",
              "      <td>0</td>\n",
              "      <td>Lana Wachowski,Lilly Wachowski</td>\n",
              "      <td>Action,Sci-Fi</td>\n",
              "      <td>United States</td>\n",
              "      <td>English</td>\n",
              "      <td>136.000000</td>\n",
              "      <td>Long (120-180 min)</td>\n",
              "    </tr>\n",
              "    <tr>\n",
              "      <th>2</th>\n",
              "      <td>3</td>\n",
              "      <td>Avengers: Infinity War</td>\n",
              "      <td>2018</td>\n",
              "      <td>13+</td>\n",
              "      <td>8.5</td>\n",
              "      <td>8.4</td>\n",
              "      <td>1</td>\n",
              "      <td>0</td>\n",
              "      <td>0</td>\n",
              "      <td>0</td>\n",
              "      <td>0</td>\n",
              "      <td>Anthony Russo,Joe Russo</td>\n",
              "      <td>Action,Adventure,Sci-Fi</td>\n",
              "      <td>United States</td>\n",
              "      <td>English</td>\n",
              "      <td>149.000000</td>\n",
              "      <td>Long (120-180 min)</td>\n",
              "    </tr>\n",
              "    <tr>\n",
              "      <th>3</th>\n",
              "      <td>4</td>\n",
              "      <td>Back to the Future</td>\n",
              "      <td>1985</td>\n",
              "      <td>7+</td>\n",
              "      <td>8.5</td>\n",
              "      <td>9.6</td>\n",
              "      <td>1</td>\n",
              "      <td>0</td>\n",
              "      <td>0</td>\n",
              "      <td>0</td>\n",
              "      <td>0</td>\n",
              "      <td>Robert Zemeckis</td>\n",
              "      <td>Adventure,Comedy,Sci-Fi</td>\n",
              "      <td>United States</td>\n",
              "      <td>English</td>\n",
              "      <td>116.000000</td>\n",
              "      <td>Medium (60-120 min)</td>\n",
              "    </tr>\n",
              "    <tr>\n",
              "      <th>4</th>\n",
              "      <td>5</td>\n",
              "      <td>The Good, the Bad and the Ugly</td>\n",
              "      <td>1966</td>\n",
              "      <td>18+</td>\n",
              "      <td>8.8</td>\n",
              "      <td>9.7</td>\n",
              "      <td>1</td>\n",
              "      <td>0</td>\n",
              "      <td>1</td>\n",
              "      <td>0</td>\n",
              "      <td>0</td>\n",
              "      <td>Sergio Leone</td>\n",
              "      <td>Western</td>\n",
              "      <td>Italy,Spain,West Germany</td>\n",
              "      <td>Italian</td>\n",
              "      <td>161.000000</td>\n",
              "      <td>Long (120-180 min)</td>\n",
              "    </tr>\n",
              "    <tr>\n",
              "      <th>...</th>\n",
              "      <td>...</td>\n",
              "      <td>...</td>\n",
              "      <td>...</td>\n",
              "      <td>...</td>\n",
              "      <td>...</td>\n",
              "      <td>...</td>\n",
              "      <td>...</td>\n",
              "      <td>...</td>\n",
              "      <td>...</td>\n",
              "      <td>...</td>\n",
              "      <td>...</td>\n",
              "      <td>...</td>\n",
              "      <td>...</td>\n",
              "      <td>...</td>\n",
              "      <td>...</td>\n",
              "      <td>...</td>\n",
              "      <td>...</td>\n",
              "    </tr>\n",
              "    <tr>\n",
              "      <th>16739</th>\n",
              "      <td>16740</td>\n",
              "      <td>The Ghosts of Buxley Hall</td>\n",
              "      <td>1980</td>\n",
              "      <td>18+</td>\n",
              "      <td>6.2</td>\n",
              "      <td>6.5</td>\n",
              "      <td>0</td>\n",
              "      <td>0</td>\n",
              "      <td>0</td>\n",
              "      <td>1</td>\n",
              "      <td>0</td>\n",
              "      <td>Bruce Bilson</td>\n",
              "      <td>Comedy,Family,Fantasy,Horror</td>\n",
              "      <td>United States</td>\n",
              "      <td>English</td>\n",
              "      <td>120.000000</td>\n",
              "      <td>Long (120-180 min)</td>\n",
              "    </tr>\n",
              "    <tr>\n",
              "      <th>16740</th>\n",
              "      <td>16741</td>\n",
              "      <td>The Poof Point</td>\n",
              "      <td>2001</td>\n",
              "      <td>7+</td>\n",
              "      <td>4.7</td>\n",
              "      <td>6.5</td>\n",
              "      <td>0</td>\n",
              "      <td>0</td>\n",
              "      <td>0</td>\n",
              "      <td>1</td>\n",
              "      <td>0</td>\n",
              "      <td>Neal Israel</td>\n",
              "      <td>Comedy,Family,Sci-Fi</td>\n",
              "      <td>United States</td>\n",
              "      <td>English</td>\n",
              "      <td>90.000000</td>\n",
              "      <td>Medium (60-120 min)</td>\n",
              "    </tr>\n",
              "    <tr>\n",
              "      <th>16741</th>\n",
              "      <td>16742</td>\n",
              "      <td>Sharks of Lost Island</td>\n",
              "      <td>2013</td>\n",
              "      <td>18+</td>\n",
              "      <td>5.7</td>\n",
              "      <td>6.5</td>\n",
              "      <td>0</td>\n",
              "      <td>0</td>\n",
              "      <td>0</td>\n",
              "      <td>1</td>\n",
              "      <td>0</td>\n",
              "      <td>Neil Gelinas</td>\n",
              "      <td>Documentary</td>\n",
              "      <td>United States</td>\n",
              "      <td>English</td>\n",
              "      <td>93.413447</td>\n",
              "      <td>Medium (60-120 min)</td>\n",
              "    </tr>\n",
              "    <tr>\n",
              "      <th>16742</th>\n",
              "      <td>16743</td>\n",
              "      <td>Man Among Cheetahs</td>\n",
              "      <td>2017</td>\n",
              "      <td>18+</td>\n",
              "      <td>6.6</td>\n",
              "      <td>6.5</td>\n",
              "      <td>0</td>\n",
              "      <td>0</td>\n",
              "      <td>0</td>\n",
              "      <td>1</td>\n",
              "      <td>0</td>\n",
              "      <td>Richard Slater-Jones</td>\n",
              "      <td>Documentary</td>\n",
              "      <td>United States</td>\n",
              "      <td>English</td>\n",
              "      <td>93.413447</td>\n",
              "      <td>Medium (60-120 min)</td>\n",
              "    </tr>\n",
              "    <tr>\n",
              "      <th>16743</th>\n",
              "      <td>16744</td>\n",
              "      <td>In Beaver Valley</td>\n",
              "      <td>1950</td>\n",
              "      <td>18+</td>\n",
              "      <td>5.9</td>\n",
              "      <td>6.5</td>\n",
              "      <td>0</td>\n",
              "      <td>0</td>\n",
              "      <td>0</td>\n",
              "      <td>1</td>\n",
              "      <td>0</td>\n",
              "      <td>James Algar</td>\n",
              "      <td>Documentary,Short,Family</td>\n",
              "      <td>United States</td>\n",
              "      <td>English</td>\n",
              "      <td>32.000000</td>\n",
              "      <td>Short (&lt;60 min)</td>\n",
              "    </tr>\n",
              "  </tbody>\n",
              "</table>\n",
              "<p>16744 rows × 17 columns</p>\n",
              "</div>"
            ],
            "text/plain": [
              "          ID                           Title  Year  Age  IMDb  \\\n",
              "0          1                       Inception  2010  13+   8.8   \n",
              "1          2                      The Matrix  1999  18+   8.7   \n",
              "2          3          Avengers: Infinity War  2018  13+   8.5   \n",
              "3          4              Back to the Future  1985   7+   8.5   \n",
              "4          5  The Good, the Bad and the Ugly  1966  18+   8.8   \n",
              "...      ...                             ...   ...  ...   ...   \n",
              "16739  16740       The Ghosts of Buxley Hall  1980  18+   6.2   \n",
              "16740  16741                  The Poof Point  2001   7+   4.7   \n",
              "16741  16742           Sharks of Lost Island  2013  18+   5.7   \n",
              "16742  16743              Man Among Cheetahs  2017  18+   6.6   \n",
              "16743  16744                In Beaver Valley  1950  18+   5.9   \n",
              "\n",
              "       Rotten Tomatoes  Netflix  Hulu  Prime Video  Disney+  Type  \\\n",
              "0                  8.7        1     0            0        0     0   \n",
              "1                  8.7        1     0            0        0     0   \n",
              "2                  8.4        1     0            0        0     0   \n",
              "3                  9.6        1     0            0        0     0   \n",
              "4                  9.7        1     0            1        0     0   \n",
              "...                ...      ...   ...          ...      ...   ...   \n",
              "16739              6.5        0     0            0        1     0   \n",
              "16740              6.5        0     0            0        1     0   \n",
              "16741              6.5        0     0            0        1     0   \n",
              "16742              6.5        0     0            0        1     0   \n",
              "16743              6.5        0     0            0        1     0   \n",
              "\n",
              "                            Directors                            Genres  \\\n",
              "0                   Christopher Nolan  Action,Adventure,Sci-Fi,Thriller   \n",
              "1      Lana Wachowski,Lilly Wachowski                     Action,Sci-Fi   \n",
              "2             Anthony Russo,Joe Russo           Action,Adventure,Sci-Fi   \n",
              "3                     Robert Zemeckis           Adventure,Comedy,Sci-Fi   \n",
              "4                        Sergio Leone                           Western   \n",
              "...                               ...                               ...   \n",
              "16739                    Bruce Bilson      Comedy,Family,Fantasy,Horror   \n",
              "16740                     Neal Israel              Comedy,Family,Sci-Fi   \n",
              "16741                    Neil Gelinas                       Documentary   \n",
              "16742            Richard Slater-Jones                       Documentary   \n",
              "16743                     James Algar          Documentary,Short,Family   \n",
              "\n",
              "                            Country                 Language     Runtime  \\\n",
              "0      United States,United Kingdom  English,Japanese,French  148.000000   \n",
              "1                     United States                  English  136.000000   \n",
              "2                     United States                  English  149.000000   \n",
              "3                     United States                  English  116.000000   \n",
              "4          Italy,Spain,West Germany                  Italian  161.000000   \n",
              "...                             ...                      ...         ...   \n",
              "16739                 United States                  English  120.000000   \n",
              "16740                 United States                  English   90.000000   \n",
              "16741                 United States                  English   93.413447   \n",
              "16742                 United States                  English   93.413447   \n",
              "16743                 United States                  English   32.000000   \n",
              "\n",
              "          Runtime Category  \n",
              "0       Long (120-180 min)  \n",
              "1       Long (120-180 min)  \n",
              "2       Long (120-180 min)  \n",
              "3      Medium (60-120 min)  \n",
              "4       Long (120-180 min)  \n",
              "...                    ...  \n",
              "16739   Long (120-180 min)  \n",
              "16740  Medium (60-120 min)  \n",
              "16741  Medium (60-120 min)  \n",
              "16742  Medium (60-120 min)  \n",
              "16743      Short (<60 min)  \n",
              "\n",
              "[16744 rows x 17 columns]"
            ]
          },
          "execution_count": 17,
          "metadata": {},
          "output_type": "execute_result"
        }
      ],
      "source": [
        "movie"
      ]
    },
    {
      "cell_type": "code",
      "execution_count": 18,
      "metadata": {},
      "outputs": [
        {
          "data": {
            "text/plain": [
              "16744"
            ]
          },
          "execution_count": 18,
          "metadata": {},
          "output_type": "execute_result"
        }
      ],
      "source": [
        "m=movie['Title'].unique()\n",
        "m.shape[0]\n",
        "\n",
        "#or\n",
        "\n",
        "m=movie['Title'].nunique()\n",
        "m\n"
      ]
    },
    {
      "cell_type": "code",
      "execution_count": 19,
      "metadata": {},
      "outputs": [
        {
          "data": {
            "text/plain": [
              "np.float64(5.902657668418538)"
            ]
          },
          "execution_count": 19,
          "metadata": {},
          "output_type": "execute_result"
        }
      ],
      "source": [
        "# What is the average IMDb rating of all movies?\n",
        "movie['IMDb'].mean()"
      ]
    },
    {
      "cell_type": "code",
      "execution_count": 20,
      "metadata": {},
      "outputs": [
        {
          "data": {
            "text/plain": [
              "Year\n",
              "1902       1\n",
              "1912       1\n",
              "1913       2\n",
              "1915       4\n",
              "1916       1\n",
              "        ... \n",
              "2016    1206\n",
              "2017    1401\n",
              "2018    1285\n",
              "2019     689\n",
              "2020     147\n",
              "Name: Title, Length: 109, dtype: int64"
            ]
          },
          "execution_count": 20,
          "metadata": {},
          "output_type": "execute_result"
        }
      ],
      "source": [
        "\n",
        "gp=movie.groupby(['Year'])\n",
        "gp['Title'].count()\n"
      ]
    },
    {
      "cell_type": "code",
      "execution_count": 21,
      "metadata": {},
      "outputs": [
        {
          "data": {
            "text/plain": [
              "0    Drama\n",
              "Name: Genres, dtype: object"
            ]
          },
          "execution_count": 21,
          "metadata": {},
          "output_type": "execute_result"
        }
      ],
      "source": [
        "\n",
        "# What is the most common genre in the dataset?\n",
        "# gp=movie.groupby(['Genres'])\n",
        "# gp['Genres'].count().idxmax()\n",
        "\n",
        "\n",
        "x=movie['Genres'].str.split(',')\n",
        "\n",
        "#The .explode() function transforms lists into separate rows.\n",
        "Genres=x.explode()\n",
        "\n",
        "\n",
        "Genres_df=pd.merge(movie[['Title']],Genres,left_index=True,right_index=True)\n",
        "Genres_df.head()\n",
        "\n",
        "Genres_df['Genres'].mode()\n"
      ]
    },
    {
      "cell_type": "code",
      "execution_count": 22,
      "metadata": {},
      "outputs": [
        {
          "data": {
            "text/plain": [
              "'English'"
            ]
          },
          "execution_count": 22,
          "metadata": {},
          "output_type": "execute_result"
        }
      ],
      "source": [
        "# What is the most common language for movies?\n",
        "gp=movie.groupby(['Language'])\n",
        "gp['Language'].count().idxmax()"
      ]
    },
    {
      "cell_type": "code",
      "execution_count": 23,
      "metadata": {},
      "outputs": [
        {
          "data": {
            "text/plain": [
              "Netflix         3560\n",
              "Hulu             903\n",
              "Disney+          564\n",
              "Prime Video    12354\n",
              "dtype: int64"
            ]
          },
          "execution_count": 23,
          "metadata": {},
          "output_type": "execute_result"
        }
      ],
      "source": [
        "# How many movies are available on each streaming platform?\n",
        "platforms = ['Netflix', 'Hulu', 'Disney+', 'Prime Video']\n",
        "\n",
        "#1 indicates that the movie is available on that platform.\n",
        "#0 means it is not available.\n",
        "\n",
        "#The sum() function calculates the total count of movies available on each platform .\n",
        "movie_counts = movie[platforms].sum()\n",
        "\n",
        "movie_counts\n",
        "\n",
        "#Index = Streaming platform name.\n",
        "#Values = Total number of movies available on that platform.\n"
      ]
    },
    {
      "cell_type": "code",
      "execution_count": 24,
      "metadata": {},
      "outputs": [
        {
          "data": {
            "text/plain": [
              "'Disney+'"
            ]
          },
          "execution_count": 24,
          "metadata": {},
          "output_type": "execute_result"
        }
      ],
      "source": [
        "# Which platform has the highest average IMDb rating?\n",
        "\n",
        "Platforms_df\n",
        "\n",
        "gp=Platforms_df.groupby('Platform')\n",
        "gp['IMDb'].mean().idxmax()\n",
        "\n",
        "\n"
      ]
    },
    {
      "cell_type": "code",
      "execution_count": 25,
      "metadata": {},
      "outputs": [
        {
          "data": {
            "text/plain": [
              "0"
            ]
          },
          "execution_count": 25,
          "metadata": {},
          "output_type": "execute_result"
        }
      ],
      "source": [
        "# Are there any movies available on all four platforms (Netflix, Hulu, Prime Video, Disney+)?\n",
        "platforms = (movie['Netflix']==1) & (movie['Hulu']==1) & (movie['Prime Video']==1) & (movie['Disney+']==1)\n",
        "platforms = movie[(movie['Netflix']==1) & (movie['Hulu']==1) & (movie['Prime Video']==1) & (movie['Disney+']==1)]\n",
        "platforms.shape[0]\n",
        "\n",
        "#or\n",
        "\n",
        "platforms = movie[movie[['Netflix','Hulu','Prime Video','Disney+']].sum(axis=1)==4]\n",
        "platforms.shape[0]\n"
      ]
    },
    {
      "cell_type": "code",
      "execution_count": 26,
      "metadata": {},
      "outputs": [
        {
          "data": {
            "text/html": [
              "<div>\n",
              "<style scoped>\n",
              "    .dataframe tbody tr th:only-of-type {\n",
              "        vertical-align: middle;\n",
              "    }\n",
              "\n",
              "    .dataframe tbody tr th {\n",
              "        vertical-align: top;\n",
              "    }\n",
              "\n",
              "    .dataframe thead th {\n",
              "        text-align: right;\n",
              "    }\n",
              "</style>\n",
              "<table border=\"1\" class=\"dataframe\">\n",
              "  <thead>\n",
              "    <tr style=\"text-align: right;\">\n",
              "      <th></th>\n",
              "      <th>Platform</th>\n",
              "    </tr>\n",
              "  </thead>\n",
              "  <tbody>\n",
              "    <tr>\n",
              "      <th>0</th>\n",
              "      <td>Prime Video</td>\n",
              "    </tr>\n",
              "  </tbody>\n",
              "</table>\n",
              "</div>"
            ],
            "text/plain": [
              "      Platform\n",
              "0  Prime Video"
            ]
          },
          "execution_count": 26,
          "metadata": {},
          "output_type": "execute_result"
        }
      ],
      "source": [
        "# Which platform has the most movies with an IMDb rating above 8.0?\n",
        "Platforms_df\n",
        "\n",
        "cond = Platforms_df['IMDb']>8.0\n",
        "\n",
        "Platforms_df.loc[cond,['Platform']].mode()"
      ]
    },
    {
      "cell_type": "code",
      "execution_count": 27,
      "metadata": {},
      "outputs": [
        {
          "data": {
            "text/plain": [
              "'Prime Video'"
            ]
          },
          "execution_count": 27,
          "metadata": {},
          "output_type": "execute_result"
        }
      ],
      "source": [
        "# Which platform has the most movies released after 2015?\n",
        "\n",
        "# Assuming the release year column is named 'Year'\n",
        "df_post_2015 = movie[movie['Year'] > 2015]\n",
        "platforms = ['Netflix', 'Hulu', 'Prime Video', 'Disney+']\n",
        "platform_counts = df_post_2015[platforms].sum()\n",
        "platform_counts.idxmax()"
      ]
    },
    {
      "cell_type": "markdown",
      "metadata": {},
      "source": []
    },
    {
      "cell_type": "code",
      "execution_count": 28,
      "metadata": {},
      "outputs": [
        {
          "data": {
            "text/plain": [
              "0        1\n",
              "1        1\n",
              "2        1\n",
              "3        1\n",
              "4        2\n",
              "        ..\n",
              "16739    1\n",
              "16740    1\n",
              "16741    1\n",
              "16742    1\n",
              "16743    1\n",
              "Length: 16744, dtype: int64"
            ]
          },
          "execution_count": 28,
          "metadata": {},
          "output_type": "execute_result"
        }
      ],
      "source": [
        "z = movie.columns[[6,7,8,9]]\n",
        "movie[z].sum(1)\n",
        "\n"
      ]
    },
    {
      "cell_type": "code",
      "execution_count": 29,
      "metadata": {},
      "outputs": [
        {
          "data": {
            "text/html": [
              "<div>\n",
              "<style scoped>\n",
              "    .dataframe tbody tr th:only-of-type {\n",
              "        vertical-align: middle;\n",
              "    }\n",
              "\n",
              "    .dataframe tbody tr th {\n",
              "        vertical-align: top;\n",
              "    }\n",
              "\n",
              "    .dataframe thead th {\n",
              "        text-align: right;\n",
              "    }\n",
              "</style>\n",
              "<table border=\"1\" class=\"dataframe\">\n",
              "  <thead>\n",
              "    <tr style=\"text-align: right;\">\n",
              "      <th></th>\n",
              "      <th>Title</th>\n",
              "      <th>Genres</th>\n",
              "    </tr>\n",
              "  </thead>\n",
              "  <tbody>\n",
              "    <tr>\n",
              "      <th>0</th>\n",
              "      <td>Inception</td>\n",
              "      <td>Action</td>\n",
              "    </tr>\n",
              "    <tr>\n",
              "      <th>0</th>\n",
              "      <td>Inception</td>\n",
              "      <td>Adventure</td>\n",
              "    </tr>\n",
              "    <tr>\n",
              "      <th>0</th>\n",
              "      <td>Inception</td>\n",
              "      <td>Sci-Fi</td>\n",
              "    </tr>\n",
              "    <tr>\n",
              "      <th>0</th>\n",
              "      <td>Inception</td>\n",
              "      <td>Thriller</td>\n",
              "    </tr>\n",
              "    <tr>\n",
              "      <th>1</th>\n",
              "      <td>The Matrix</td>\n",
              "      <td>Action</td>\n",
              "    </tr>\n",
              "    <tr>\n",
              "      <th>...</th>\n",
              "      <td>...</td>\n",
              "      <td>...</td>\n",
              "    </tr>\n",
              "    <tr>\n",
              "      <th>16741</th>\n",
              "      <td>Sharks of Lost Island</td>\n",
              "      <td>Documentary</td>\n",
              "    </tr>\n",
              "    <tr>\n",
              "      <th>16742</th>\n",
              "      <td>Man Among Cheetahs</td>\n",
              "      <td>Documentary</td>\n",
              "    </tr>\n",
              "    <tr>\n",
              "      <th>16743</th>\n",
              "      <td>In Beaver Valley</td>\n",
              "      <td>Documentary</td>\n",
              "    </tr>\n",
              "    <tr>\n",
              "      <th>16743</th>\n",
              "      <td>In Beaver Valley</td>\n",
              "      <td>Short</td>\n",
              "    </tr>\n",
              "    <tr>\n",
              "      <th>16743</th>\n",
              "      <td>In Beaver Valley</td>\n",
              "      <td>Family</td>\n",
              "    </tr>\n",
              "  </tbody>\n",
              "</table>\n",
              "<p>39373 rows × 2 columns</p>\n",
              "</div>"
            ],
            "text/plain": [
              "                       Title       Genres\n",
              "0                  Inception       Action\n",
              "0                  Inception    Adventure\n",
              "0                  Inception       Sci-Fi\n",
              "0                  Inception     Thriller\n",
              "1                 The Matrix       Action\n",
              "...                      ...          ...\n",
              "16741  Sharks of Lost Island  Documentary\n",
              "16742     Man Among Cheetahs  Documentary\n",
              "16743       In Beaver Valley  Documentary\n",
              "16743       In Beaver Valley        Short\n",
              "16743       In Beaver Valley       Family\n",
              "\n",
              "[39373 rows x 2 columns]"
            ]
          },
          "execution_count": 29,
          "metadata": {},
          "output_type": "execute_result"
        }
      ],
      "source": [
        "Genres_df"
      ]
    },
    {
      "cell_type": "code",
      "execution_count": 30,
      "metadata": {},
      "outputs": [
        {
          "data": {
            "text/plain": [
              "Genres\n",
              "Drama          7227\n",
              "Comedy         4637\n",
              "Thriller       3354\n",
              "Action         2683\n",
              "Documentary    2546\n",
              "Name: count, dtype: int64"
            ]
          },
          "execution_count": 30,
          "metadata": {},
          "output_type": "execute_result"
        }
      ],
      "source": [
        "# What are the top 5 genres with the most movies?\n",
        "\n",
        "# top= movie['Genres'].dropna().str.split(',').explode()\n",
        "# top.value_counts().head()\n",
        "\n",
        "# ( groupby + count() ) = value_count()\n",
        "\n",
        "Genres_df['Genres'].value_counts().head()\n"
      ]
    },
    {
      "cell_type": "code",
      "execution_count": 31,
      "metadata": {},
      "outputs": [
        {
          "data": {
            "text/html": [
              "<div>\n",
              "<style scoped>\n",
              "    .dataframe tbody tr th:only-of-type {\n",
              "        vertical-align: middle;\n",
              "    }\n",
              "\n",
              "    .dataframe tbody tr th {\n",
              "        vertical-align: top;\n",
              "    }\n",
              "\n",
              "    .dataframe thead th {\n",
              "        text-align: right;\n",
              "    }\n",
              "</style>\n",
              "<table border=\"1\" class=\"dataframe\">\n",
              "  <thead>\n",
              "    <tr style=\"text-align: right;\">\n",
              "      <th></th>\n",
              "      <th>Title</th>\n",
              "      <th>Genres</th>\n",
              "    </tr>\n",
              "  </thead>\n",
              "  <tbody>\n",
              "    <tr>\n",
              "      <th>0</th>\n",
              "      <td>Inception</td>\n",
              "      <td>Action</td>\n",
              "    </tr>\n",
              "    <tr>\n",
              "      <th>0</th>\n",
              "      <td>Inception</td>\n",
              "      <td>Adventure</td>\n",
              "    </tr>\n",
              "    <tr>\n",
              "      <th>0</th>\n",
              "      <td>Inception</td>\n",
              "      <td>Sci-Fi</td>\n",
              "    </tr>\n",
              "    <tr>\n",
              "      <th>0</th>\n",
              "      <td>Inception</td>\n",
              "      <td>Thriller</td>\n",
              "    </tr>\n",
              "    <tr>\n",
              "      <th>1</th>\n",
              "      <td>The Matrix</td>\n",
              "      <td>Action</td>\n",
              "    </tr>\n",
              "    <tr>\n",
              "      <th>...</th>\n",
              "      <td>...</td>\n",
              "      <td>...</td>\n",
              "    </tr>\n",
              "    <tr>\n",
              "      <th>16741</th>\n",
              "      <td>Sharks of Lost Island</td>\n",
              "      <td>Documentary</td>\n",
              "    </tr>\n",
              "    <tr>\n",
              "      <th>16742</th>\n",
              "      <td>Man Among Cheetahs</td>\n",
              "      <td>Documentary</td>\n",
              "    </tr>\n",
              "    <tr>\n",
              "      <th>16743</th>\n",
              "      <td>In Beaver Valley</td>\n",
              "      <td>Documentary</td>\n",
              "    </tr>\n",
              "    <tr>\n",
              "      <th>16743</th>\n",
              "      <td>In Beaver Valley</td>\n",
              "      <td>Short</td>\n",
              "    </tr>\n",
              "    <tr>\n",
              "      <th>16743</th>\n",
              "      <td>In Beaver Valley</td>\n",
              "      <td>Family</td>\n",
              "    </tr>\n",
              "  </tbody>\n",
              "</table>\n",
              "<p>39373 rows × 2 columns</p>\n",
              "</div>"
            ],
            "text/plain": [
              "                       Title       Genres\n",
              "0                  Inception       Action\n",
              "0                  Inception    Adventure\n",
              "0                  Inception       Sci-Fi\n",
              "0                  Inception     Thriller\n",
              "1                 The Matrix       Action\n",
              "...                      ...          ...\n",
              "16741  Sharks of Lost Island  Documentary\n",
              "16742     Man Among Cheetahs  Documentary\n",
              "16743       In Beaver Valley  Documentary\n",
              "16743       In Beaver Valley        Short\n",
              "16743       In Beaver Valley       Family\n",
              "\n",
              "[39373 rows x 2 columns]"
            ]
          },
          "execution_count": 31,
          "metadata": {},
          "output_type": "execute_result"
        }
      ],
      "source": [
        "# Which genre has the highest average IMDb rating?\n",
        "\n",
        "Genres_df\n",
        "\n",
        "# gp = Genres_df.groupby('Genres')\n",
        "# gp['IMDb'].mean().idxmax()   \n"
      ]
    },
    {
      "cell_type": "code",
      "execution_count": 32,
      "metadata": {},
      "outputs": [
        {
          "data": {
            "text/plain": [
              "'Comedy'"
            ]
          },
          "execution_count": 32,
          "metadata": {},
          "output_type": "execute_result"
        }
      ],
      "source": [
        "# What is the most popular genre on Netflix?\n",
        "\n",
        "dd=pd.merge(Platforms_df,Genres_df)\n",
        "\n",
        "dd\n",
        "\n",
        "netflix_movies =dd[dd['Platform'] == 'Netflix']\n",
        "\n",
        "most_popular_genre = netflix_movies['Genres'].value_counts().idxmax()\n",
        "\n",
        "most_popular_genre\n"
      ]
    },
    {
      "cell_type": "code",
      "execution_count": 33,
      "metadata": {},
      "outputs": [
        {
          "data": {
            "text/plain": [
              "316"
            ]
          },
          "execution_count": 33,
          "metadata": {},
          "output_type": "execute_result"
        }
      ],
      "source": [
        "# How many movies in the Comedy genre have an IMDb rating above 7.5?\n",
        "\n",
        "comedy_movies = movie[movie['Genres'].str.contains('Comedy')]\n",
        "\n",
        "high_rated_comedy = comedy_movies[comedy_movies['IMDb'] > 7.5]\n",
        "\n",
        "high_rated_comedy.shape[0]    \n",
        "\n"
      ]
    },
    {
      "cell_type": "code",
      "execution_count": 34,
      "metadata": {},
      "outputs": [
        {
          "data": {
            "text/plain": [
              "np.float64(4.730713312130849)"
            ]
          },
          "execution_count": 34,
          "metadata": {},
          "output_type": "execute_result"
        }
      ],
      "source": [
        "# What is the average IMDb rating for Horror movies?\n",
        "\n",
        "horror_movies = movie[movie['Genres'].str.contains('Horror', na=False, case=False)]\n",
        "\n",
        "avg_imdb_horror = horror_movies['IMDb'].mean()\n",
        "\n",
        "avg_imdb_horror\n",
        "\n"
      ]
    },
    {
      "cell_type": "markdown",
      "metadata": {},
      "source": []
    },
    {
      "cell_type": "markdown",
      "metadata": {},
      "source": [
        "# Who are the top 5 directors with the most movies in the dataset?"
      ]
    },
    {
      "cell_type": "code",
      "execution_count": 35,
      "metadata": {},
      "outputs": [
        {
          "data": {
            "text/plain": [
              "Directors\n",
              "unknown         726\n",
              "Jay Chapman      36\n",
              "Joseph Kane      30\n",
              "Cheh Chang       26\n",
              "Sam Newfield     22\n",
              "Name: count, dtype: int64"
            ]
          },
          "execution_count": 35,
          "metadata": {},
          "output_type": "execute_result"
        }
      ],
      "source": [
        "\n",
        "Directors_df\n",
        "\n",
        "# top_directors = Directors_df.groupby(['Directors'])\n",
        "# top_directors['Directors'].count()\n",
        "\n",
        "\n",
        "top_directors = movie['Directors'].value_counts().head(5)\n",
        "top_directors\n",
        "\n"
      ]
    },
    {
      "cell_type": "markdown",
      "metadata": {},
      "source": [
        "# Which director has the highest average IMDb rating?"
      ]
    },
    {
      "cell_type": "code",
      "execution_count": 36,
      "metadata": {},
      "outputs": [
        {
          "data": {
            "text/plain": [
              "'Danny Wu'"
            ]
          },
          "execution_count": 36,
          "metadata": {},
          "output_type": "execute_result"
        }
      ],
      "source": [
        "\n",
        "df= Directors_df.groupby(['Directors'])\n",
        "df['IMDb'].mean().idxmax()"
      ]
    },
    {
      "cell_type": "markdown",
      "metadata": {},
      "source": [
        "# Which director has made the most Action movies?"
      ]
    },
    {
      "cell_type": "code",
      "execution_count": 37,
      "metadata": {},
      "outputs": [],
      "source": [
        "df = movie[movie['Genres'].str.contains('Action')]\n"
      ]
    },
    {
      "cell_type": "markdown",
      "metadata": {},
      "source": [
        "# What are the top 5 most common languages in the dataset?"
      ]
    },
    {
      "cell_type": "code",
      "execution_count": 38,
      "metadata": {},
      "outputs": [
        {
          "data": {
            "text/plain": [
              "Language\n",
              "English    13233\n",
              "Spanish      872\n",
              "French       799\n",
              "Hindi        731\n",
              "unknown      614\n",
              "Name: count, dtype: int64"
            ]
          },
          "execution_count": 38,
          "metadata": {},
          "output_type": "execute_result"
        }
      ],
      "source": [
        "Languages_df\n",
        "top_languages = Languages_df['Language'].value_counts().head(5)\n",
        "top_languages"
      ]
    },
    {
      "cell_type": "markdown",
      "metadata": {},
      "source": [
        "# What is the average IMDb rating of French movies?"
      ]
    },
    {
      "cell_type": "code",
      "execution_count": 39,
      "metadata": {},
      "outputs": [
        {
          "data": {
            "text/plain": [
              "np.float64(6.36145181476846)"
            ]
          },
          "execution_count": 39,
          "metadata": {},
          "output_type": "execute_result"
        }
      ],
      "source": [
        "Languages_df\n",
        "avg_imdb_french = Languages_df[Languages_df['Language'] == 'French']['IMDb'].mean()\n",
        "avg_imdb_french"
      ]
    },
    {
      "cell_type": "markdown",
      "metadata": {},
      "source": [
        "# How many movies are from the United States?"
      ]
    },
    {
      "cell_type": "markdown",
      "metadata": {},
      "source": []
    },
    {
      "cell_type": "code",
      "execution_count": 40,
      "metadata": {},
      "outputs": [
        {
          "data": {
            "text/plain": [
              "10486"
            ]
          },
          "execution_count": 40,
          "metadata": {},
          "output_type": "execute_result"
        }
      ],
      "source": [
        "Country_split = movie['Country'].str.split(',')\n",
        "country_cf=Country_split.explode()\n",
        "country_cf\n",
        "\n",
        "Country_df = pd.merge(movie[['Title', 'IMDb']],country_cf, left_index=True, right_index=True)\n",
        "Country_df.head()\n",
        "\n",
        "\n",
        "us_movies_count = Country_df[Country_df['Country'] == 'United States'].shape[0]\n",
        "us_movies_count"
      ]
    },
    {
      "cell_type": "markdown",
      "metadata": {},
      "source": [
        "# Which country has produced the most Drama movies?\n"
      ]
    },
    {
      "cell_type": "code",
      "execution_count": 41,
      "metadata": {},
      "outputs": [
        {
          "data": {
            "text/plain": [
              "'The Bears and I'"
            ]
          },
          "execution_count": 41,
          "metadata": {},
          "output_type": "execute_result"
        }
      ],
      "source": [
        "Genres_df\n",
        "most_drama_country = Genres_df[Genres_df['Genres'].str.contains(\"Drama\", na=False)]\n",
        "most_drama_country['Title'].value_counts().idxmax()"
      ]
    },
    {
      "cell_type": "markdown",
      "metadata": {},
      "source": [
        "# What is the most common language for movies on Hulu?\n"
      ]
    },
    {
      "cell_type": "code",
      "execution_count": 42,
      "metadata": {},
      "outputs": [
        {
          "data": {
            "text/plain": [
              "'English'"
            ]
          },
          "execution_count": 42,
          "metadata": {},
          "output_type": "execute_result"
        }
      ],
      "source": [
        "AB= pd.merge(Platforms_df,Languages_df)\n",
        "AB\n",
        "\n",
        "hulu_common_language = AB[AB['Platform'] == 'Hulu']['Language'].value_counts().idxmax()\n",
        "hulu_common_language"
      ]
    },
    {
      "cell_type": "markdown",
      "metadata": {},
      "source": [
        "# IMDb and Rotten Tomatoes Score Analysis"
      ]
    },
    {
      "cell_type": "code",
      "execution_count": null,
      "metadata": {},
      "outputs": [],
      "source": []
    },
    {
      "cell_type": "markdown",
      "metadata": {},
      "source": [
        "# What is the highest IMDb rating in the dataset, and which movie has it?\n"
      ]
    },
    {
      "cell_type": "code",
      "execution_count": 43,
      "metadata": {},
      "outputs": [
        {
          "data": {
            "text/plain": [
              "Title    My Next Guest with David Letterman and Shah Ru...\n",
              "IMDb                                                   9.3\n",
              "Name: 1971, dtype: object"
            ]
          },
          "execution_count": 43,
          "metadata": {},
          "output_type": "execute_result"
        }
      ],
      "source": [
        "AB\n",
        "\n",
        "highest_imdb_movie = AB.loc[AB['IMDb'].idxmax(), ['Title', 'IMDb']]\n",
        "highest_imdb_movie"
      ]
    },
    {
      "cell_type": "markdown",
      "metadata": {},
      "source": [
        "# What is the lowest Rotten Tomatoes score, and which movie has it?\n"
      ]
    },
    {
      "cell_type": "code",
      "execution_count": 44,
      "metadata": {},
      "outputs": [],
      "source": [
        "# Platforms=Platforms_df['Rotten Tomatoes'].str.strip('%')\n",
        "# Platforms\n",
        "\n",
        "# lowest_rt_movie = Platforms_df.loc[Platforms_df['Rotten Tomatoes'].idxmin(), ['Title', 'Rotten_Tomatoes']]"
      ]
    },
    {
      "cell_type": "markdown",
      "metadata": {},
      "source": [
        "# What is the correlation between IMDb ratings and Rotten Tomatoes scores?"
      ]
    },
    {
      "cell_type": "code",
      "execution_count": 45,
      "metadata": {},
      "outputs": [
        {
          "data": {
            "text/plain": [
              "np.float64(0.2658882141836595)"
            ]
          },
          "execution_count": 45,
          "metadata": {},
          "output_type": "execute_result"
        }
      ],
      "source": [
        "Platforms_df\n",
        "\n",
        "correlation = Platforms_df[['IMDb', 'Rotten Tomatoes']].corr().iloc[0,1]\n",
        "correlation"
      ]
    },
    {
      "cell_type": "markdown",
      "metadata": {},
      "source": []
    },
    {
      "cell_type": "markdown",
      "metadata": {},
      "source": [
        "# How many movies have both IMDb rating above 8.0 and Rotten Tomatoes score above 90%?\n"
      ]
    },
    {
      "cell_type": "code",
      "execution_count": 46,
      "metadata": {},
      "outputs": [
        {
          "name": "stderr",
          "output_type": "stream",
          "text": [
            "C:\\Users\\deepa\\AppData\\Local\\Temp\\ipykernel_20904\\2670243952.py:1: UserWarning: Boolean Series key will be reindexed to match DataFrame index.\n",
            "  high_rated_movies_count = Platforms_df[(Platforms_df['IMDb'] > 8.0) & (df['Rotten Tomatoes'] > 90)].shape[0]\n"
          ]
        },
        {
          "data": {
            "text/html": [
              "<div>\n",
              "<style scoped>\n",
              "    .dataframe tbody tr th:only-of-type {\n",
              "        vertical-align: middle;\n",
              "    }\n",
              "\n",
              "    .dataframe tbody tr th {\n",
              "        vertical-align: top;\n",
              "    }\n",
              "\n",
              "    .dataframe thead th {\n",
              "        text-align: right;\n",
              "    }\n",
              "</style>\n",
              "<table border=\"1\" class=\"dataframe\">\n",
              "  <thead>\n",
              "    <tr style=\"text-align: right;\">\n",
              "      <th></th>\n",
              "      <th>ID</th>\n",
              "      <th>Title</th>\n",
              "      <th>Year</th>\n",
              "      <th>Age</th>\n",
              "      <th>IMDb</th>\n",
              "      <th>Rotten Tomatoes</th>\n",
              "      <th>Netflix</th>\n",
              "      <th>Hulu</th>\n",
              "      <th>Prime Video</th>\n",
              "      <th>Disney+</th>\n",
              "      <th>Type</th>\n",
              "      <th>Directors</th>\n",
              "      <th>Genres</th>\n",
              "      <th>Country</th>\n",
              "      <th>Language</th>\n",
              "      <th>Runtime</th>\n",
              "      <th>Runtime Category</th>\n",
              "    </tr>\n",
              "  </thead>\n",
              "  <tbody>\n",
              "    <tr>\n",
              "      <th>0</th>\n",
              "      <td>1</td>\n",
              "      <td>Inception</td>\n",
              "      <td>2010</td>\n",
              "      <td>13+</td>\n",
              "      <td>8.8</td>\n",
              "      <td>8.7</td>\n",
              "      <td>1</td>\n",
              "      <td>0</td>\n",
              "      <td>0</td>\n",
              "      <td>0</td>\n",
              "      <td>0</td>\n",
              "      <td>Christopher Nolan</td>\n",
              "      <td>Action,Adventure,Sci-Fi,Thriller</td>\n",
              "      <td>United States,United Kingdom</td>\n",
              "      <td>English,Japanese,French</td>\n",
              "      <td>148.000000</td>\n",
              "      <td>Long (120-180 min)</td>\n",
              "    </tr>\n",
              "    <tr>\n",
              "      <th>1</th>\n",
              "      <td>2</td>\n",
              "      <td>The Matrix</td>\n",
              "      <td>1999</td>\n",
              "      <td>18+</td>\n",
              "      <td>8.7</td>\n",
              "      <td>8.7</td>\n",
              "      <td>1</td>\n",
              "      <td>0</td>\n",
              "      <td>0</td>\n",
              "      <td>0</td>\n",
              "      <td>0</td>\n",
              "      <td>Lana Wachowski,Lilly Wachowski</td>\n",
              "      <td>Action,Sci-Fi</td>\n",
              "      <td>United States</td>\n",
              "      <td>English</td>\n",
              "      <td>136.000000</td>\n",
              "      <td>Long (120-180 min)</td>\n",
              "    </tr>\n",
              "    <tr>\n",
              "      <th>2</th>\n",
              "      <td>3</td>\n",
              "      <td>Avengers: Infinity War</td>\n",
              "      <td>2018</td>\n",
              "      <td>13+</td>\n",
              "      <td>8.5</td>\n",
              "      <td>8.4</td>\n",
              "      <td>1</td>\n",
              "      <td>0</td>\n",
              "      <td>0</td>\n",
              "      <td>0</td>\n",
              "      <td>0</td>\n",
              "      <td>Anthony Russo,Joe Russo</td>\n",
              "      <td>Action,Adventure,Sci-Fi</td>\n",
              "      <td>United States</td>\n",
              "      <td>English</td>\n",
              "      <td>149.000000</td>\n",
              "      <td>Long (120-180 min)</td>\n",
              "    </tr>\n",
              "    <tr>\n",
              "      <th>3</th>\n",
              "      <td>4</td>\n",
              "      <td>Back to the Future</td>\n",
              "      <td>1985</td>\n",
              "      <td>7+</td>\n",
              "      <td>8.5</td>\n",
              "      <td>9.6</td>\n",
              "      <td>1</td>\n",
              "      <td>0</td>\n",
              "      <td>0</td>\n",
              "      <td>0</td>\n",
              "      <td>0</td>\n",
              "      <td>Robert Zemeckis</td>\n",
              "      <td>Adventure,Comedy,Sci-Fi</td>\n",
              "      <td>United States</td>\n",
              "      <td>English</td>\n",
              "      <td>116.000000</td>\n",
              "      <td>Medium (60-120 min)</td>\n",
              "    </tr>\n",
              "    <tr>\n",
              "      <th>4</th>\n",
              "      <td>5</td>\n",
              "      <td>The Good, the Bad and the Ugly</td>\n",
              "      <td>1966</td>\n",
              "      <td>18+</td>\n",
              "      <td>8.8</td>\n",
              "      <td>9.7</td>\n",
              "      <td>1</td>\n",
              "      <td>0</td>\n",
              "      <td>1</td>\n",
              "      <td>0</td>\n",
              "      <td>0</td>\n",
              "      <td>Sergio Leone</td>\n",
              "      <td>Western</td>\n",
              "      <td>Italy,Spain,West Germany</td>\n",
              "      <td>Italian</td>\n",
              "      <td>161.000000</td>\n",
              "      <td>Long (120-180 min)</td>\n",
              "    </tr>\n",
              "    <tr>\n",
              "      <th>...</th>\n",
              "      <td>...</td>\n",
              "      <td>...</td>\n",
              "      <td>...</td>\n",
              "      <td>...</td>\n",
              "      <td>...</td>\n",
              "      <td>...</td>\n",
              "      <td>...</td>\n",
              "      <td>...</td>\n",
              "      <td>...</td>\n",
              "      <td>...</td>\n",
              "      <td>...</td>\n",
              "      <td>...</td>\n",
              "      <td>...</td>\n",
              "      <td>...</td>\n",
              "      <td>...</td>\n",
              "      <td>...</td>\n",
              "      <td>...</td>\n",
              "    </tr>\n",
              "    <tr>\n",
              "      <th>16739</th>\n",
              "      <td>16740</td>\n",
              "      <td>The Ghosts of Buxley Hall</td>\n",
              "      <td>1980</td>\n",
              "      <td>18+</td>\n",
              "      <td>6.2</td>\n",
              "      <td>6.5</td>\n",
              "      <td>0</td>\n",
              "      <td>0</td>\n",
              "      <td>0</td>\n",
              "      <td>1</td>\n",
              "      <td>0</td>\n",
              "      <td>Bruce Bilson</td>\n",
              "      <td>Comedy,Family,Fantasy,Horror</td>\n",
              "      <td>United States</td>\n",
              "      <td>English</td>\n",
              "      <td>120.000000</td>\n",
              "      <td>Long (120-180 min)</td>\n",
              "    </tr>\n",
              "    <tr>\n",
              "      <th>16740</th>\n",
              "      <td>16741</td>\n",
              "      <td>The Poof Point</td>\n",
              "      <td>2001</td>\n",
              "      <td>7+</td>\n",
              "      <td>4.7</td>\n",
              "      <td>6.5</td>\n",
              "      <td>0</td>\n",
              "      <td>0</td>\n",
              "      <td>0</td>\n",
              "      <td>1</td>\n",
              "      <td>0</td>\n",
              "      <td>Neal Israel</td>\n",
              "      <td>Comedy,Family,Sci-Fi</td>\n",
              "      <td>United States</td>\n",
              "      <td>English</td>\n",
              "      <td>90.000000</td>\n",
              "      <td>Medium (60-120 min)</td>\n",
              "    </tr>\n",
              "    <tr>\n",
              "      <th>16741</th>\n",
              "      <td>16742</td>\n",
              "      <td>Sharks of Lost Island</td>\n",
              "      <td>2013</td>\n",
              "      <td>18+</td>\n",
              "      <td>5.7</td>\n",
              "      <td>6.5</td>\n",
              "      <td>0</td>\n",
              "      <td>0</td>\n",
              "      <td>0</td>\n",
              "      <td>1</td>\n",
              "      <td>0</td>\n",
              "      <td>Neil Gelinas</td>\n",
              "      <td>Documentary</td>\n",
              "      <td>United States</td>\n",
              "      <td>English</td>\n",
              "      <td>93.413447</td>\n",
              "      <td>Medium (60-120 min)</td>\n",
              "    </tr>\n",
              "    <tr>\n",
              "      <th>16742</th>\n",
              "      <td>16743</td>\n",
              "      <td>Man Among Cheetahs</td>\n",
              "      <td>2017</td>\n",
              "      <td>18+</td>\n",
              "      <td>6.6</td>\n",
              "      <td>6.5</td>\n",
              "      <td>0</td>\n",
              "      <td>0</td>\n",
              "      <td>0</td>\n",
              "      <td>1</td>\n",
              "      <td>0</td>\n",
              "      <td>Richard Slater-Jones</td>\n",
              "      <td>Documentary</td>\n",
              "      <td>United States</td>\n",
              "      <td>English</td>\n",
              "      <td>93.413447</td>\n",
              "      <td>Medium (60-120 min)</td>\n",
              "    </tr>\n",
              "    <tr>\n",
              "      <th>16743</th>\n",
              "      <td>16744</td>\n",
              "      <td>In Beaver Valley</td>\n",
              "      <td>1950</td>\n",
              "      <td>18+</td>\n",
              "      <td>5.9</td>\n",
              "      <td>6.5</td>\n",
              "      <td>0</td>\n",
              "      <td>0</td>\n",
              "      <td>0</td>\n",
              "      <td>1</td>\n",
              "      <td>0</td>\n",
              "      <td>James Algar</td>\n",
              "      <td>Documentary,Short,Family</td>\n",
              "      <td>United States</td>\n",
              "      <td>English</td>\n",
              "      <td>32.000000</td>\n",
              "      <td>Short (&lt;60 min)</td>\n",
              "    </tr>\n",
              "  </tbody>\n",
              "</table>\n",
              "<p>16744 rows × 17 columns</p>\n",
              "</div>"
            ],
            "text/plain": [
              "          ID                           Title  Year  Age  IMDb  \\\n",
              "0          1                       Inception  2010  13+   8.8   \n",
              "1          2                      The Matrix  1999  18+   8.7   \n",
              "2          3          Avengers: Infinity War  2018  13+   8.5   \n",
              "3          4              Back to the Future  1985   7+   8.5   \n",
              "4          5  The Good, the Bad and the Ugly  1966  18+   8.8   \n",
              "...      ...                             ...   ...  ...   ...   \n",
              "16739  16740       The Ghosts of Buxley Hall  1980  18+   6.2   \n",
              "16740  16741                  The Poof Point  2001   7+   4.7   \n",
              "16741  16742           Sharks of Lost Island  2013  18+   5.7   \n",
              "16742  16743              Man Among Cheetahs  2017  18+   6.6   \n",
              "16743  16744                In Beaver Valley  1950  18+   5.9   \n",
              "\n",
              "       Rotten Tomatoes  Netflix  Hulu  Prime Video  Disney+  Type  \\\n",
              "0                  8.7        1     0            0        0     0   \n",
              "1                  8.7        1     0            0        0     0   \n",
              "2                  8.4        1     0            0        0     0   \n",
              "3                  9.6        1     0            0        0     0   \n",
              "4                  9.7        1     0            1        0     0   \n",
              "...                ...      ...   ...          ...      ...   ...   \n",
              "16739              6.5        0     0            0        1     0   \n",
              "16740              6.5        0     0            0        1     0   \n",
              "16741              6.5        0     0            0        1     0   \n",
              "16742              6.5        0     0            0        1     0   \n",
              "16743              6.5        0     0            0        1     0   \n",
              "\n",
              "                            Directors                            Genres  \\\n",
              "0                   Christopher Nolan  Action,Adventure,Sci-Fi,Thriller   \n",
              "1      Lana Wachowski,Lilly Wachowski                     Action,Sci-Fi   \n",
              "2             Anthony Russo,Joe Russo           Action,Adventure,Sci-Fi   \n",
              "3                     Robert Zemeckis           Adventure,Comedy,Sci-Fi   \n",
              "4                        Sergio Leone                           Western   \n",
              "...                               ...                               ...   \n",
              "16739                    Bruce Bilson      Comedy,Family,Fantasy,Horror   \n",
              "16740                     Neal Israel              Comedy,Family,Sci-Fi   \n",
              "16741                    Neil Gelinas                       Documentary   \n",
              "16742            Richard Slater-Jones                       Documentary   \n",
              "16743                     James Algar          Documentary,Short,Family   \n",
              "\n",
              "                            Country                 Language     Runtime  \\\n",
              "0      United States,United Kingdom  English,Japanese,French  148.000000   \n",
              "1                     United States                  English  136.000000   \n",
              "2                     United States                  English  149.000000   \n",
              "3                     United States                  English  116.000000   \n",
              "4          Italy,Spain,West Germany                  Italian  161.000000   \n",
              "...                             ...                      ...         ...   \n",
              "16739                 United States                  English  120.000000   \n",
              "16740                 United States                  English   90.000000   \n",
              "16741                 United States                  English   93.413447   \n",
              "16742                 United States                  English   93.413447   \n",
              "16743                 United States                  English   32.000000   \n",
              "\n",
              "          Runtime Category  \n",
              "0       Long (120-180 min)  \n",
              "1       Long (120-180 min)  \n",
              "2       Long (120-180 min)  \n",
              "3      Medium (60-120 min)  \n",
              "4       Long (120-180 min)  \n",
              "...                    ...  \n",
              "16739   Long (120-180 min)  \n",
              "16740  Medium (60-120 min)  \n",
              "16741  Medium (60-120 min)  \n",
              "16742  Medium (60-120 min)  \n",
              "16743      Short (<60 min)  \n",
              "\n",
              "[16744 rows x 17 columns]"
            ]
          },
          "execution_count": 46,
          "metadata": {},
          "output_type": "execute_result"
        }
      ],
      "source": [
        "\n",
        "\n",
        "high_rated_movies_count = Platforms_df[(Platforms_df['IMDb'] > 8.0) & (df['Rotten Tomatoes'] > 90)].shape[0]\n",
        "\n",
        "movie"
      ]
    },
    {
      "cell_type": "markdown",
      "metadata": {},
      "source": [
        "# Which platform has the highest average Rotten Tomatoes score?\n",
        "\n"
      ]
    },
    {
      "cell_type": "markdown",
      "metadata": {},
      "source": []
    },
    {
      "cell_type": "code",
      "execution_count": 47,
      "metadata": {},
      "outputs": [
        {
          "data": {
            "text/plain": [
              "'Hulu'"
            ]
          },
          "execution_count": 47,
          "metadata": {},
          "output_type": "execute_result"
        }
      ],
      "source": [
        "best_platform_rt = Platforms_df.groupby('Platform')['Rotten Tomatoes'].mean().idxmax()\n",
        "best_platform_rt"
      ]
    },
    {
      "cell_type": "markdown",
      "metadata": {},
      "source": [
        "# What is the average runtime of all movies?"
      ]
    },
    {
      "cell_type": "code",
      "execution_count": 48,
      "metadata": {},
      "outputs": [
        {
          "data": {
            "text/plain": [
              "np.float64(93.4134472511144)"
            ]
          },
          "execution_count": 48,
          "metadata": {},
          "output_type": "execute_result"
        }
      ],
      "source": [
        "average_runtime = movie['Runtime'].mean()\n",
        "average_runtime"
      ]
    },
    {
      "cell_type": "markdown",
      "metadata": {},
      "source": [
        "# Which movie has the longest runtime?\n"
      ]
    },
    {
      "cell_type": "code",
      "execution_count": 49,
      "metadata": {},
      "outputs": [
        {
          "data": {
            "text/plain": [
              "Title      Colorado\n",
              "Runtime      1256.0\n",
              "Name: 13179, dtype: object"
            ]
          },
          "execution_count": 49,
          "metadata": {},
          "output_type": "execute_result"
        }
      ],
      "source": [
        "longest_runtime_movie = movie.loc[movie['Runtime'].idxmax(), ['Title', 'Runtime']]\n",
        "longest_runtime_movie"
      ]
    },
    {
      "cell_type": "markdown",
      "metadata": {},
      "source": [
        "# Which genre tends to have the longest runtime on average?\n"
      ]
    },
    {
      "cell_type": "code",
      "execution_count": 50,
      "metadata": {},
      "outputs": [],
      "source": [
        "# Genres_df\n",
        "\n",
        "# longest_runtime_genre = Genres_df.groupby('Genres')['Runtime'].mean().idxmax()\n",
        "# longest_runtime_genre"
      ]
    },
    {
      "cell_type": "markdown",
      "metadata": {},
      "source": [
        "# How many movies have a runtime of less than 60 minutes?\n"
      ]
    },
    {
      "cell_type": "code",
      "execution_count": 51,
      "metadata": {},
      "outputs": [
        {
          "ename": "KeyError",
          "evalue": "'Runtime'",
          "output_type": "error",
          "traceback": [
            "\u001b[1;31m---------------------------------------------------------------------------\u001b[0m",
            "\u001b[1;31mKeyError\u001b[0m                                  Traceback (most recent call last)",
            "File \u001b[1;32mc:\\Users\\deepa\\AppData\\Local\\Programs\\Python\\Python313\\Lib\\site-packages\\pandas\\core\\indexes\\base.py:3805\u001b[0m, in \u001b[0;36mIndex.get_loc\u001b[1;34m(self, key)\u001b[0m\n\u001b[0;32m   3804\u001b[0m \u001b[38;5;28;01mtry\u001b[39;00m:\n\u001b[1;32m-> 3805\u001b[0m     \u001b[38;5;28;01mreturn\u001b[39;00m \u001b[38;5;28;43mself\u001b[39;49m\u001b[38;5;241;43m.\u001b[39;49m\u001b[43m_engine\u001b[49m\u001b[38;5;241;43m.\u001b[39;49m\u001b[43mget_loc\u001b[49m\u001b[43m(\u001b[49m\u001b[43mcasted_key\u001b[49m\u001b[43m)\u001b[49m\n\u001b[0;32m   3806\u001b[0m \u001b[38;5;28;01mexcept\u001b[39;00m \u001b[38;5;167;01mKeyError\u001b[39;00m \u001b[38;5;28;01mas\u001b[39;00m err:\n",
            "File \u001b[1;32mindex.pyx:167\u001b[0m, in \u001b[0;36mpandas._libs.index.IndexEngine.get_loc\u001b[1;34m()\u001b[0m\n",
            "File \u001b[1;32mindex.pyx:196\u001b[0m, in \u001b[0;36mpandas._libs.index.IndexEngine.get_loc\u001b[1;34m()\u001b[0m\n",
            "File \u001b[1;32mpandas\\\\_libs\\\\hashtable_class_helper.pxi:7081\u001b[0m, in \u001b[0;36mpandas._libs.hashtable.PyObjectHashTable.get_item\u001b[1;34m()\u001b[0m\n",
            "File \u001b[1;32mpandas\\\\_libs\\\\hashtable_class_helper.pxi:7089\u001b[0m, in \u001b[0;36mpandas._libs.hashtable.PyObjectHashTable.get_item\u001b[1;34m()\u001b[0m\n",
            "\u001b[1;31mKeyError\u001b[0m: 'Runtime'",
            "\nThe above exception was the direct cause of the following exception:\n",
            "\u001b[1;31mKeyError\u001b[0m                                  Traceback (most recent call last)",
            "Cell \u001b[1;32mIn[51], line 1\u001b[0m\n\u001b[1;32m----> 1\u001b[0m short_movies_count \u001b[38;5;241m=\u001b[39m Genres_df[\u001b[43mGenres_df\u001b[49m\u001b[43m[\u001b[49m\u001b[38;5;124;43m'\u001b[39;49m\u001b[38;5;124;43mRuntime\u001b[39;49m\u001b[38;5;124;43m'\u001b[39;49m\u001b[43m]\u001b[49m \u001b[38;5;241m<\u001b[39m \u001b[38;5;241m60\u001b[39m]\u001b[38;5;241m.\u001b[39mshape[\u001b[38;5;241m0\u001b[39m]\n\u001b[0;32m      2\u001b[0m short_movies_count\n",
            "File \u001b[1;32mc:\\Users\\deepa\\AppData\\Local\\Programs\\Python\\Python313\\Lib\\site-packages\\pandas\\core\\frame.py:4102\u001b[0m, in \u001b[0;36mDataFrame.__getitem__\u001b[1;34m(self, key)\u001b[0m\n\u001b[0;32m   4100\u001b[0m \u001b[38;5;28;01mif\u001b[39;00m \u001b[38;5;28mself\u001b[39m\u001b[38;5;241m.\u001b[39mcolumns\u001b[38;5;241m.\u001b[39mnlevels \u001b[38;5;241m>\u001b[39m \u001b[38;5;241m1\u001b[39m:\n\u001b[0;32m   4101\u001b[0m     \u001b[38;5;28;01mreturn\u001b[39;00m \u001b[38;5;28mself\u001b[39m\u001b[38;5;241m.\u001b[39m_getitem_multilevel(key)\n\u001b[1;32m-> 4102\u001b[0m indexer \u001b[38;5;241m=\u001b[39m \u001b[38;5;28;43mself\u001b[39;49m\u001b[38;5;241;43m.\u001b[39;49m\u001b[43mcolumns\u001b[49m\u001b[38;5;241;43m.\u001b[39;49m\u001b[43mget_loc\u001b[49m\u001b[43m(\u001b[49m\u001b[43mkey\u001b[49m\u001b[43m)\u001b[49m\n\u001b[0;32m   4103\u001b[0m \u001b[38;5;28;01mif\u001b[39;00m is_integer(indexer):\n\u001b[0;32m   4104\u001b[0m     indexer \u001b[38;5;241m=\u001b[39m [indexer]\n",
            "File \u001b[1;32mc:\\Users\\deepa\\AppData\\Local\\Programs\\Python\\Python313\\Lib\\site-packages\\pandas\\core\\indexes\\base.py:3812\u001b[0m, in \u001b[0;36mIndex.get_loc\u001b[1;34m(self, key)\u001b[0m\n\u001b[0;32m   3807\u001b[0m     \u001b[38;5;28;01mif\u001b[39;00m \u001b[38;5;28misinstance\u001b[39m(casted_key, \u001b[38;5;28mslice\u001b[39m) \u001b[38;5;129;01mor\u001b[39;00m (\n\u001b[0;32m   3808\u001b[0m         \u001b[38;5;28misinstance\u001b[39m(casted_key, abc\u001b[38;5;241m.\u001b[39mIterable)\n\u001b[0;32m   3809\u001b[0m         \u001b[38;5;129;01mand\u001b[39;00m \u001b[38;5;28many\u001b[39m(\u001b[38;5;28misinstance\u001b[39m(x, \u001b[38;5;28mslice\u001b[39m) \u001b[38;5;28;01mfor\u001b[39;00m x \u001b[38;5;129;01min\u001b[39;00m casted_key)\n\u001b[0;32m   3810\u001b[0m     ):\n\u001b[0;32m   3811\u001b[0m         \u001b[38;5;28;01mraise\u001b[39;00m InvalidIndexError(key)\n\u001b[1;32m-> 3812\u001b[0m     \u001b[38;5;28;01mraise\u001b[39;00m \u001b[38;5;167;01mKeyError\u001b[39;00m(key) \u001b[38;5;28;01mfrom\u001b[39;00m \u001b[38;5;21;01merr\u001b[39;00m\n\u001b[0;32m   3813\u001b[0m \u001b[38;5;28;01mexcept\u001b[39;00m \u001b[38;5;167;01mTypeError\u001b[39;00m:\n\u001b[0;32m   3814\u001b[0m     \u001b[38;5;66;03m# If we have a listlike key, _check_indexing_error will raise\u001b[39;00m\n\u001b[0;32m   3815\u001b[0m     \u001b[38;5;66;03m#  InvalidIndexError. Otherwise we fall through and re-raise\u001b[39;00m\n\u001b[0;32m   3816\u001b[0m     \u001b[38;5;66;03m#  the TypeError.\u001b[39;00m\n\u001b[0;32m   3817\u001b[0m     \u001b[38;5;28mself\u001b[39m\u001b[38;5;241m.\u001b[39m_check_indexing_error(key)\n",
            "\u001b[1;31mKeyError\u001b[0m: 'Runtime'"
          ]
        }
      ],
      "source": [
        "short_movies_count = Genres_df[Genres_df['Runtime'] < 60].shape[0]\n",
        "short_movies_count"
      ]
    },
    {
      "cell_type": "markdown",
      "metadata": {},
      "source": [
        "# What is the average IMDb rating for movies with a runtime above 150 minutes?"
      ]
    },
    {
      "cell_type": "code",
      "execution_count": null,
      "metadata": {},
      "outputs": [
        {
          "data": {
            "text/html": [
              "<div>\n",
              "<style scoped>\n",
              "    .dataframe tbody tr th:only-of-type {\n",
              "        vertical-align: middle;\n",
              "    }\n",
              "\n",
              "    .dataframe tbody tr th {\n",
              "        vertical-align: top;\n",
              "    }\n",
              "\n",
              "    .dataframe thead th {\n",
              "        text-align: right;\n",
              "    }\n",
              "</style>\n",
              "<table border=\"1\" class=\"dataframe\">\n",
              "  <thead>\n",
              "    <tr style=\"text-align: right;\">\n",
              "      <th></th>\n",
              "      <th>ID</th>\n",
              "      <th>Title</th>\n",
              "      <th>Year</th>\n",
              "      <th>Age</th>\n",
              "      <th>IMDb</th>\n",
              "      <th>Rotten Tomatoes</th>\n",
              "      <th>Netflix</th>\n",
              "      <th>Hulu</th>\n",
              "      <th>Prime Video</th>\n",
              "      <th>Disney+</th>\n",
              "      <th>Type</th>\n",
              "      <th>Directors</th>\n",
              "      <th>Genres</th>\n",
              "      <th>Country</th>\n",
              "      <th>Language</th>\n",
              "      <th>Runtime</th>\n",
              "      <th>Runtime Category</th>\n",
              "    </tr>\n",
              "  </thead>\n",
              "  <tbody>\n",
              "    <tr>\n",
              "      <th>0</th>\n",
              "      <td>1</td>\n",
              "      <td>Inception</td>\n",
              "      <td>2010</td>\n",
              "      <td>13+</td>\n",
              "      <td>8.8</td>\n",
              "      <td>8.7</td>\n",
              "      <td>1</td>\n",
              "      <td>0</td>\n",
              "      <td>0</td>\n",
              "      <td>0</td>\n",
              "      <td>0</td>\n",
              "      <td>Christopher Nolan</td>\n",
              "      <td>Action,Adventure,Sci-Fi,Thriller</td>\n",
              "      <td>United States,United Kingdom</td>\n",
              "      <td>English,Japanese,French</td>\n",
              "      <td>148.000000</td>\n",
              "      <td>Long (120-180 min)</td>\n",
              "    </tr>\n",
              "    <tr>\n",
              "      <th>1</th>\n",
              "      <td>2</td>\n",
              "      <td>The Matrix</td>\n",
              "      <td>1999</td>\n",
              "      <td>18+</td>\n",
              "      <td>8.7</td>\n",
              "      <td>8.7</td>\n",
              "      <td>1</td>\n",
              "      <td>0</td>\n",
              "      <td>0</td>\n",
              "      <td>0</td>\n",
              "      <td>0</td>\n",
              "      <td>Lana Wachowski,Lilly Wachowski</td>\n",
              "      <td>Action,Sci-Fi</td>\n",
              "      <td>United States</td>\n",
              "      <td>English</td>\n",
              "      <td>136.000000</td>\n",
              "      <td>Long (120-180 min)</td>\n",
              "    </tr>\n",
              "    <tr>\n",
              "      <th>2</th>\n",
              "      <td>3</td>\n",
              "      <td>Avengers: Infinity War</td>\n",
              "      <td>2018</td>\n",
              "      <td>13+</td>\n",
              "      <td>8.5</td>\n",
              "      <td>8.4</td>\n",
              "      <td>1</td>\n",
              "      <td>0</td>\n",
              "      <td>0</td>\n",
              "      <td>0</td>\n",
              "      <td>0</td>\n",
              "      <td>Anthony Russo,Joe Russo</td>\n",
              "      <td>Action,Adventure,Sci-Fi</td>\n",
              "      <td>United States</td>\n",
              "      <td>English</td>\n",
              "      <td>149.000000</td>\n",
              "      <td>Long (120-180 min)</td>\n",
              "    </tr>\n",
              "    <tr>\n",
              "      <th>3</th>\n",
              "      <td>4</td>\n",
              "      <td>Back to the Future</td>\n",
              "      <td>1985</td>\n",
              "      <td>7+</td>\n",
              "      <td>8.5</td>\n",
              "      <td>9.6</td>\n",
              "      <td>1</td>\n",
              "      <td>0</td>\n",
              "      <td>0</td>\n",
              "      <td>0</td>\n",
              "      <td>0</td>\n",
              "      <td>Robert Zemeckis</td>\n",
              "      <td>Adventure,Comedy,Sci-Fi</td>\n",
              "      <td>United States</td>\n",
              "      <td>English</td>\n",
              "      <td>116.000000</td>\n",
              "      <td>Medium (60-120 min)</td>\n",
              "    </tr>\n",
              "    <tr>\n",
              "      <th>4</th>\n",
              "      <td>5</td>\n",
              "      <td>The Good, the Bad and the Ugly</td>\n",
              "      <td>1966</td>\n",
              "      <td>18+</td>\n",
              "      <td>8.8</td>\n",
              "      <td>9.7</td>\n",
              "      <td>1</td>\n",
              "      <td>0</td>\n",
              "      <td>1</td>\n",
              "      <td>0</td>\n",
              "      <td>0</td>\n",
              "      <td>Sergio Leone</td>\n",
              "      <td>Western</td>\n",
              "      <td>Italy,Spain,West Germany</td>\n",
              "      <td>Italian</td>\n",
              "      <td>161.000000</td>\n",
              "      <td>Long (120-180 min)</td>\n",
              "    </tr>\n",
              "    <tr>\n",
              "      <th>...</th>\n",
              "      <td>...</td>\n",
              "      <td>...</td>\n",
              "      <td>...</td>\n",
              "      <td>...</td>\n",
              "      <td>...</td>\n",
              "      <td>...</td>\n",
              "      <td>...</td>\n",
              "      <td>...</td>\n",
              "      <td>...</td>\n",
              "      <td>...</td>\n",
              "      <td>...</td>\n",
              "      <td>...</td>\n",
              "      <td>...</td>\n",
              "      <td>...</td>\n",
              "      <td>...</td>\n",
              "      <td>...</td>\n",
              "      <td>...</td>\n",
              "    </tr>\n",
              "    <tr>\n",
              "      <th>16739</th>\n",
              "      <td>16740</td>\n",
              "      <td>The Ghosts of Buxley Hall</td>\n",
              "      <td>1980</td>\n",
              "      <td>18+</td>\n",
              "      <td>6.2</td>\n",
              "      <td>6.5</td>\n",
              "      <td>0</td>\n",
              "      <td>0</td>\n",
              "      <td>0</td>\n",
              "      <td>1</td>\n",
              "      <td>0</td>\n",
              "      <td>Bruce Bilson</td>\n",
              "      <td>Comedy,Family,Fantasy,Horror</td>\n",
              "      <td>United States</td>\n",
              "      <td>English</td>\n",
              "      <td>120.000000</td>\n",
              "      <td>Long (120-180 min)</td>\n",
              "    </tr>\n",
              "    <tr>\n",
              "      <th>16740</th>\n",
              "      <td>16741</td>\n",
              "      <td>The Poof Point</td>\n",
              "      <td>2001</td>\n",
              "      <td>7+</td>\n",
              "      <td>4.7</td>\n",
              "      <td>6.5</td>\n",
              "      <td>0</td>\n",
              "      <td>0</td>\n",
              "      <td>0</td>\n",
              "      <td>1</td>\n",
              "      <td>0</td>\n",
              "      <td>Neal Israel</td>\n",
              "      <td>Comedy,Family,Sci-Fi</td>\n",
              "      <td>United States</td>\n",
              "      <td>English</td>\n",
              "      <td>90.000000</td>\n",
              "      <td>Medium (60-120 min)</td>\n",
              "    </tr>\n",
              "    <tr>\n",
              "      <th>16741</th>\n",
              "      <td>16742</td>\n",
              "      <td>Sharks of Lost Island</td>\n",
              "      <td>2013</td>\n",
              "      <td>18+</td>\n",
              "      <td>5.7</td>\n",
              "      <td>6.5</td>\n",
              "      <td>0</td>\n",
              "      <td>0</td>\n",
              "      <td>0</td>\n",
              "      <td>1</td>\n",
              "      <td>0</td>\n",
              "      <td>Neil Gelinas</td>\n",
              "      <td>Documentary</td>\n",
              "      <td>United States</td>\n",
              "      <td>English</td>\n",
              "      <td>93.413447</td>\n",
              "      <td>Medium (60-120 min)</td>\n",
              "    </tr>\n",
              "    <tr>\n",
              "      <th>16742</th>\n",
              "      <td>16743</td>\n",
              "      <td>Man Among Cheetahs</td>\n",
              "      <td>2017</td>\n",
              "      <td>18+</td>\n",
              "      <td>6.6</td>\n",
              "      <td>6.5</td>\n",
              "      <td>0</td>\n",
              "      <td>0</td>\n",
              "      <td>0</td>\n",
              "      <td>1</td>\n",
              "      <td>0</td>\n",
              "      <td>Richard Slater-Jones</td>\n",
              "      <td>Documentary</td>\n",
              "      <td>United States</td>\n",
              "      <td>English</td>\n",
              "      <td>93.413447</td>\n",
              "      <td>Medium (60-120 min)</td>\n",
              "    </tr>\n",
              "    <tr>\n",
              "      <th>16743</th>\n",
              "      <td>16744</td>\n",
              "      <td>In Beaver Valley</td>\n",
              "      <td>1950</td>\n",
              "      <td>18+</td>\n",
              "      <td>5.9</td>\n",
              "      <td>6.5</td>\n",
              "      <td>0</td>\n",
              "      <td>0</td>\n",
              "      <td>0</td>\n",
              "      <td>1</td>\n",
              "      <td>0</td>\n",
              "      <td>James Algar</td>\n",
              "      <td>Documentary,Short,Family</td>\n",
              "      <td>United States</td>\n",
              "      <td>English</td>\n",
              "      <td>32.000000</td>\n",
              "      <td>Short (&lt;60 min)</td>\n",
              "    </tr>\n",
              "  </tbody>\n",
              "</table>\n",
              "<p>16744 rows × 17 columns</p>\n",
              "</div>"
            ],
            "text/plain": [
              "          ID                           Title  Year  Age  IMDb  \\\n",
              "0          1                       Inception  2010  13+   8.8   \n",
              "1          2                      The Matrix  1999  18+   8.7   \n",
              "2          3          Avengers: Infinity War  2018  13+   8.5   \n",
              "3          4              Back to the Future  1985   7+   8.5   \n",
              "4          5  The Good, the Bad and the Ugly  1966  18+   8.8   \n",
              "...      ...                             ...   ...  ...   ...   \n",
              "16739  16740       The Ghosts of Buxley Hall  1980  18+   6.2   \n",
              "16740  16741                  The Poof Point  2001   7+   4.7   \n",
              "16741  16742           Sharks of Lost Island  2013  18+   5.7   \n",
              "16742  16743              Man Among Cheetahs  2017  18+   6.6   \n",
              "16743  16744                In Beaver Valley  1950  18+   5.9   \n",
              "\n",
              "       Rotten Tomatoes  Netflix  Hulu  Prime Video  Disney+  Type  \\\n",
              "0                  8.7        1     0            0        0     0   \n",
              "1                  8.7        1     0            0        0     0   \n",
              "2                  8.4        1     0            0        0     0   \n",
              "3                  9.6        1     0            0        0     0   \n",
              "4                  9.7        1     0            1        0     0   \n",
              "...                ...      ...   ...          ...      ...   ...   \n",
              "16739              6.5        0     0            0        1     0   \n",
              "16740              6.5        0     0            0        1     0   \n",
              "16741              6.5        0     0            0        1     0   \n",
              "16742              6.5        0     0            0        1     0   \n",
              "16743              6.5        0     0            0        1     0   \n",
              "\n",
              "                            Directors                            Genres  \\\n",
              "0                   Christopher Nolan  Action,Adventure,Sci-Fi,Thriller   \n",
              "1      Lana Wachowski,Lilly Wachowski                     Action,Sci-Fi   \n",
              "2             Anthony Russo,Joe Russo           Action,Adventure,Sci-Fi   \n",
              "3                     Robert Zemeckis           Adventure,Comedy,Sci-Fi   \n",
              "4                        Sergio Leone                           Western   \n",
              "...                               ...                               ...   \n",
              "16739                    Bruce Bilson      Comedy,Family,Fantasy,Horror   \n",
              "16740                     Neal Israel              Comedy,Family,Sci-Fi   \n",
              "16741                    Neil Gelinas                       Documentary   \n",
              "16742            Richard Slater-Jones                       Documentary   \n",
              "16743                     James Algar          Documentary,Short,Family   \n",
              "\n",
              "                            Country                 Language     Runtime  \\\n",
              "0      United States,United Kingdom  English,Japanese,French  148.000000   \n",
              "1                     United States                  English  136.000000   \n",
              "2                     United States                  English  149.000000   \n",
              "3                     United States                  English  116.000000   \n",
              "4          Italy,Spain,West Germany                  Italian  161.000000   \n",
              "...                             ...                      ...         ...   \n",
              "16739                 United States                  English  120.000000   \n",
              "16740                 United States                  English   90.000000   \n",
              "16741                 United States                  English   93.413447   \n",
              "16742                 United States                  English   93.413447   \n",
              "16743                 United States                  English   32.000000   \n",
              "\n",
              "          Runtime Category  \n",
              "0       Long (120-180 min)  \n",
              "1       Long (120-180 min)  \n",
              "2       Long (120-180 min)  \n",
              "3      Medium (60-120 min)  \n",
              "4       Long (120-180 min)  \n",
              "...                    ...  \n",
              "16739   Long (120-180 min)  \n",
              "16740  Medium (60-120 min)  \n",
              "16741  Medium (60-120 min)  \n",
              "16742  Medium (60-120 min)  \n",
              "16743      Short (<60 min)  \n",
              "\n",
              "[16744 rows x 17 columns]"
            ]
          },
          "execution_count": 53,
          "metadata": {},
          "output_type": "execute_result"
        }
      ],
      "source": [
        "# Genres_df\n",
        "# long_runtime_avg_imdb = Genres_df[Genres_df['Runtime'] > 150]['IMDb'].mean()\n",
        "# long_runtime_avg_imdb\n",
        "\n",
        "movie"
      ]
    },
    {
      "cell_type": "markdown",
      "metadata": {},
      "source": [
        "# ---------------------------------------------------------\n"
      ]
    },
    {
      "cell_type": "markdown",
      "metadata": {},
      "source": [
        "# 1.number of movies released in each year\n"
      ]
    },
    {
      "cell_type": "code",
      "execution_count": null,
      "metadata": {},
      "outputs": [
        {
          "data": {
            "image/png": "[encoded data removed]",
            "text/plain": [
              "<Figure size 1000x500 with 1 Axes>"
            ]
          },
          "metadata": {},
          "output_type": "display_data"
        }
      ],
      "source": [
        "# Count movies per year\n",
        "movies_per_year = df['Year'].value_counts().sort_index()\n",
        "\n",
        "# Plot\n",
        "plt.figure(figsize=(10,5))\n",
        "movies_per_year.plot(kind='bar', color='skyblue', edgecolor='black')\n",
        "\n",
        "plt.xlabel(\"Year\")\n",
        "plt.ylabel(\"Number of Movies\")\n",
        "plt.title(\"Number of Movies Released Each Year\")\n",
        "plt.xticks()\n",
        "plt.grid(axis='y', linestyle='--', alpha=0.6)\n",
        "\n",
        "plt.show()\n",
        "\n"
      ]
    },
    {
      "cell_type": "markdown",
      "metadata": {},
      "source": []
    },
    {
      "cell_type": "markdown",
      "metadata": {},
      "source": []
    },
    {
      "cell_type": "markdown",
      "metadata": {},
      "source": [
        "\n",
        "# 2.number of movies available on each platfort"
      ]
    },
    {
      "cell_type": "code",
      "execution_count": null,
      "metadata": {},
      "outputs": [
        {
          "data": {
            "image/png": "[encoded data removed]",
            "text/plain": [
              "<Figure size 800x500 with 1 Axes>"
            ]
          },
          "metadata": {},
          "output_type": "display_data"
        }
      ],
      "source": [
        "df_platforms = movie[['Netflix', 'Hulu', 'Prime Video', 'Disney+']].sum()\n",
        "\n",
        "plt.figure(figsize=(8,5))\n",
        "a=df_platforms.plot(kind='bar', color=['red', 'green', 'blue', 'purple'], edgecolor='black')\n",
        "\n",
        "plt.xlabel(\"Platform\")\n",
        "plt.ylabel(\"Number of Movies\")\n",
        "plt.title(\"Number of Movies Available on Each Platform\")\n",
        "plt.grid(axis='y', linestyle='--', alpha=0.6)\n",
        "\n",
        "a.bar_label(a.containers[0])\n",
        "plt.show()\n"
      ]
    },
    {
      "cell_type": "markdown",
      "metadata": {},
      "source": []
    },
    {
      "cell_type": "markdown",
      "metadata": {},
      "source": [
        "\n",
        "# 3.number of movies directed by top 10 directers"
      ]
    },
    {
      "cell_type": "code",
      "execution_count": null,
      "metadata": {},
      "outputs": [
        {
          "data": {
            "image/png": "[encoded data removed]",
            "text/plain": [
              "<Figure size 1000x500 with 1 Axes>"
            ]
          },
          "metadata": {},
          "output_type": "display_data"
        }
      ],
      "source": [
        "top_directors = movie['Directors'].value_counts().head(10)\n",
        "\n",
        "plt.figure(figsize=(10,5))\n",
        "a=top_directors.plot(kind='bar', color='orange', edgecolor='black')\n",
        "\n",
        "plt.xlabel(\"Director\")\n",
        "plt.ylabel(\"Number of Movies\")\n",
        "plt.title(\"Top 10 Directors with Most Movies\")\n",
        "plt.xticks(rotation=45)\n",
        "plt.grid(axis='y', linestyle='--', alpha=0.6)\n",
        "\n",
        "a.bar_label(a.containers[0])\n",
        "plt.show()\n"
      ]
    },
    {
      "cell_type": "markdown",
      "metadata": {},
      "source": []
    },
    {
      "cell_type": "markdown",
      "metadata": {},
      "source": [
        "\n",
        "4.get the pattern of imdb over the year"
      ]
    },
    {
      "cell_type": "code",
      "execution_count": null,
      "metadata": {},
      "outputs": [
        {
          "data": {
            "image/png": "[encoded data removed]",
            "text/plain": [
              "<Figure size 1000x500 with 1 Axes>"
            ]
          },
          "metadata": {},
          "output_type": "display_data"
        }
      ],
      "source": [
        "df_year_rating = movie.groupby('Year')['IMDb'].mean()\n",
        "\n",
        "plt.figure(figsize=(10,5))\n",
        "df_year_rating.plot(kind='line', marker='o', color='blue')\n",
        "\n",
        "plt.xlabel(\"Year\")\n",
        "plt.ylabel(\"Average IMDb Rating\")\n",
        "plt.title(\"Trend of IMDb Ratings Over the Years\")\n",
        "plt.grid(True, linestyle='--', alpha=0.6)\n",
        "\n",
        "plt.show()\n"
      ]
    },
    {
      "cell_type": "markdown",
      "metadata": {},
      "source": []
    },
    {
      "cell_type": "markdown",
      "metadata": {},
      "source": [
        "5.check the pattern of imdb rating over the recent  decate\n"
      ]
    },
    {
      "cell_type": "code",
      "execution_count": null,
      "metadata": {},
      "outputs": [
        {
          "data": {
            "image/png": "[encoded data removed]",
            "text/plain": [
              "<Figure size 1000x500 with 1 Axes>"
            ]
          },
          "metadata": {},
          "output_type": "display_data"
        }
      ],
      "source": [
        "recent_decade = movie[movie[\"Year\"] >= 2010].groupby(\"Year\")[\"IMDb\"].mean()\n",
        "\n",
        "plt.figure(figsize=(10,5))\n",
        "recent_decade.plot(kind='line', marker='o', color='green')\n",
        "\n",
        "plt.xlabel(\"Year\")\n",
        "plt.ylabel(\"Average IMDb Rating\")\n",
        "plt.title(\"IMDb Rating Pattern Over the Recent Decade\")\n",
        "plt.grid(True, linestyle='--', alpha=0.6)\n",
        "\n",
        "plt.show()\n"
      ]
    },
    {
      "cell_type": "markdown",
      "metadata": {},
      "source": []
    },
    {
      "cell_type": "markdown",
      "metadata": {},
      "source": [
        "\n",
        "6.number of geners available in each platform"
      ]
    },
    {
      "cell_type": "code",
      "execution_count": null,
      "metadata": {},
      "outputs": [
        {
          "data": {
            "text/html": [
              "<div>\n",
              "<style scoped>\n",
              "    .dataframe tbody tr th:only-of-type {\n",
              "        vertical-align: middle;\n",
              "    }\n",
              "\n",
              "    .dataframe tbody tr th {\n",
              "        vertical-align: top;\n",
              "    }\n",
              "\n",
              "    .dataframe thead th {\n",
              "        text-align: right;\n",
              "    }\n",
              "</style>\n",
              "<table border=\"1\" class=\"dataframe\">\n",
              "  <thead>\n",
              "    <tr style=\"text-align: right;\">\n",
              "      <th></th>\n",
              "      <th>Title</th>\n",
              "      <th>Genres</th>\n",
              "    </tr>\n",
              "  </thead>\n",
              "  <tbody>\n",
              "    <tr>\n",
              "      <th>0</th>\n",
              "      <td>Inception</td>\n",
              "      <td>Action</td>\n",
              "    </tr>\n",
              "    <tr>\n",
              "      <th>0</th>\n",
              "      <td>Inception</td>\n",
              "      <td>Adventure</td>\n",
              "    </tr>\n",
              "    <tr>\n",
              "      <th>0</th>\n",
              "      <td>Inception</td>\n",
              "      <td>Sci-Fi</td>\n",
              "    </tr>\n",
              "    <tr>\n",
              "      <th>0</th>\n",
              "      <td>Inception</td>\n",
              "      <td>Thriller</td>\n",
              "    </tr>\n",
              "    <tr>\n",
              "      <th>1</th>\n",
              "      <td>The Matrix</td>\n",
              "      <td>Action</td>\n",
              "    </tr>\n",
              "    <tr>\n",
              "      <th>...</th>\n",
              "      <td>...</td>\n",
              "      <td>...</td>\n",
              "    </tr>\n",
              "    <tr>\n",
              "      <th>16741</th>\n",
              "      <td>Sharks of Lost Island</td>\n",
              "      <td>Documentary</td>\n",
              "    </tr>\n",
              "    <tr>\n",
              "      <th>16742</th>\n",
              "      <td>Man Among Cheetahs</td>\n",
              "      <td>Documentary</td>\n",
              "    </tr>\n",
              "    <tr>\n",
              "      <th>16743</th>\n",
              "      <td>In Beaver Valley</td>\n",
              "      <td>Documentary</td>\n",
              "    </tr>\n",
              "    <tr>\n",
              "      <th>16743</th>\n",
              "      <td>In Beaver Valley</td>\n",
              "      <td>Short</td>\n",
              "    </tr>\n",
              "    <tr>\n",
              "      <th>16743</th>\n",
              "      <td>In Beaver Valley</td>\n",
              "      <td>Family</td>\n",
              "    </tr>\n",
              "  </tbody>\n",
              "</table>\n",
              "<p>39373 rows × 2 columns</p>\n",
              "</div>"
            ],
            "text/plain": [
              "                       Title       Genres\n",
              "0                  Inception       Action\n",
              "0                  Inception    Adventure\n",
              "0                  Inception       Sci-Fi\n",
              "0                  Inception     Thriller\n",
              "1                 The Matrix       Action\n",
              "...                      ...          ...\n",
              "16741  Sharks of Lost Island  Documentary\n",
              "16742     Man Among Cheetahs  Documentary\n",
              "16743       In Beaver Valley  Documentary\n",
              "16743       In Beaver Valley        Short\n",
              "16743       In Beaver Valley       Family\n",
              "\n",
              "[39373 rows x 2 columns]"
            ]
          },
          "execution_count": 66,
          "metadata": {},
          "output_type": "execute_result"
        }
      ],
      "source": [
        "df_genres = Platforms_df.groupby('Platform')['Genres'].nunique()\n",
        "\n",
        "plt.figure(figsize=(8,5))\n",
        "df_genres.plot(kind='bar', color=['red', 'green', 'blue', 'purple'], edgecolor='black')\n",
        "\n",
        "plt.xlabel(\"Platform\")\n",
        "plt.ylabel(\"Number of Unique Genres\")\n",
        "plt.title(\"Number of Genres Available on Each Platform\")\n",
        "plt.grid(axis='y', linestyle='--', alpha=0.6)\n",
        "\n",
        "plt.show()\n",
        "\n",
        "\n"
      ]
    },
    {
      "cell_type": "markdown",
      "metadata": {},
      "source": []
    },
    {
      "cell_type": "markdown",
      "metadata": {},
      "source": [
        "\n",
        "7.get the average imdb rating in each platform"
      ]
    },
    {
      "cell_type": "code",
      "execution_count": null,
      "metadata": {},
      "outputs": [
        {
          "data": {
            "image/png": "[encoded data removed]",
            "text/plain": [
              "<Figure size 800x500 with 1 Axes>"
            ]
          },
          "metadata": {},
          "output_type": "display_data"
        }
      ],
      "source": [
        "df_avg_imdb = Platforms_df.groupby(\"Platform\")[\"IMDb\"].mean()\n",
        "\n",
        "plt.figure(figsize=(8,5))\n",
        "df_avg_imdb.plot(kind='bar', color=['red', 'green', 'blue', 'purple'], edgecolor='black')\n",
        "\n",
        "plt.xlabel(\"Platform\")\n",
        "plt.ylabel(\"Average IMDb Rating\")\n",
        "plt.title(\"Average IMDb Rating on Each Platform\")\n",
        "plt.grid(axis='y', linestyle='--', alpha=0.6)\n",
        "\n",
        "plt.show()\n"
      ]
    },
    {
      "cell_type": "markdown",
      "metadata": {},
      "source": []
    },
    {
      "cell_type": "markdown",
      "metadata": {},
      "source": [
        "\n",
        "8.get the average tomatoes rating in each platform"
      ]
    },
    {
      "cell_type": "code",
      "execution_count": null,
      "metadata": {},
      "outputs": [
        {
          "data": {
            "image/png": "[encoded data removed]",
            "text/plain": [
              "<Figure size 800x500 with 1 Axes>"
            ]
          },
          "metadata": {},
          "output_type": "display_data"
        }
      ],
      "source": [
        "df_avg_tomatoes = Platforms_df.groupby(\"Platform\")[\"Rotten Tomatoes\"].mean()\n",
        "\n",
        "plt.figure(figsize=(8,5))\n",
        "df_avg_tomatoes.plot(kind='bar', color=['red', 'green', 'blue', 'purple'], edgecolor='black')\n",
        "\n",
        "plt.xlabel(\"Platform\")\n",
        "plt.ylabel(\"Average Rotten Tomatoes Score\")\n",
        "plt.title(\"Average Rotten Tomatoes Score on Each Platform\")\n",
        "plt.grid(axis='y', linestyle='--', alpha=0.6)\n",
        "\n",
        "plt.show()\n"
      ]
    },
    {
      "cell_type": "markdown",
      "metadata": {},
      "source": []
    },
    {
      "cell_type": "markdown",
      "metadata": {},
      "source": [
        "# 9.find the oulir in  imdb rating "
      ]
    },
    {
      "cell_type": "code",
      "execution_count": null,
      "metadata": {},
      "outputs": [
        {
          "data": {
            "image/png": "[encoded data removed]",
            "text/plain": [
              "<Figure size 800x500 with 1 Axes>"
            ]
          },
          "metadata": {},
          "output_type": "display_data"
        }
      ],
      "source": [
        "\n",
        "\n",
        "plt.figure(figsize=(8,5))\n",
        "sns.boxplot(x=Platforms_df[\"IMDb\"], color=\"blue\")\n",
        "\n",
        "plt.xlabel(\"IMDb Rating\")\n",
        "plt.title(\"Outliers in IMDb Rating\")\n",
        "plt.grid(axis='x', linestyle='--', alpha=0.6)\n",
        "\n",
        "plt.show()\n"
      ]
    },
    {
      "cell_type": "markdown",
      "metadata": {},
      "source": [
        "# 11.find the outlier in runtime  "
      ]
    },
    {
      "cell_type": "code",
      "execution_count": null,
      "metadata": {},
      "outputs": [
        {
          "data": {
            "image/png": "[encoded data removed]",
            "text/plain": [
              "<Figure size 800x500 with 1 Axes>"
            ]
          },
          "metadata": {},
          "output_type": "display_data"
        }
      ],
      "source": [
        "plt.figure(figsize=(8,5))\n",
        "sns.boxplot(x=df[\"Runtime\"], color=\"red\")\n",
        "\n",
        "plt.xlabel(\"Runtime (minutes)\")\n",
        "plt.title(\"Outliers in Movie Runtime\")\n",
        "plt.grid(axis='x', linestyle='--', alpha=0.6)\n",
        "\n",
        "plt.show()\n"
      ]
    },
    {
      "cell_type": "markdown",
      "metadata": {},
      "source": [
        "# 10. find the average runtime in each platform\n"
      ]
    },
    {
      "cell_type": "code",
      "execution_count": null,
      "metadata": {},
      "outputs": [
        {
          "data": {
            "image/png": "[encoded data removed]",
            "text/plain": [
              "<Figure size 800x500 with 1 Axes>"
            ]
          },
          "metadata": {},
          "output_type": "display_data"
        }
      ],
      "source": [
        "df_avg_runtime = Platforms_df.groupby(\"Platform\")[\"Runtime\"].mean()\n",
        "\n",
        "plt.figure(figsize=(8,5))\n",
        "df_avg_runtime.plot(kind='bar', color=['red', 'green', 'blue', 'purple'], edgecolor='black')\n",
        "\n",
        "plt.xlabel(\"Platform\")\n",
        "plt.ylabel(\"Average Runtime (minutes)\")\n",
        "plt.title(\"Average Runtime of Movies on Each Platform\")\n",
        "plt.grid(axis='y', linestyle='--', alpha=0.6)\n",
        "\n",
        "plt.show()\n",
        "\n"
      ]
    },
    {
      "cell_type": "markdown",
      "metadata": {},
      "source": []
    },
    {
      "cell_type": "code",
      "execution_count": null,
      "metadata": {},
      "outputs": [],
      "source": [
        "z = movie.columns[[6,7,8,9]]\n",
        "movie['total_plts'] = movie[z].sum(1)\n",
        "\n",
        "a= movie['IMDb'].unique()\n",
        "a.sort()\n",
        "top_IMDb= a[-6:-1]\n",
        "\n"
      ]
    },
    {
      "cell_type": "code",
      "execution_count": null,
      "metadata": {},
      "outputs": [
        {
          "data": {
            "text/html": [
              "<div>\n",
              "<style scoped>\n",
              "    .dataframe tbody tr th:only-of-type {\n",
              "        vertical-align: middle;\n",
              "    }\n",
              "\n",
              "    .dataframe tbody tr th {\n",
              "        vertical-align: top;\n",
              "    }\n",
              "\n",
              "    .dataframe thead th {\n",
              "        text-align: right;\n",
              "    }\n",
              "</style>\n",
              "<table border=\"1\" class=\"dataframe\">\n",
              "  <thead>\n",
              "    <tr style=\"text-align: right;\">\n",
              "      <th></th>\n",
              "      <th>Title</th>\n",
              "      <th>Rotten Tomatoes</th>\n",
              "      <th>Genres</th>\n",
              "      <th>Runtime</th>\n",
              "      <th>total_plts</th>\n",
              "    </tr>\n",
              "  </thead>\n",
              "  <tbody>\n",
              "    <tr>\n",
              "      <th>0</th>\n",
              "      <td>Inception</td>\n",
              "      <td>8.7</td>\n",
              "      <td>Action,Adventure,Sci-Fi,Thriller</td>\n",
              "      <td>148.000000</td>\n",
              "      <td>1</td>\n",
              "    </tr>\n",
              "    <tr>\n",
              "      <th>1</th>\n",
              "      <td>The Matrix</td>\n",
              "      <td>8.7</td>\n",
              "      <td>Action,Sci-Fi</td>\n",
              "      <td>136.000000</td>\n",
              "      <td>1</td>\n",
              "    </tr>\n",
              "    <tr>\n",
              "      <th>4</th>\n",
              "      <td>The Good, the Bad and the Ugly</td>\n",
              "      <td>9.7</td>\n",
              "      <td>Western</td>\n",
              "      <td>161.000000</td>\n",
              "      <td>2</td>\n",
              "    </tr>\n",
              "    <tr>\n",
              "      <th>947</th>\n",
              "      <td>Natsamrat</td>\n",
              "      <td>6.5</td>\n",
              "      <td>Drama,Family</td>\n",
              "      <td>166.000000</td>\n",
              "      <td>1</td>\n",
              "    </tr>\n",
              "    <tr>\n",
              "      <th>1214</th>\n",
              "      <td>Bill Hicks: Relentless</td>\n",
              "      <td>6.5</td>\n",
              "      <td>Documentary,Comedy</td>\n",
              "      <td>61.000000</td>\n",
              "      <td>1</td>\n",
              "    </tr>\n",
              "    <tr>\n",
              "      <th>1311</th>\n",
              "      <td>Eh Janam Tumhare Lekhe</td>\n",
              "      <td>6.5</td>\n",
              "      <td>Biography</td>\n",
              "      <td>135.000000</td>\n",
              "      <td>1</td>\n",
              "    </tr>\n",
              "    <tr>\n",
              "      <th>1458</th>\n",
              "      <td>Untamed Romania</td>\n",
              "      <td>6.5</td>\n",
              "      <td>Documentary</td>\n",
              "      <td>92.000000</td>\n",
              "      <td>2</td>\n",
              "    </tr>\n",
              "    <tr>\n",
              "      <th>1979</th>\n",
              "      <td>One Heart: The A.R. Rahman Concert Film</td>\n",
              "      <td>6.5</td>\n",
              "      <td>Documentary,Music</td>\n",
              "      <td>87.000000</td>\n",
              "      <td>1</td>\n",
              "    </tr>\n",
              "    <tr>\n",
              "      <th>3560</th>\n",
              "      <td>The Dark Knight</td>\n",
              "      <td>9.4</td>\n",
              "      <td>Action,Crime,Drama,Thriller</td>\n",
              "      <td>152.000000</td>\n",
              "      <td>1</td>\n",
              "    </tr>\n",
              "    <tr>\n",
              "      <th>3561</th>\n",
              "      <td>GoodFellas</td>\n",
              "      <td>9.6</td>\n",
              "      <td>Biography,Crime,Drama</td>\n",
              "      <td>146.000000</td>\n",
              "      <td>1</td>\n",
              "    </tr>\n",
              "    <tr>\n",
              "      <th>4829</th>\n",
              "      <td>The Mountain II</td>\n",
              "      <td>6.5</td>\n",
              "      <td>Action,Drama,War</td>\n",
              "      <td>135.000000</td>\n",
              "      <td>1</td>\n",
              "    </tr>\n",
              "    <tr>\n",
              "      <th>5153</th>\n",
              "      <td>Anand</td>\n",
              "      <td>6.5</td>\n",
              "      <td>Drama,Musical</td>\n",
              "      <td>122.000000</td>\n",
              "      <td>1</td>\n",
              "    </tr>\n",
              "    <tr>\n",
              "      <th>5642</th>\n",
              "      <td>George Carlin: Back in Town</td>\n",
              "      <td>6.5</td>\n",
              "      <td>Documentary,Comedy</td>\n",
              "      <td>60.000000</td>\n",
              "      <td>1</td>\n",
              "    </tr>\n",
              "    <tr>\n",
              "      <th>5681</th>\n",
              "      <td>George Carlin: Jammin' in New York</td>\n",
              "      <td>6.5</td>\n",
              "      <td>Documentary,Comedy</td>\n",
              "      <td>59.000000</td>\n",
              "      <td>1</td>\n",
              "    </tr>\n",
              "    <tr>\n",
              "      <th>5931</th>\n",
              "      <td>Nayakan</td>\n",
              "      <td>6.5</td>\n",
              "      <td>Crime,Drama</td>\n",
              "      <td>145.000000</td>\n",
              "      <td>1</td>\n",
              "    </tr>\n",
              "    <tr>\n",
              "      <th>6424</th>\n",
              "      <td>7 Days in Syria</td>\n",
              "      <td>6.5</td>\n",
              "      <td>Documentary,Drama,War</td>\n",
              "      <td>75.000000</td>\n",
              "      <td>1</td>\n",
              "    </tr>\n",
              "    <tr>\n",
              "      <th>6452</th>\n",
              "      <td>Hearing Is Believing</td>\n",
              "      <td>6.0</td>\n",
              "      <td>Documentary,Biography,Family,Music</td>\n",
              "      <td>104.000000</td>\n",
              "      <td>1</td>\n",
              "    </tr>\n",
              "    <tr>\n",
              "      <th>6654</th>\n",
              "      <td>Fleetwood Mac: The Dance</td>\n",
              "      <td>6.5</td>\n",
              "      <td>Documentary,Music</td>\n",
              "      <td>90.000000</td>\n",
              "      <td>1</td>\n",
              "    </tr>\n",
              "    <tr>\n",
              "      <th>6840</th>\n",
              "      <td>Peter Gabriel: Secret World Live</td>\n",
              "      <td>6.5</td>\n",
              "      <td>Documentary,Music</td>\n",
              "      <td>102.000000</td>\n",
              "      <td>1</td>\n",
              "    </tr>\n",
              "    <tr>\n",
              "      <th>7001</th>\n",
              "      <td>The 25th Anniversary Rock and Roll Hall of Fam...</td>\n",
              "      <td>6.5</td>\n",
              "      <td>Music</td>\n",
              "      <td>255.000000</td>\n",
              "      <td>1</td>\n",
              "    </tr>\n",
              "    <tr>\n",
              "      <th>7002</th>\n",
              "      <td>Escape from Firebase Kate</td>\n",
              "      <td>6.5</td>\n",
              "      <td>Documentary</td>\n",
              "      <td>60.000000</td>\n",
              "      <td>1</td>\n",
              "    </tr>\n",
              "    <tr>\n",
              "      <th>7084</th>\n",
              "      <td>RWBY: Volume 3</td>\n",
              "      <td>6.5</td>\n",
              "      <td>Animation,Action,Drama,Fantasy,Sci-Fi,Thriller</td>\n",
              "      <td>173.000000</td>\n",
              "      <td>1</td>\n",
              "    </tr>\n",
              "    <tr>\n",
              "      <th>7267</th>\n",
              "      <td>A Dog Named Gucci</td>\n",
              "      <td>6.5</td>\n",
              "      <td>Documentary,Biography,Drama,News</td>\n",
              "      <td>90.000000</td>\n",
              "      <td>1</td>\n",
              "    </tr>\n",
              "    <tr>\n",
              "      <th>7372</th>\n",
              "      <td>The Boy Whose Skin Fell Off</td>\n",
              "      <td>6.5</td>\n",
              "      <td>Documentary</td>\n",
              "      <td>50.000000</td>\n",
              "      <td>1</td>\n",
              "    </tr>\n",
              "    <tr>\n",
              "      <th>7491</th>\n",
              "      <td>Finding Family</td>\n",
              "      <td>6.5</td>\n",
              "      <td>Documentary,Family,History,War</td>\n",
              "      <td>56.000000</td>\n",
              "      <td>1</td>\n",
              "    </tr>\n",
              "    <tr>\n",
              "      <th>7643</th>\n",
              "      <td>Machine Gun Preacher Documentary</td>\n",
              "      <td>6.5</td>\n",
              "      <td>Documentary</td>\n",
              "      <td>73.000000</td>\n",
              "      <td>1</td>\n",
              "    </tr>\n",
              "    <tr>\n",
              "      <th>7915</th>\n",
              "      <td>Omo Child: The River and the Bush</td>\n",
              "      <td>6.5</td>\n",
              "      <td>Documentary,Biography,Drama,History</td>\n",
              "      <td>89.000000</td>\n",
              "      <td>1</td>\n",
              "    </tr>\n",
              "    <tr>\n",
              "      <th>7976</th>\n",
              "      <td>Operation Toussaint: Operation Underground Rai...</td>\n",
              "      <td>6.5</td>\n",
              "      <td>Documentary</td>\n",
              "      <td>82.000000</td>\n",
              "      <td>1</td>\n",
              "    </tr>\n",
              "    <tr>\n",
              "      <th>8169</th>\n",
              "      <td>The Creators</td>\n",
              "      <td>6.5</td>\n",
              "      <td>Documentary,History,Music,News</td>\n",
              "      <td>89.000000</td>\n",
              "      <td>1</td>\n",
              "    </tr>\n",
              "    <tr>\n",
              "      <th>8220</th>\n",
              "      <td>Lost Kites</td>\n",
              "      <td>6.5</td>\n",
              "      <td>Documentary</td>\n",
              "      <td>50.000000</td>\n",
              "      <td>1</td>\n",
              "    </tr>\n",
              "    <tr>\n",
              "      <th>8247</th>\n",
              "      <td>Memories 677</td>\n",
              "      <td>6.5</td>\n",
              "      <td>Animation,Comedy,Fantasy,Horror,Sci-Fi,Thriller</td>\n",
              "      <td>113.000000</td>\n",
              "      <td>1</td>\n",
              "    </tr>\n",
              "    <tr>\n",
              "      <th>8271</th>\n",
              "      <td>Arise</td>\n",
              "      <td>6.5</td>\n",
              "      <td>Comedy,Drama</td>\n",
              "      <td>130.000000</td>\n",
              "      <td>1</td>\n",
              "    </tr>\n",
              "    <tr>\n",
              "      <th>8359</th>\n",
              "      <td>Stronger Than Bullets</td>\n",
              "      <td>6.5</td>\n",
              "      <td>Documentary,Music,War</td>\n",
              "      <td>87.000000</td>\n",
              "      <td>1</td>\n",
              "    </tr>\n",
              "    <tr>\n",
              "      <th>8458</th>\n",
              "      <td>Where's Daddy?</td>\n",
              "      <td>6.5</td>\n",
              "      <td>Documentary</td>\n",
              "      <td>105.000000</td>\n",
              "      <td>1</td>\n",
              "    </tr>\n",
              "    <tr>\n",
              "      <th>8655</th>\n",
              "      <td>Into The Fire</td>\n",
              "      <td>6.5</td>\n",
              "      <td>Biography,Drama</td>\n",
              "      <td>116.000000</td>\n",
              "      <td>1</td>\n",
              "    </tr>\n",
              "    <tr>\n",
              "      <th>8752</th>\n",
              "      <td>The Other Kids</td>\n",
              "      <td>6.5</td>\n",
              "      <td>Documentary</td>\n",
              "      <td>54.000000</td>\n",
              "      <td>1</td>\n",
              "    </tr>\n",
              "    <tr>\n",
              "      <th>8784</th>\n",
              "      <td>Black Jack Pershing: Love and War</td>\n",
              "      <td>6.5</td>\n",
              "      <td>Documentary,Biography,History,War</td>\n",
              "      <td>57.000000</td>\n",
              "      <td>1</td>\n",
              "    </tr>\n",
              "    <tr>\n",
              "      <th>8800</th>\n",
              "      <td>The Jones Family Will Make a Way</td>\n",
              "      <td>6.5</td>\n",
              "      <td>Documentary,Drama,Family,Music</td>\n",
              "      <td>91.000000</td>\n",
              "      <td>1</td>\n",
              "    </tr>\n",
              "    <tr>\n",
              "      <th>8919</th>\n",
              "      <td>Weaving the Past: Journey of Discovery</td>\n",
              "      <td>6.5</td>\n",
              "      <td>Documentary</td>\n",
              "      <td>126.000000</td>\n",
              "      <td>1</td>\n",
              "    </tr>\n",
              "    <tr>\n",
              "      <th>9003</th>\n",
              "      <td>The Dolls of Lisbon</td>\n",
              "      <td>6.5</td>\n",
              "      <td>Documentary</td>\n",
              "      <td>72.000000</td>\n",
              "      <td>1</td>\n",
              "    </tr>\n",
              "    <tr>\n",
              "      <th>9046</th>\n",
              "      <td>Shadow Nation</td>\n",
              "      <td>6.5</td>\n",
              "      <td>Documentary,History</td>\n",
              "      <td>67.000000</td>\n",
              "      <td>1</td>\n",
              "    </tr>\n",
              "    <tr>\n",
              "      <th>9213</th>\n",
              "      <td>Street Dogs of South Central</td>\n",
              "      <td>6.5</td>\n",
              "      <td>Documentary</td>\n",
              "      <td>83.000000</td>\n",
              "      <td>1</td>\n",
              "    </tr>\n",
              "    <tr>\n",
              "      <th>9233</th>\n",
              "      <td>Jesus Fish</td>\n",
              "      <td>6.5</td>\n",
              "      <td>Short,Drama,Thriller</td>\n",
              "      <td>22.000000</td>\n",
              "      <td>1</td>\n",
              "    </tr>\n",
              "    <tr>\n",
              "      <th>9269</th>\n",
              "      <td>First Flight: A Mother Hummingbird's Story</td>\n",
              "      <td>6.5</td>\n",
              "      <td>Documentary,Family</td>\n",
              "      <td>47.000000</td>\n",
              "      <td>1</td>\n",
              "    </tr>\n",
              "    <tr>\n",
              "      <th>9427</th>\n",
              "      <td>C. H. Spurgeon: The People's Preacher</td>\n",
              "      <td>6.5</td>\n",
              "      <td>Documentary</td>\n",
              "      <td>70.000000</td>\n",
              "      <td>1</td>\n",
              "    </tr>\n",
              "    <tr>\n",
              "      <th>9697</th>\n",
              "      <td>Devo: Hardcore Live!</td>\n",
              "      <td>6.5</td>\n",
              "      <td>Documentary</td>\n",
              "      <td>85.000000</td>\n",
              "      <td>1</td>\n",
              "    </tr>\n",
              "    <tr>\n",
              "      <th>9825</th>\n",
              "      <td>Sleeping Giant: An Indian Football Story</td>\n",
              "      <td>6.5</td>\n",
              "      <td>Documentary,History,Sport</td>\n",
              "      <td>53.000000</td>\n",
              "      <td>1</td>\n",
              "    </tr>\n",
              "    <tr>\n",
              "      <th>10069</th>\n",
              "      <td>Going on 13</td>\n",
              "      <td>6.5</td>\n",
              "      <td>Documentary</td>\n",
              "      <td>77.000000</td>\n",
              "      <td>1</td>\n",
              "    </tr>\n",
              "    <tr>\n",
              "      <th>10249</th>\n",
              "      <td>8 Wheels &amp; Some Soul Brotha' Music</td>\n",
              "      <td>6.5</td>\n",
              "      <td>Documentary</td>\n",
              "      <td>70.000000</td>\n",
              "      <td>1</td>\n",
              "    </tr>\n",
              "    <tr>\n",
              "      <th>11079</th>\n",
              "      <td>Elvis: The Memphis Flash</td>\n",
              "      <td>6.5</td>\n",
              "      <td>Documentary,Music</td>\n",
              "      <td>120.000000</td>\n",
              "      <td>1</td>\n",
              "    </tr>\n",
              "    <tr>\n",
              "      <th>11160</th>\n",
              "      <td>Draw Hard</td>\n",
              "      <td>6.5</td>\n",
              "      <td>Documentary,Short</td>\n",
              "      <td>20.000000</td>\n",
              "      <td>1</td>\n",
              "    </tr>\n",
              "    <tr>\n",
              "      <th>11873</th>\n",
              "      <td>Ruby's Studio: the Feelings Show</td>\n",
              "      <td>6.5</td>\n",
              "      <td>Family</td>\n",
              "      <td>46.000000</td>\n",
              "      <td>1</td>\n",
              "    </tr>\n",
              "    <tr>\n",
              "      <th>11910</th>\n",
              "      <td>Second Chance By Betrayal</td>\n",
              "      <td>6.5</td>\n",
              "      <td>Drama</td>\n",
              "      <td>93.413447</td>\n",
              "      <td>1</td>\n",
              "    </tr>\n",
              "    <tr>\n",
              "      <th>15175</th>\n",
              "      <td>Shred: The Story of Asher Bradshaw</td>\n",
              "      <td>6.5</td>\n",
              "      <td>Documentary,Biography,Family,Sport</td>\n",
              "      <td>136.000000</td>\n",
              "      <td>1</td>\n",
              "    </tr>\n",
              "    <tr>\n",
              "      <th>16213</th>\n",
              "      <td>Star Wars: The Empire Strikes Back</td>\n",
              "      <td>9.4</td>\n",
              "      <td>Action,Adventure,Fantasy,Sci-Fi</td>\n",
              "      <td>124.000000</td>\n",
              "      <td>1</td>\n",
              "    </tr>\n",
              "  </tbody>\n",
              "</table>\n",
              "</div>"
            ],
            "text/plain": [
              "                                                   Title  Rotten Tomatoes  \\\n",
              "0                                              Inception              8.7   \n",
              "1                                             The Matrix              8.7   \n",
              "4                         The Good, the Bad and the Ugly              9.7   \n",
              "947                                            Natsamrat              6.5   \n",
              "1214                              Bill Hicks: Relentless              6.5   \n",
              "1311                              Eh Janam Tumhare Lekhe              6.5   \n",
              "1458                                     Untamed Romania              6.5   \n",
              "1979             One Heart: The A.R. Rahman Concert Film              6.5   \n",
              "3560                                     The Dark Knight              9.4   \n",
              "3561                                          GoodFellas              9.6   \n",
              "4829                                     The Mountain II              6.5   \n",
              "5153                                               Anand              6.5   \n",
              "5642                         George Carlin: Back in Town              6.5   \n",
              "5681                  George Carlin: Jammin' in New York              6.5   \n",
              "5931                                             Nayakan              6.5   \n",
              "6424                                     7 Days in Syria              6.5   \n",
              "6452                                Hearing Is Believing              6.0   \n",
              "6654                            Fleetwood Mac: The Dance              6.5   \n",
              "6840                    Peter Gabriel: Secret World Live              6.5   \n",
              "7001   The 25th Anniversary Rock and Roll Hall of Fam...              6.5   \n",
              "7002                           Escape from Firebase Kate              6.5   \n",
              "7084                                      RWBY: Volume 3              6.5   \n",
              "7267                                   A Dog Named Gucci              6.5   \n",
              "7372                         The Boy Whose Skin Fell Off              6.5   \n",
              "7491                                      Finding Family              6.5   \n",
              "7643                    Machine Gun Preacher Documentary              6.5   \n",
              "7915                   Omo Child: The River and the Bush              6.5   \n",
              "7976   Operation Toussaint: Operation Underground Rai...              6.5   \n",
              "8169                                        The Creators              6.5   \n",
              "8220                                          Lost Kites              6.5   \n",
              "8247                                        Memories 677              6.5   \n",
              "8271                                               Arise              6.5   \n",
              "8359                               Stronger Than Bullets              6.5   \n",
              "8458                                      Where's Daddy?              6.5   \n",
              "8655                                       Into The Fire              6.5   \n",
              "8752                                      The Other Kids              6.5   \n",
              "8784                   Black Jack Pershing: Love and War              6.5   \n",
              "8800                    The Jones Family Will Make a Way              6.5   \n",
              "8919              Weaving the Past: Journey of Discovery              6.5   \n",
              "9003                                 The Dolls of Lisbon              6.5   \n",
              "9046                                       Shadow Nation              6.5   \n",
              "9213                        Street Dogs of South Central              6.5   \n",
              "9233                                          Jesus Fish              6.5   \n",
              "9269          First Flight: A Mother Hummingbird's Story              6.5   \n",
              "9427               C. H. Spurgeon: The People's Preacher              6.5   \n",
              "9697                                Devo: Hardcore Live!              6.5   \n",
              "9825            Sleeping Giant: An Indian Football Story              6.5   \n",
              "10069                                        Going on 13              6.5   \n",
              "10249                 8 Wheels & Some Soul Brotha' Music              6.5   \n",
              "11079                           Elvis: The Memphis Flash              6.5   \n",
              "11160                                          Draw Hard              6.5   \n",
              "11873                   Ruby's Studio: the Feelings Show              6.5   \n",
              "11910                          Second Chance By Betrayal              6.5   \n",
              "15175                 Shred: The Story of Asher Bradshaw              6.5   \n",
              "16213                 Star Wars: The Empire Strikes Back              9.4   \n",
              "\n",
              "                                                Genres     Runtime  total_plts  \n",
              "0                     Action,Adventure,Sci-Fi,Thriller  148.000000           1  \n",
              "1                                        Action,Sci-Fi  136.000000           1  \n",
              "4                                              Western  161.000000           2  \n",
              "947                                       Drama,Family  166.000000           1  \n",
              "1214                                Documentary,Comedy   61.000000           1  \n",
              "1311                                         Biography  135.000000           1  \n",
              "1458                                       Documentary   92.000000           2  \n",
              "1979                                 Documentary,Music   87.000000           1  \n",
              "3560                       Action,Crime,Drama,Thriller  152.000000           1  \n",
              "3561                             Biography,Crime,Drama  146.000000           1  \n",
              "4829                                  Action,Drama,War  135.000000           1  \n",
              "5153                                     Drama,Musical  122.000000           1  \n",
              "5642                                Documentary,Comedy   60.000000           1  \n",
              "5681                                Documentary,Comedy   59.000000           1  \n",
              "5931                                       Crime,Drama  145.000000           1  \n",
              "6424                             Documentary,Drama,War   75.000000           1  \n",
              "6452                Documentary,Biography,Family,Music  104.000000           1  \n",
              "6654                                 Documentary,Music   90.000000           1  \n",
              "6840                                 Documentary,Music  102.000000           1  \n",
              "7001                                             Music  255.000000           1  \n",
              "7002                                       Documentary   60.000000           1  \n",
              "7084    Animation,Action,Drama,Fantasy,Sci-Fi,Thriller  173.000000           1  \n",
              "7267                  Documentary,Biography,Drama,News   90.000000           1  \n",
              "7372                                       Documentary   50.000000           1  \n",
              "7491                    Documentary,Family,History,War   56.000000           1  \n",
              "7643                                       Documentary   73.000000           1  \n",
              "7915               Documentary,Biography,Drama,History   89.000000           1  \n",
              "7976                                       Documentary   82.000000           1  \n",
              "8169                    Documentary,History,Music,News   89.000000           1  \n",
              "8220                                       Documentary   50.000000           1  \n",
              "8247   Animation,Comedy,Fantasy,Horror,Sci-Fi,Thriller  113.000000           1  \n",
              "8271                                      Comedy,Drama  130.000000           1  \n",
              "8359                             Documentary,Music,War   87.000000           1  \n",
              "8458                                       Documentary  105.000000           1  \n",
              "8655                                   Biography,Drama  116.000000           1  \n",
              "8752                                       Documentary   54.000000           1  \n",
              "8784                 Documentary,Biography,History,War   57.000000           1  \n",
              "8800                    Documentary,Drama,Family,Music   91.000000           1  \n",
              "8919                                       Documentary  126.000000           1  \n",
              "9003                                       Documentary   72.000000           1  \n",
              "9046                               Documentary,History   67.000000           1  \n",
              "9213                                       Documentary   83.000000           1  \n",
              "9233                              Short,Drama,Thriller   22.000000           1  \n",
              "9269                                Documentary,Family   47.000000           1  \n",
              "9427                                       Documentary   70.000000           1  \n",
              "9697                                       Documentary   85.000000           1  \n",
              "9825                         Documentary,History,Sport   53.000000           1  \n",
              "10069                                      Documentary   77.000000           1  \n",
              "10249                                      Documentary   70.000000           1  \n",
              "11079                                Documentary,Music  120.000000           1  \n",
              "11160                                Documentary,Short   20.000000           1  \n",
              "11873                                           Family   46.000000           1  \n",
              "11910                                            Drama   93.413447           1  \n",
              "15175               Documentary,Biography,Family,Sport  136.000000           1  \n",
              "16213                  Action,Adventure,Fantasy,Sci-Fi  124.000000           1  "
            ]
          },
          "execution_count": 150,
          "metadata": {},
          "output_type": "execute_result"
        }
      ],
      "source": [
        "top5_df = movie[movie['IMDb'].isin(top_IMDb)][['Title','Rotten Tomatoes','Genres','Runtime','total_plts']]\n",
        "top5_df"
      ]
    },
    {
      "cell_type": "markdown",
      "metadata": {},
      "source": []
    },
    {
      "cell_type": "markdown",
      "metadata": {},
      "source": []
    },
    {
      "cell_type": "markdown",
      "metadata": {},
      "source": []
    },
    {
      "cell_type": "markdown",
      "metadata": {},
      "source": []
    },
    {
      "cell_type": "markdown",
      "metadata": {},
      "source": []
    },
    {
      "cell_type": "markdown",
      "metadata": {},
      "source": []
    },
    {
      "cell_type": "markdown",
      "metadata": {},
      "source": []
    },
    {
      "cell_type": "markdown",
      "metadata": {},
      "source": []
    }
  ],
  "metadata": {
    "colab": {
      "provenance": []
    },
    "kernelspec": {
      "display_name": "Python 3",
      "name": "python3"
    },
    "language_info": {
      "codemirror_mode": {
        "name": "ipython",
        "version": 3
      },
      "file_extension": ".py",
      "mimetype": "text/x-python",
      "name": "python",
      "nbconvert_exporter": "python",
      "pygments_lexer": "ipython3",
      "version": "3.13.1"
    }
  },
  "nbformat": 4,
  "nbformat_minor": 0
}
