{
  "cells": [
    {
      "cell_type": "code",
      "execution_count": 3,
      "metadata": {
        "id": "nrTbXyvg4ofs"
      },
      "outputs": [],
      "source": [
        "import pandas as pd\n",
        "import numpy as np\n",
        "import matplotlib.pyplot as plt\n",
        "import seaborn as sns"
      ]
    },
    {
      "cell_type": "markdown",
      "metadata": {
        "id": "zGztvlIG5w9Q"
      },
      "source": [
        "get the titanic dataset"
      ]
    },
    {
      "cell_type": "code",
      "execution_count": 4,
      "metadata": {
        "id": "1eaicaj-4trl"
      },
      "outputs": [],
      "source": [
        "url='https://raw.githubusercontent.com/rajeevratan84/datascienceforbusiness/refs/heads/master/titanic.csv'\n",
        "\n",
        "df=pd.read_csv(url)"
      ]
    },
    {
      "cell_type": "markdown",
      "metadata": {
        "id": "UdAq8Tjy50Qu"
      },
      "source": [
        "display the titanic dataset"
      ]
    },
    {
      "cell_type": "code",
      "execution_count": 5,
      "metadata": {
        "colab": {
          "base_uri": "https://localhost:8080/",
          "height": 808
        },
        "id": "U04_A25Z5LKE",
        "outputId": "17fea355-c2f0-42ef-f468-47ac91de7ef2"
      },
      "outputs": [
        {
          "data": {
            "text/html": [
              "<div>\n",
              "<style scoped>\n",
              "    .dataframe tbody tr th:only-of-type {\n",
              "        vertical-align: middle;\n",
              "    }\n",
              "\n",
              "    .dataframe tbody tr th {\n",
              "        vertical-align: top;\n",
              "    }\n",
              "\n",
              "    .dataframe thead th {\n",
              "        text-align: right;\n",
              "    }\n",
              "</style>\n",
              "<table border=\"1\" class=\"dataframe\">\n",
              "  <thead>\n",
              "    <tr style=\"text-align: right;\">\n",
              "      <th></th>\n",
              "      <th>pclass</th>\n",
              "      <th>name</th>\n",
              "      <th>sex</th>\n",
              "      <th>age</th>\n",
              "      <th>sibsp</th>\n",
              "      <th>parch</th>\n",
              "      <th>ticket</th>\n",
              "      <th>fare</th>\n",
              "      <th>cabin</th>\n",
              "      <th>embarked</th>\n",
              "      <th>survived</th>\n",
              "    </tr>\n",
              "  </thead>\n",
              "  <tbody>\n",
              "    <tr>\n",
              "      <th>0</th>\n",
              "      <td>1</td>\n",
              "      <td>Allen, Miss. Elisabeth Walton</td>\n",
              "      <td>female</td>\n",
              "      <td>29.0000</td>\n",
              "      <td>0</td>\n",
              "      <td>0</td>\n",
              "      <td>24160</td>\n",
              "      <td>211.3375</td>\n",
              "      <td>B5</td>\n",
              "      <td>S</td>\n",
              "      <td>1</td>\n",
              "    </tr>\n",
              "    <tr>\n",
              "      <th>1</th>\n",
              "      <td>1</td>\n",
              "      <td>Allison, Master. Hudson Trevor</td>\n",
              "      <td>male</td>\n",
              "      <td>0.9167</td>\n",
              "      <td>1</td>\n",
              "      <td>2</td>\n",
              "      <td>113781</td>\n",
              "      <td>151.5500</td>\n",
              "      <td>C22 C26</td>\n",
              "      <td>S</td>\n",
              "      <td>1</td>\n",
              "    </tr>\n",
              "    <tr>\n",
              "      <th>2</th>\n",
              "      <td>1</td>\n",
              "      <td>Allison, Miss. Helen Loraine</td>\n",
              "      <td>female</td>\n",
              "      <td>2.0000</td>\n",
              "      <td>1</td>\n",
              "      <td>2</td>\n",
              "      <td>113781</td>\n",
              "      <td>151.5500</td>\n",
              "      <td>C22 C26</td>\n",
              "      <td>S</td>\n",
              "      <td>0</td>\n",
              "    </tr>\n",
              "    <tr>\n",
              "      <th>3</th>\n",
              "      <td>1</td>\n",
              "      <td>Allison, Mr. Hudson Joshua Creighton</td>\n",
              "      <td>male</td>\n",
              "      <td>30.0000</td>\n",
              "      <td>1</td>\n",
              "      <td>2</td>\n",
              "      <td>113781</td>\n",
              "      <td>151.5500</td>\n",
              "      <td>C22 C26</td>\n",
              "      <td>S</td>\n",
              "      <td>0</td>\n",
              "    </tr>\n",
              "    <tr>\n",
              "      <th>4</th>\n",
              "      <td>1</td>\n",
              "      <td>Allison, Mrs. Hudson J C (Bessie Waldo Daniels)</td>\n",
              "      <td>female</td>\n",
              "      <td>25.0000</td>\n",
              "      <td>1</td>\n",
              "      <td>2</td>\n",
              "      <td>113781</td>\n",
              "      <td>151.5500</td>\n",
              "      <td>C22 C26</td>\n",
              "      <td>S</td>\n",
              "      <td>0</td>\n",
              "    </tr>\n",
              "    <tr>\n",
              "      <th>...</th>\n",
              "      <td>...</td>\n",
              "      <td>...</td>\n",
              "      <td>...</td>\n",
              "      <td>...</td>\n",
              "      <td>...</td>\n",
              "      <td>...</td>\n",
              "      <td>...</td>\n",
              "      <td>...</td>\n",
              "      <td>...</td>\n",
              "      <td>...</td>\n",
              "      <td>...</td>\n",
              "    </tr>\n",
              "    <tr>\n",
              "      <th>1304</th>\n",
              "      <td>3</td>\n",
              "      <td>Zabour, Miss. Hileni</td>\n",
              "      <td>female</td>\n",
              "      <td>14.5000</td>\n",
              "      <td>1</td>\n",
              "      <td>0</td>\n",
              "      <td>2665</td>\n",
              "      <td>14.4542</td>\n",
              "      <td>NaN</td>\n",
              "      <td>C</td>\n",
              "      <td>0</td>\n",
              "    </tr>\n",
              "    <tr>\n",
              "      <th>1305</th>\n",
              "      <td>3</td>\n",
              "      <td>Zabour, Miss. Thamine</td>\n",
              "      <td>female</td>\n",
              "      <td>NaN</td>\n",
              "      <td>1</td>\n",
              "      <td>0</td>\n",
              "      <td>2665</td>\n",
              "      <td>14.4542</td>\n",
              "      <td>NaN</td>\n",
              "      <td>C</td>\n",
              "      <td>0</td>\n",
              "    </tr>\n",
              "    <tr>\n",
              "      <th>1306</th>\n",
              "      <td>3</td>\n",
              "      <td>Zakarian, Mr. Mapriededer</td>\n",
              "      <td>male</td>\n",
              "      <td>26.5000</td>\n",
              "      <td>0</td>\n",
              "      <td>0</td>\n",
              "      <td>2656</td>\n",
              "      <td>7.2250</td>\n",
              "      <td>NaN</td>\n",
              "      <td>C</td>\n",
              "      <td>0</td>\n",
              "    </tr>\n",
              "    <tr>\n",
              "      <th>1307</th>\n",
              "      <td>3</td>\n",
              "      <td>Zakarian, Mr. Ortin</td>\n",
              "      <td>male</td>\n",
              "      <td>27.0000</td>\n",
              "      <td>0</td>\n",
              "      <td>0</td>\n",
              "      <td>2670</td>\n",
              "      <td>7.2250</td>\n",
              "      <td>NaN</td>\n",
              "      <td>C</td>\n",
              "      <td>0</td>\n",
              "    </tr>\n",
              "    <tr>\n",
              "      <th>1308</th>\n",
              "      <td>3</td>\n",
              "      <td>Zimmerman, Mr. Leo</td>\n",
              "      <td>male</td>\n",
              "      <td>29.0000</td>\n",
              "      <td>0</td>\n",
              "      <td>0</td>\n",
              "      <td>315082</td>\n",
              "      <td>7.8750</td>\n",
              "      <td>NaN</td>\n",
              "      <td>S</td>\n",
              "      <td>0</td>\n",
              "    </tr>\n",
              "  </tbody>\n",
              "</table>\n",
              "<p>1309 rows × 11 columns</p>\n",
              "</div>"
            ],
            "text/plain": [
              "      pclass                                             name     sex  \\\n",
              "0          1                    Allen, Miss. Elisabeth Walton  female   \n",
              "1          1                   Allison, Master. Hudson Trevor    male   \n",
              "2          1                     Allison, Miss. Helen Loraine  female   \n",
              "3          1             Allison, Mr. Hudson Joshua Creighton    male   \n",
              "4          1  Allison, Mrs. Hudson J C (Bessie Waldo Daniels)  female   \n",
              "...      ...                                              ...     ...   \n",
              "1304       3                             Zabour, Miss. Hileni  female   \n",
              "1305       3                            Zabour, Miss. Thamine  female   \n",
              "1306       3                        Zakarian, Mr. Mapriededer    male   \n",
              "1307       3                              Zakarian, Mr. Ortin    male   \n",
              "1308       3                               Zimmerman, Mr. Leo    male   \n",
              "\n",
              "          age  sibsp  parch  ticket      fare    cabin embarked  survived  \n",
              "0     29.0000      0      0   24160  211.3375       B5        S         1  \n",
              "1      0.9167      1      2  113781  151.5500  C22 C26        S         1  \n",
              "2      2.0000      1      2  113781  151.5500  C22 C26        S         0  \n",
              "3     30.0000      1      2  113781  151.5500  C22 C26        S         0  \n",
              "4     25.0000      1      2  113781  151.5500  C22 C26        S         0  \n",
              "...       ...    ...    ...     ...       ...      ...      ...       ...  \n",
              "1304  14.5000      1      0    2665   14.4542      NaN        C         0  \n",
              "1305      NaN      1      0    2665   14.4542      NaN        C         0  \n",
              "1306  26.5000      0      0    2656    7.2250      NaN        C         0  \n",
              "1307  27.0000      0      0    2670    7.2250      NaN        C         0  \n",
              "1308  29.0000      0      0  315082    7.8750      NaN        S         0  \n",
              "\n",
              "[1309 rows x 11 columns]"
            ]
          },
          "execution_count": 5,
          "metadata": {},
          "output_type": "execute_result"
        }
      ],
      "source": [
        "df"
      ]
    },
    {
      "cell_type": "markdown",
      "metadata": {
        "id": "WmWFv40V5_go"
      },
      "source": [
        "get the column names of titanic dataset"
      ]
    },
    {
      "cell_type": "markdown",
      "metadata": {
        "id": "FqNcj2OVDvUY"
      },
      "source": [
        "# UNDERSTANDING THE DATASET"
      ]
    },
    {
      "cell_type": "code",
      "execution_count": 6,
      "metadata": {
        "colab": {
          "base_uri": "https://localhost:8080/"
        },
        "id": "CcDayo9R5N6D",
        "outputId": "b6350568-0ed3-4991-e3cc-bfceb3128a3f"
      },
      "outputs": [
        {
          "data": {
            "text/plain": [
              "Index(['pclass', 'name', 'sex', 'age', 'sibsp', 'parch', 'ticket', 'fare',\n",
              "       'cabin', 'embarked', 'survived'],\n",
              "      dtype='object')"
            ]
          },
          "execution_count": 6,
          "metadata": {},
          "output_type": "execute_result"
        }
      ],
      "source": [
        "df.columns"
      ]
    },
    {
      "cell_type": "markdown",
      "metadata": {
        "id": "Cvw0E_J_6T_a"
      },
      "source": [
        "get the information of each column"
      ]
    },
    {
      "cell_type": "code",
      "execution_count": 7,
      "metadata": {
        "colab": {
          "base_uri": "https://localhost:8080/"
        },
        "id": "XHYc1fuq6GUk",
        "outputId": "d5e1b079-a43f-4c05-9174-0e0a49a4849b"
      },
      "outputs": [
        {
          "name": "stdout",
          "output_type": "stream",
          "text": [
            "<class 'pandas.core.frame.DataFrame'>\n",
            "RangeIndex: 1309 entries, 0 to 1308\n",
            "Data columns (total 11 columns):\n",
            " #   Column    Non-Null Count  Dtype  \n",
            "---  ------    --------------  -----  \n",
            " 0   pclass    1309 non-null   int64  \n",
            " 1   name      1309 non-null   object \n",
            " 2   sex       1309 non-null   object \n",
            " 3   age       1046 non-null   float64\n",
            " 4   sibsp     1309 non-null   int64  \n",
            " 5   parch     1309 non-null   int64  \n",
            " 6   ticket    1309 non-null   object \n",
            " 7   fare      1308 non-null   float64\n",
            " 8   cabin     295 non-null    object \n",
            " 9   embarked  1307 non-null   object \n",
            " 10  survived  1309 non-null   int64  \n",
            "dtypes: float64(2), int64(4), object(5)\n",
            "memory usage: 112.6+ KB\n"
          ]
        }
      ],
      "source": [
        "df.info()"
      ]
    },
    {
      "cell_type": "markdown",
      "metadata": {
        "id": "2WBCq0pc6hCJ"
      },
      "source": [
        "observation: columns like age,fare,cabin,embarked are having missing values.\n",
        "All columns are having valid dtype(data type)"
      ]
    },
    {
      "cell_type": "markdown",
      "metadata": {
        "id": "yz9wcZtcD2qI"
      },
      "source": [
        "# DATA CLEANING"
      ]
    },
    {
      "cell_type": "code",
      "execution_count": 8,
      "metadata": {
        "id": "-_x87cWzEtCf"
      },
      "outputs": [],
      "source": [
        "# age  column has to be filled with mean\n",
        "age_mean=df['age'].mean()\n",
        "# fare column has to be filled with mean\n",
        "fare_mean=df['fare'].mean()\n",
        "# embarked  column has to be filled with mode   or ('unknown)\n",
        "embarked_mode=df['embarked'].mode()[0]"
      ]
    },
    {
      "cell_type": "code",
      "execution_count": 9,
      "metadata": {
        "id": "cbe2RX8UEsyM"
      },
      "outputs": [],
      "source": [
        "# fillna() -- used to fill the missing values (None,NaN)\n",
        "\n",
        "df['age']=df['age'].fillna(age_mean)\n",
        "df['fare']=df['fare'].fillna(fare_mean)\n",
        "df['embarked']=df['embarked'].fillna(embarked_mode)"
      ]
    },
    {
      "cell_type": "code",
      "execution_count": 10,
      "metadata": {
        "id": "HwlQuMGIEr_T"
      },
      "outputs": [],
      "source": [
        "# cabin column which has null values has to be removed from dataset\n",
        "#-------------------------------------------------------------------\n",
        "# dropna()\n",
        "# auto detects the rows and columns which are having missing values and removes them\n",
        "# axis=0 (remove the rows which are having missing values)\n",
        "# axis=1 (remove the columns which are having missing values)\n",
        "\n",
        "df=df.dropna(axis=1)"
      ]
    },
    {
      "cell_type": "code",
      "execution_count": 11,
      "metadata": {
        "id": "nNI8D14JNq10"
      },
      "outputs": [],
      "source": [
        "# convert the fare column dtype\n",
        "#-----------------------------------------\n",
        "# astype() - used to convert dtype of columns\n",
        "#          - we have to pass dict -- {'col':dtype , 'col':dtype ,...........}\n",
        "\n",
        "df=df.astype({'fare':int})"
      ]
    },
    {
      "cell_type": "markdown",
      "metadata": {
        "id": "ttfULgHUD5N0"
      },
      "source": [
        "# DATA TRANSFORMATION"
      ]
    },
    {
      "cell_type": "code",
      "execution_count": 12,
      "metadata": {
        "colab": {
          "base_uri": "https://localhost:8080/",
          "height": 236
        },
        "id": "3AEH7pUvO4xM",
        "outputId": "a7f04069-dc29-495f-b7ec-20a83957afc1"
      },
      "outputs": [
        {
          "data": {
            "text/html": [
              "<div>\n",
              "<style scoped>\n",
              "    .dataframe tbody tr th:only-of-type {\n",
              "        vertical-align: middle;\n",
              "    }\n",
              "\n",
              "    .dataframe tbody tr th {\n",
              "        vertical-align: top;\n",
              "    }\n",
              "\n",
              "    .dataframe thead th {\n",
              "        text-align: right;\n",
              "    }\n",
              "</style>\n",
              "<table border=\"1\" class=\"dataframe\">\n",
              "  <thead>\n",
              "    <tr style=\"text-align: right;\">\n",
              "      <th></th>\n",
              "      <th>pclass</th>\n",
              "      <th>name</th>\n",
              "      <th>sex</th>\n",
              "      <th>age</th>\n",
              "      <th>sibsp</th>\n",
              "      <th>parch</th>\n",
              "      <th>ticket</th>\n",
              "      <th>fare</th>\n",
              "      <th>embarked</th>\n",
              "      <th>survived</th>\n",
              "    </tr>\n",
              "  </thead>\n",
              "  <tbody>\n",
              "    <tr>\n",
              "      <th>0</th>\n",
              "      <td>1</td>\n",
              "      <td>Allen, Miss. Elisabeth Walton</td>\n",
              "      <td>female</td>\n",
              "      <td>29.0000</td>\n",
              "      <td>0</td>\n",
              "      <td>0</td>\n",
              "      <td>24160</td>\n",
              "      <td>211</td>\n",
              "      <td>S</td>\n",
              "      <td>1</td>\n",
              "    </tr>\n",
              "    <tr>\n",
              "      <th>1</th>\n",
              "      <td>1</td>\n",
              "      <td>Allison, Master. Hudson Trevor</td>\n",
              "      <td>male</td>\n",
              "      <td>0.9167</td>\n",
              "      <td>1</td>\n",
              "      <td>2</td>\n",
              "      <td>113781</td>\n",
              "      <td>151</td>\n",
              "      <td>S</td>\n",
              "      <td>1</td>\n",
              "    </tr>\n",
              "  </tbody>\n",
              "</table>\n",
              "</div>"
            ],
            "text/plain": [
              "   pclass                            name     sex      age  sibsp  parch  \\\n",
              "0       1   Allen, Miss. Elisabeth Walton  female  29.0000      0      0   \n",
              "1       1  Allison, Master. Hudson Trevor    male   0.9167      1      2   \n",
              "\n",
              "   ticket  fare embarked  survived  \n",
              "0   24160   211        S         1  \n",
              "1  113781   151        S         1  "
            ]
          },
          "execution_count": 12,
          "metadata": {},
          "output_type": "execute_result"
        }
      ],
      "source": [
        "df.head(2)"
      ]
    },
    {
      "cell_type": "code",
      "execution_count": 13,
      "metadata": {
        "id": "JVsjjQ71POfz"
      },
      "outputs": [],
      "source": [
        "# df['name'].str.split(',',n=1) # list of elements\n",
        "\n",
        "temp=df['name'].str.split(',',n=1,expand=True) # list has been converted to columns\n",
        "last_name=temp[0]\n",
        "t_fname=temp[1]\n",
        "courtesy_title=t_fname.str.split('.',n=1,expand=True)[0]\n",
        "first_name=t_fname.str.split('.',n=1,expand=True)[1]\n",
        "# last_name , courtesy_title , first_name (series)\n"
      ]
    },
    {
      "cell_type": "code",
      "execution_count": 14,
      "metadata": {
        "id": "UrAkOWcXT2D6"
      },
      "outputs": [],
      "source": [
        "# creating new columns\n",
        "df['courtesy_title']=courtesy_title\n",
        "df['lname']=last_name\n",
        "df['fname']=first_name"
      ]
    },
    {
      "cell_type": "code",
      "execution_count": 15,
      "metadata": {
        "colab": {
          "base_uri": "https://localhost:8080/",
          "height": 236
        },
        "id": "D9NKi_hyUIoz",
        "outputId": "29b60d55-d114-41fd-a455-b994cbc901bd"
      },
      "outputs": [
        {
          "data": {
            "text/html": [
              "<div>\n",
              "<style scoped>\n",
              "    .dataframe tbody tr th:only-of-type {\n",
              "        vertical-align: middle;\n",
              "    }\n",
              "\n",
              "    .dataframe tbody tr th {\n",
              "        vertical-align: top;\n",
              "    }\n",
              "\n",
              "    .dataframe thead th {\n",
              "        text-align: right;\n",
              "    }\n",
              "</style>\n",
              "<table border=\"1\" class=\"dataframe\">\n",
              "  <thead>\n",
              "    <tr style=\"text-align: right;\">\n",
              "      <th></th>\n",
              "      <th>pclass</th>\n",
              "      <th>name</th>\n",
              "      <th>sex</th>\n",
              "      <th>age</th>\n",
              "      <th>sibsp</th>\n",
              "      <th>parch</th>\n",
              "      <th>ticket</th>\n",
              "      <th>fare</th>\n",
              "      <th>embarked</th>\n",
              "      <th>survived</th>\n",
              "      <th>courtesy_title</th>\n",
              "      <th>lname</th>\n",
              "      <th>fname</th>\n",
              "    </tr>\n",
              "  </thead>\n",
              "  <tbody>\n",
              "    <tr>\n",
              "      <th>0</th>\n",
              "      <td>1</td>\n",
              "      <td>Allen, Miss. Elisabeth Walton</td>\n",
              "      <td>female</td>\n",
              "      <td>29.0000</td>\n",
              "      <td>0</td>\n",
              "      <td>0</td>\n",
              "      <td>24160</td>\n",
              "      <td>211</td>\n",
              "      <td>S</td>\n",
              "      <td>1</td>\n",
              "      <td>Miss</td>\n",
              "      <td>Allen</td>\n",
              "      <td>Elisabeth Walton</td>\n",
              "    </tr>\n",
              "    <tr>\n",
              "      <th>1</th>\n",
              "      <td>1</td>\n",
              "      <td>Allison, Master. Hudson Trevor</td>\n",
              "      <td>male</td>\n",
              "      <td>0.9167</td>\n",
              "      <td>1</td>\n",
              "      <td>2</td>\n",
              "      <td>113781</td>\n",
              "      <td>151</td>\n",
              "      <td>S</td>\n",
              "      <td>1</td>\n",
              "      <td>Master</td>\n",
              "      <td>Allison</td>\n",
              "      <td>Hudson Trevor</td>\n",
              "    </tr>\n",
              "  </tbody>\n",
              "</table>\n",
              "</div>"
            ],
            "text/plain": [
              "   pclass                            name     sex      age  sibsp  parch  \\\n",
              "0       1   Allen, Miss. Elisabeth Walton  female  29.0000      0      0   \n",
              "1       1  Allison, Master. Hudson Trevor    male   0.9167      1      2   \n",
              "\n",
              "   ticket  fare embarked  survived courtesy_title    lname              fname  \n",
              "0   24160   211        S         1           Miss    Allen   Elisabeth Walton  \n",
              "1  113781   151        S         1         Master  Allison      Hudson Trevor  "
            ]
          },
          "execution_count": 15,
          "metadata": {},
          "output_type": "execute_result"
        }
      ],
      "source": [
        "df.head(2)"
      ]
    },
    {
      "cell_type": "code",
      "execution_count": 16,
      "metadata": {
        "id": "vwpMPHlAV6xC"
      },
      "outputs": [],
      "source": [
        "df=df.drop(columns=['name'])\n",
        "# drop() -- used to remove the rows/records\n",
        "# index=[indices of row]\n",
        "# columns=[names of column]"
      ]
    },
    {
      "cell_type": "code",
      "execution_count": 17,
      "metadata": {
        "colab": {
          "base_uri": "https://localhost:8080/",
          "height": 167
        },
        "id": "KclgmFHMWGK-",
        "outputId": "9735cce5-08eb-4037-9341-7ff4de161683"
      },
      "outputs": [
        {
          "data": {
            "text/html": [
              "<div>\n",
              "<style scoped>\n",
              "    .dataframe tbody tr th:only-of-type {\n",
              "        vertical-align: middle;\n",
              "    }\n",
              "\n",
              "    .dataframe tbody tr th {\n",
              "        vertical-align: top;\n",
              "    }\n",
              "\n",
              "    .dataframe thead th {\n",
              "        text-align: right;\n",
              "    }\n",
              "</style>\n",
              "<table border=\"1\" class=\"dataframe\">\n",
              "  <thead>\n",
              "    <tr style=\"text-align: right;\">\n",
              "      <th></th>\n",
              "      <th>pclass</th>\n",
              "      <th>sex</th>\n",
              "      <th>age</th>\n",
              "      <th>sibsp</th>\n",
              "      <th>parch</th>\n",
              "      <th>ticket</th>\n",
              "      <th>fare</th>\n",
              "      <th>embarked</th>\n",
              "      <th>survived</th>\n",
              "      <th>courtesy_title</th>\n",
              "      <th>lname</th>\n",
              "      <th>fname</th>\n",
              "    </tr>\n",
              "  </thead>\n",
              "  <tbody>\n",
              "    <tr>\n",
              "      <th>0</th>\n",
              "      <td>1</td>\n",
              "      <td>female</td>\n",
              "      <td>29.0000</td>\n",
              "      <td>0</td>\n",
              "      <td>0</td>\n",
              "      <td>24160</td>\n",
              "      <td>211</td>\n",
              "      <td>S</td>\n",
              "      <td>1</td>\n",
              "      <td>Miss</td>\n",
              "      <td>Allen</td>\n",
              "      <td>Elisabeth Walton</td>\n",
              "    </tr>\n",
              "    <tr>\n",
              "      <th>1</th>\n",
              "      <td>1</td>\n",
              "      <td>male</td>\n",
              "      <td>0.9167</td>\n",
              "      <td>1</td>\n",
              "      <td>2</td>\n",
              "      <td>113781</td>\n",
              "      <td>151</td>\n",
              "      <td>S</td>\n",
              "      <td>1</td>\n",
              "      <td>Master</td>\n",
              "      <td>Allison</td>\n",
              "      <td>Hudson Trevor</td>\n",
              "    </tr>\n",
              "  </tbody>\n",
              "</table>\n",
              "</div>"
            ],
            "text/plain": [
              "   pclass     sex      age  sibsp  parch  ticket  fare embarked  survived  \\\n",
              "0       1  female  29.0000      0      0   24160   211        S         1   \n",
              "1       1    male   0.9167      1      2  113781   151        S         1   \n",
              "\n",
              "  courtesy_title    lname              fname  \n",
              "0           Miss    Allen   Elisabeth Walton  \n",
              "1         Master  Allison      Hudson Trevor  "
            ]
          },
          "execution_count": 17,
          "metadata": {},
          "output_type": "execute_result"
        }
      ],
      "source": [
        "df.head(2)"
      ]
    },
    {
      "cell_type": "code",
      "execution_count": 18,
      "metadata": {
        "id": "-mY5EI_vXAc3"
      },
      "outputs": [],
      "source": [
        "df['family_count']=df['sibsp']+df['parch']"
      ]
    },
    {
      "cell_type": "code",
      "execution_count": 19,
      "metadata": {
        "colab": {
          "base_uri": "https://localhost:8080/",
          "height": 167
        },
        "id": "SyM_UPy0XO58",
        "outputId": "0baf6801-e3bc-4c0a-8902-083fc35466c8"
      },
      "outputs": [
        {
          "data": {
            "text/html": [
              "<div>\n",
              "<style scoped>\n",
              "    .dataframe tbody tr th:only-of-type {\n",
              "        vertical-align: middle;\n",
              "    }\n",
              "\n",
              "    .dataframe tbody tr th {\n",
              "        vertical-align: top;\n",
              "    }\n",
              "\n",
              "    .dataframe thead th {\n",
              "        text-align: right;\n",
              "    }\n",
              "</style>\n",
              "<table border=\"1\" class=\"dataframe\">\n",
              "  <thead>\n",
              "    <tr style=\"text-align: right;\">\n",
              "      <th></th>\n",
              "      <th>pclass</th>\n",
              "      <th>sex</th>\n",
              "      <th>age</th>\n",
              "      <th>ticket</th>\n",
              "      <th>fare</th>\n",
              "      <th>embarked</th>\n",
              "      <th>survived</th>\n",
              "      <th>courtesy_title</th>\n",
              "      <th>lname</th>\n",
              "      <th>fname</th>\n",
              "      <th>family_count</th>\n",
              "    </tr>\n",
              "  </thead>\n",
              "  <tbody>\n",
              "    <tr>\n",
              "      <th>0</th>\n",
              "      <td>1</td>\n",
              "      <td>female</td>\n",
              "      <td>29.0000</td>\n",
              "      <td>24160</td>\n",
              "      <td>211</td>\n",
              "      <td>S</td>\n",
              "      <td>1</td>\n",
              "      <td>Miss</td>\n",
              "      <td>Allen</td>\n",
              "      <td>Elisabeth Walton</td>\n",
              "      <td>0</td>\n",
              "    </tr>\n",
              "    <tr>\n",
              "      <th>1</th>\n",
              "      <td>1</td>\n",
              "      <td>male</td>\n",
              "      <td>0.9167</td>\n",
              "      <td>113781</td>\n",
              "      <td>151</td>\n",
              "      <td>S</td>\n",
              "      <td>1</td>\n",
              "      <td>Master</td>\n",
              "      <td>Allison</td>\n",
              "      <td>Hudson Trevor</td>\n",
              "      <td>3</td>\n",
              "    </tr>\n",
              "  </tbody>\n",
              "</table>\n",
              "</div>"
            ],
            "text/plain": [
              "   pclass     sex      age  ticket  fare embarked  survived courtesy_title  \\\n",
              "0       1  female  29.0000   24160   211        S         1           Miss   \n",
              "1       1    male   0.9167  113781   151        S         1         Master   \n",
              "\n",
              "     lname              fname  family_count  \n",
              "0    Allen   Elisabeth Walton             0  \n",
              "1  Allison      Hudson Trevor             3  "
            ]
          },
          "execution_count": 19,
          "metadata": {},
          "output_type": "execute_result"
        }
      ],
      "source": [
        "df=df.drop(columns=['sibsp','parch'])\n",
        "df.head(2)\n",
        "\n"
      ]
    },
    {
      "cell_type": "code",
      "execution_count": 20,
      "metadata": {
        "id": "7PiNcbSGYPto"
      },
      "outputs": [],
      "source": [
        "# Rename the sex column to gender column\n",
        "# rename() -- used to change the name of the rows/columns\n",
        "# for rows --->           index={'old_name' : 'new_name' ,............}\n",
        "# for columns --->        columns={'old_name' : 'new_name' ,............}\n",
        "df=df.rename(columns={'sex':'gender'})"
      ]
    },
    {
      "cell_type": "code",
      "execution_count": 21,
      "metadata": {
        "colab": {
          "base_uri": "https://localhost:8080/"
        },
        "id": "wsQ6uEpQZeBy",
        "outputId": "8026df5f-7eea-4487-87e7-4fd90b72fc84"
      },
      "outputs": [
        {
          "data": {
            "text/plain": [
              "Index(['pclass', 'gender', 'age', 'ticket', 'fare', 'embarked', 'survived',\n",
              "       'courtesy_title', 'lname', 'fname', 'family_count'],\n",
              "      dtype='object')"
            ]
          },
          "execution_count": 21,
          "metadata": {},
          "output_type": "execute_result"
        }
      ],
      "source": [
        "df.columns"
      ]
    },
    {
      "cell_type": "code",
      "execution_count": 22,
      "metadata": {
        "colab": {
          "base_uri": "https://localhost:8080/"
        },
        "id": "TK6vOXs2aczj",
        "outputId": "dcdc8327-13e6-42d4-c4c5-3c4b930eb6f2"
      },
      "outputs": [
        {
          "data": {
            "text/plain": [
              "array(['S', 'C', 'Q'], dtype=object)"
            ]
          },
          "execution_count": 22,
          "metadata": {},
          "output_type": "execute_result"
        }
      ],
      "source": [
        "pd.unique(df['embarked']) # to get unique data in a column\n",
        "\n"
      ]
    },
    {
      "cell_type": "code",
      "execution_count": 23,
      "metadata": {
        "id": "0GaE0CSeaPhB"
      },
      "outputs": [],
      "source": [
        "# replace() --> used to replace the old_values by new_values\n",
        "#           --> we have to pass dict\n",
        "df['embarked']=df['embarked'].replace({'S':'Southampton', 'C':'Cherbourg' ,'Q':'Queenstown'})"
      ]
    },
    {
      "cell_type": "code",
      "execution_count": 24,
      "metadata": {
        "colab": {
          "base_uri": "https://localhost:8080/",
          "height": 167
        },
        "id": "iKsX7aGza0Xa",
        "outputId": "24b0722d-8872-4be8-aa28-a725ba785d57"
      },
      "outputs": [
        {
          "data": {
            "text/html": [
              "<div>\n",
              "<style scoped>\n",
              "    .dataframe tbody tr th:only-of-type {\n",
              "        vertical-align: middle;\n",
              "    }\n",
              "\n",
              "    .dataframe tbody tr th {\n",
              "        vertical-align: top;\n",
              "    }\n",
              "\n",
              "    .dataframe thead th {\n",
              "        text-align: right;\n",
              "    }\n",
              "</style>\n",
              "<table border=\"1\" class=\"dataframe\">\n",
              "  <thead>\n",
              "    <tr style=\"text-align: right;\">\n",
              "      <th></th>\n",
              "      <th>pclass</th>\n",
              "      <th>gender</th>\n",
              "      <th>age</th>\n",
              "      <th>ticket</th>\n",
              "      <th>fare</th>\n",
              "      <th>embarked</th>\n",
              "      <th>survived</th>\n",
              "      <th>courtesy_title</th>\n",
              "      <th>lname</th>\n",
              "      <th>fname</th>\n",
              "      <th>family_count</th>\n",
              "    </tr>\n",
              "  </thead>\n",
              "  <tbody>\n",
              "    <tr>\n",
              "      <th>0</th>\n",
              "      <td>1</td>\n",
              "      <td>female</td>\n",
              "      <td>29.0000</td>\n",
              "      <td>24160</td>\n",
              "      <td>211</td>\n",
              "      <td>Southampton</td>\n",
              "      <td>1</td>\n",
              "      <td>Miss</td>\n",
              "      <td>Allen</td>\n",
              "      <td>Elisabeth Walton</td>\n",
              "      <td>0</td>\n",
              "    </tr>\n",
              "    <tr>\n",
              "      <th>1</th>\n",
              "      <td>1</td>\n",
              "      <td>male</td>\n",
              "      <td>0.9167</td>\n",
              "      <td>113781</td>\n",
              "      <td>151</td>\n",
              "      <td>Southampton</td>\n",
              "      <td>1</td>\n",
              "      <td>Master</td>\n",
              "      <td>Allison</td>\n",
              "      <td>Hudson Trevor</td>\n",
              "      <td>3</td>\n",
              "    </tr>\n",
              "  </tbody>\n",
              "</table>\n",
              "</div>"
            ],
            "text/plain": [
              "   pclass  gender      age  ticket  fare     embarked  survived  \\\n",
              "0       1  female  29.0000   24160   211  Southampton         1   \n",
              "1       1    male   0.9167  113781   151  Southampton         1   \n",
              "\n",
              "  courtesy_title    lname              fname  family_count  \n",
              "0           Miss    Allen   Elisabeth Walton             0  \n",
              "1         Master  Allison      Hudson Trevor             3  "
            ]
          },
          "execution_count": 24,
          "metadata": {},
          "output_type": "execute_result"
        }
      ],
      "source": [
        "df.head(2)"
      ]
    },
    {
      "cell_type": "code",
      "execution_count": 25,
      "metadata": {},
      "outputs": [],
      "source": [
        "# creating age_category using age column\n",
        "df['age_category']=pd.cut(df['age'],bins=[0,2,16,25,49,100],labels=['baby','child','teen','adult','senior'])"
      ]
    },
    {
      "cell_type": "code",
      "execution_count": 26,
      "metadata": {
        "colab": {
          "base_uri": "https://localhost:8080/"
        },
        "id": "hjUni164cAzc",
        "outputId": "4e596f44-795d-4777-e6a6-e5f630fac4bf"
      },
      "outputs": [
        {
          "data": {
            "text/plain": [
              "Index(['pclass', 'gender', 'age', 'ticket', 'fare', 'embarked', 'survived',\n",
              "       'courtesy_title', 'lname', 'fname', 'family_count', 'age_category'],\n",
              "      dtype='object')"
            ]
          },
          "execution_count": 26,
          "metadata": {},
          "output_type": "execute_result"
        }
      ],
      "source": [
        "df.columns"
      ]
    },
    {
      "cell_type": "code",
      "execution_count": 27,
      "metadata": {
        "id": "85j99rypcF6E"
      },
      "outputs": [],
      "source": [
        "new_order=['courtesy_title','fname','lname','gender','age','age_category','ticket',\n",
        "           'pclass','embarked','family_count','fare','survived']\n",
        "\n",
        "df=df[new_order]"
      ]
    },
    {
      "cell_type": "code",
      "execution_count": 28,
      "metadata": {
        "colab": {
          "base_uri": "https://localhost:8080/",
          "height": 167
        },
        "id": "bq9jd0IIdDpj",
        "outputId": "ef0b58e4-ead7-4fe4-8177-105a578a0177"
      },
      "outputs": [
        {
          "data": {
            "text/html": [
              "<div>\n",
              "<style scoped>\n",
              "    .dataframe tbody tr th:only-of-type {\n",
              "        vertical-align: middle;\n",
              "    }\n",
              "\n",
              "    .dataframe tbody tr th {\n",
              "        vertical-align: top;\n",
              "    }\n",
              "\n",
              "    .dataframe thead th {\n",
              "        text-align: right;\n",
              "    }\n",
              "</style>\n",
              "<table border=\"1\" class=\"dataframe\">\n",
              "  <thead>\n",
              "    <tr style=\"text-align: right;\">\n",
              "      <th></th>\n",
              "      <th>courtesy_title</th>\n",
              "      <th>fname</th>\n",
              "      <th>lname</th>\n",
              "      <th>gender</th>\n",
              "      <th>age</th>\n",
              "      <th>age_category</th>\n",
              "      <th>ticket</th>\n",
              "      <th>pclass</th>\n",
              "      <th>embarked</th>\n",
              "      <th>family_count</th>\n",
              "      <th>fare</th>\n",
              "      <th>survived</th>\n",
              "    </tr>\n",
              "  </thead>\n",
              "  <tbody>\n",
              "    <tr>\n",
              "      <th>0</th>\n",
              "      <td>Miss</td>\n",
              "      <td>Elisabeth Walton</td>\n",
              "      <td>Allen</td>\n",
              "      <td>female</td>\n",
              "      <td>29.0000</td>\n",
              "      <td>adult</td>\n",
              "      <td>24160</td>\n",
              "      <td>1</td>\n",
              "      <td>Southampton</td>\n",
              "      <td>0</td>\n",
              "      <td>211</td>\n",
              "      <td>1</td>\n",
              "    </tr>\n",
              "    <tr>\n",
              "      <th>1</th>\n",
              "      <td>Master</td>\n",
              "      <td>Hudson Trevor</td>\n",
              "      <td>Allison</td>\n",
              "      <td>male</td>\n",
              "      <td>0.9167</td>\n",
              "      <td>baby</td>\n",
              "      <td>113781</td>\n",
              "      <td>1</td>\n",
              "      <td>Southampton</td>\n",
              "      <td>3</td>\n",
              "      <td>151</td>\n",
              "      <td>1</td>\n",
              "    </tr>\n",
              "  </tbody>\n",
              "</table>\n",
              "</div>"
            ],
            "text/plain": [
              "  courtesy_title              fname    lname  gender      age age_category  \\\n",
              "0           Miss   Elisabeth Walton    Allen  female  29.0000        adult   \n",
              "1         Master      Hudson Trevor  Allison    male   0.9167         baby   \n",
              "\n",
              "   ticket  pclass     embarked  family_count  fare  survived  \n",
              "0   24160       1  Southampton             0   211         1  \n",
              "1  113781       1  Southampton             3   151         1  "
            ]
          },
          "execution_count": 28,
          "metadata": {},
          "output_type": "execute_result"
        }
      ],
      "source": [
        "df.head(2)"
      ]
    },
    {
      "cell_type": "code",
      "execution_count": 29,
      "metadata": {},
      "outputs": [],
      "source": [
        "# pd.unique(df['fare'])"
      ]
    },
    {
      "cell_type": "code",
      "execution_count": 30,
      "metadata": {},
      "outputs": [
        {
          "data": {
            "text/plain": [
              "Index([   7,   70,  125,  150,  170,  223,  234,  363,  384,  410,  473,  528,\n",
              "        581,  896,  898,  963, 1254],\n",
              "      dtype='int64')"
            ]
          },
          "execution_count": 30,
          "metadata": {},
          "output_type": "execute_result"
        }
      ],
      "source": [
        "\n",
        "rowid=df[df['fare']==0].index\n",
        "\n",
        "rowid"
      ]
    },
    {
      "cell_type": "code",
      "execution_count": 31,
      "metadata": {},
      "outputs": [],
      "source": [
        "df=df.drop(index=[rowid][0]) \n",
        "\n",
        "df=df.reset_index(drop=True)\n",
        "\n",
        "# df"
      ]
    },
    {
      "cell_type": "code",
      "execution_count": 32,
      "metadata": {},
      "outputs": [],
      "source": [
        "# pd.unique(df['family_count'])"
      ]
    },
    {
      "cell_type": "markdown",
      "metadata": {
        "id": "EKcPM40fDq3N"
      },
      "source": [
        "# ANALYSIS"
      ]
    },
    {
      "cell_type": "markdown",
      "metadata": {
        "id": "mw5bF0dd7W5a"
      },
      "source": [
        "# get the statistical description for all numerical columns"
      ]
    },
    {
      "cell_type": "code",
      "execution_count": 33,
      "metadata": {},
      "outputs": [
        {
          "data": {
            "text/html": [
              "<div>\n",
              "<style scoped>\n",
              "    .dataframe tbody tr th:only-of-type {\n",
              "        vertical-align: middle;\n",
              "    }\n",
              "\n",
              "    .dataframe tbody tr th {\n",
              "        vertical-align: top;\n",
              "    }\n",
              "\n",
              "    .dataframe thead th {\n",
              "        text-align: right;\n",
              "    }\n",
              "</style>\n",
              "<table border=\"1\" class=\"dataframe\">\n",
              "  <thead>\n",
              "    <tr style=\"text-align: right;\">\n",
              "      <th></th>\n",
              "      <th>age</th>\n",
              "      <th>pclass</th>\n",
              "      <th>family_count</th>\n",
              "      <th>fare</th>\n",
              "      <th>survived</th>\n",
              "    </tr>\n",
              "  </thead>\n",
              "  <tbody>\n",
              "    <tr>\n",
              "      <th>count</th>\n",
              "      <td>1292.000000</td>\n",
              "      <td>1292.000000</td>\n",
              "      <td>1292.000000</td>\n",
              "      <td>1292.000000</td>\n",
              "      <td>1292.000000</td>\n",
              "    </tr>\n",
              "    <tr>\n",
              "      <th>mean</th>\n",
              "      <td>29.837829</td>\n",
              "      <td>2.301084</td>\n",
              "      <td>0.895511</td>\n",
              "      <td>33.301858</td>\n",
              "      <td>0.385449</td>\n",
              "    </tr>\n",
              "    <tr>\n",
              "      <th>std</th>\n",
              "      <td>12.932916</td>\n",
              "      <td>0.836743</td>\n",
              "      <td>1.590759</td>\n",
              "      <td>51.948287</td>\n",
              "      <td>0.486890</td>\n",
              "    </tr>\n",
              "    <tr>\n",
              "      <th>min</th>\n",
              "      <td>0.166700</td>\n",
              "      <td>1.000000</td>\n",
              "      <td>0.000000</td>\n",
              "      <td>3.000000</td>\n",
              "      <td>0.000000</td>\n",
              "    </tr>\n",
              "    <tr>\n",
              "      <th>25%</th>\n",
              "      <td>22.000000</td>\n",
              "      <td>2.000000</td>\n",
              "      <td>0.000000</td>\n",
              "      <td>7.000000</td>\n",
              "      <td>0.000000</td>\n",
              "    </tr>\n",
              "    <tr>\n",
              "      <th>50%</th>\n",
              "      <td>29.881135</td>\n",
              "      <td>3.000000</td>\n",
              "      <td>0.000000</td>\n",
              "      <td>14.000000</td>\n",
              "      <td>0.000000</td>\n",
              "    </tr>\n",
              "    <tr>\n",
              "      <th>75%</th>\n",
              "      <td>35.000000</td>\n",
              "      <td>3.000000</td>\n",
              "      <td>1.000000</td>\n",
              "      <td>31.000000</td>\n",
              "      <td>1.000000</td>\n",
              "    </tr>\n",
              "    <tr>\n",
              "      <th>max</th>\n",
              "      <td>80.000000</td>\n",
              "      <td>3.000000</td>\n",
              "      <td>10.000000</td>\n",
              "      <td>512.000000</td>\n",
              "      <td>1.000000</td>\n",
              "    </tr>\n",
              "  </tbody>\n",
              "</table>\n",
              "</div>"
            ],
            "text/plain": [
              "               age       pclass  family_count         fare     survived\n",
              "count  1292.000000  1292.000000   1292.000000  1292.000000  1292.000000\n",
              "mean     29.837829     2.301084      0.895511    33.301858     0.385449\n",
              "std      12.932916     0.836743      1.590759    51.948287     0.486890\n",
              "min       0.166700     1.000000      0.000000     3.000000     0.000000\n",
              "25%      22.000000     2.000000      0.000000     7.000000     0.000000\n",
              "50%      29.881135     3.000000      0.000000    14.000000     0.000000\n",
              "75%      35.000000     3.000000      1.000000    31.000000     1.000000\n",
              "max      80.000000     3.000000     10.000000   512.000000     1.000000"
            ]
          },
          "execution_count": 33,
          "metadata": {},
          "output_type": "execute_result"
        }
      ],
      "source": [
        "df.describe()  "
      ]
    },
    {
      "cell_type": "markdown",
      "metadata": {
        "id": "oR9oqCeW7zoG"
      },
      "source": [
        "# get top 5 records (passengers data)"
      ]
    },
    {
      "cell_type": "code",
      "execution_count": 34,
      "metadata": {},
      "outputs": [
        {
          "data": {
            "text/html": [
              "<div>\n",
              "<style scoped>\n",
              "    .dataframe tbody tr th:only-of-type {\n",
              "        vertical-align: middle;\n",
              "    }\n",
              "\n",
              "    .dataframe tbody tr th {\n",
              "        vertical-align: top;\n",
              "    }\n",
              "\n",
              "    .dataframe thead th {\n",
              "        text-align: right;\n",
              "    }\n",
              "</style>\n",
              "<table border=\"1\" class=\"dataframe\">\n",
              "  <thead>\n",
              "    <tr style=\"text-align: right;\">\n",
              "      <th></th>\n",
              "      <th>courtesy_title</th>\n",
              "      <th>fname</th>\n",
              "      <th>lname</th>\n",
              "      <th>gender</th>\n",
              "      <th>age</th>\n",
              "      <th>age_category</th>\n",
              "      <th>ticket</th>\n",
              "      <th>pclass</th>\n",
              "      <th>embarked</th>\n",
              "      <th>family_count</th>\n",
              "      <th>fare</th>\n",
              "      <th>survived</th>\n",
              "    </tr>\n",
              "  </thead>\n",
              "  <tbody>\n",
              "    <tr>\n",
              "      <th>0</th>\n",
              "      <td>Miss</td>\n",
              "      <td>Elisabeth Walton</td>\n",
              "      <td>Allen</td>\n",
              "      <td>female</td>\n",
              "      <td>29.0000</td>\n",
              "      <td>adult</td>\n",
              "      <td>24160</td>\n",
              "      <td>1</td>\n",
              "      <td>Southampton</td>\n",
              "      <td>0</td>\n",
              "      <td>211</td>\n",
              "      <td>1</td>\n",
              "    </tr>\n",
              "    <tr>\n",
              "      <th>1</th>\n",
              "      <td>Master</td>\n",
              "      <td>Hudson Trevor</td>\n",
              "      <td>Allison</td>\n",
              "      <td>male</td>\n",
              "      <td>0.9167</td>\n",
              "      <td>baby</td>\n",
              "      <td>113781</td>\n",
              "      <td>1</td>\n",
              "      <td>Southampton</td>\n",
              "      <td>3</td>\n",
              "      <td>151</td>\n",
              "      <td>1</td>\n",
              "    </tr>\n",
              "    <tr>\n",
              "      <th>2</th>\n",
              "      <td>Miss</td>\n",
              "      <td>Helen Loraine</td>\n",
              "      <td>Allison</td>\n",
              "      <td>female</td>\n",
              "      <td>2.0000</td>\n",
              "      <td>baby</td>\n",
              "      <td>113781</td>\n",
              "      <td>1</td>\n",
              "      <td>Southampton</td>\n",
              "      <td>3</td>\n",
              "      <td>151</td>\n",
              "      <td>0</td>\n",
              "    </tr>\n",
              "    <tr>\n",
              "      <th>3</th>\n",
              "      <td>Mr</td>\n",
              "      <td>Hudson Joshua Creighton</td>\n",
              "      <td>Allison</td>\n",
              "      <td>male</td>\n",
              "      <td>30.0000</td>\n",
              "      <td>adult</td>\n",
              "      <td>113781</td>\n",
              "      <td>1</td>\n",
              "      <td>Southampton</td>\n",
              "      <td>3</td>\n",
              "      <td>151</td>\n",
              "      <td>0</td>\n",
              "    </tr>\n",
              "    <tr>\n",
              "      <th>4</th>\n",
              "      <td>Mrs</td>\n",
              "      <td>Hudson J C (Bessie Waldo Daniels)</td>\n",
              "      <td>Allison</td>\n",
              "      <td>female</td>\n",
              "      <td>25.0000</td>\n",
              "      <td>teen</td>\n",
              "      <td>113781</td>\n",
              "      <td>1</td>\n",
              "      <td>Southampton</td>\n",
              "      <td>3</td>\n",
              "      <td>151</td>\n",
              "      <td>0</td>\n",
              "    </tr>\n",
              "  </tbody>\n",
              "</table>\n",
              "</div>"
            ],
            "text/plain": [
              "  courtesy_title                               fname    lname  gender  \\\n",
              "0           Miss                    Elisabeth Walton    Allen  female   \n",
              "1         Master                       Hudson Trevor  Allison    male   \n",
              "2           Miss                       Helen Loraine  Allison  female   \n",
              "3             Mr             Hudson Joshua Creighton  Allison    male   \n",
              "4            Mrs   Hudson J C (Bessie Waldo Daniels)  Allison  female   \n",
              "\n",
              "       age age_category  ticket  pclass     embarked  family_count  fare  \\\n",
              "0  29.0000        adult   24160       1  Southampton             0   211   \n",
              "1   0.9167         baby  113781       1  Southampton             3   151   \n",
              "2   2.0000         baby  113781       1  Southampton             3   151   \n",
              "3  30.0000        adult  113781       1  Southampton             3   151   \n",
              "4  25.0000         teen  113781       1  Southampton             3   151   \n",
              "\n",
              "   survived  \n",
              "0         1  \n",
              "1         1  \n",
              "2         0  \n",
              "3         0  \n",
              "4         0  "
            ]
          },
          "execution_count": 34,
          "metadata": {},
          "output_type": "execute_result"
        }
      ],
      "source": [
        "df.head()          #by defalult head will fetch top 5 records "
      ]
    },
    {
      "cell_type": "markdown",
      "metadata": {
        "id": "uQBS5aWe8BFk"
      },
      "source": [
        "# get the last 5 records"
      ]
    },
    {
      "cell_type": "code",
      "execution_count": 35,
      "metadata": {},
      "outputs": [
        {
          "data": {
            "text/html": [
              "<div>\n",
              "<style scoped>\n",
              "    .dataframe tbody tr th:only-of-type {\n",
              "        vertical-align: middle;\n",
              "    }\n",
              "\n",
              "    .dataframe tbody tr th {\n",
              "        vertical-align: top;\n",
              "    }\n",
              "\n",
              "    .dataframe thead th {\n",
              "        text-align: right;\n",
              "    }\n",
              "</style>\n",
              "<table border=\"1\" class=\"dataframe\">\n",
              "  <thead>\n",
              "    <tr style=\"text-align: right;\">\n",
              "      <th></th>\n",
              "      <th>courtesy_title</th>\n",
              "      <th>fname</th>\n",
              "      <th>lname</th>\n",
              "      <th>gender</th>\n",
              "      <th>age</th>\n",
              "      <th>age_category</th>\n",
              "      <th>ticket</th>\n",
              "      <th>pclass</th>\n",
              "      <th>embarked</th>\n",
              "      <th>family_count</th>\n",
              "      <th>fare</th>\n",
              "      <th>survived</th>\n",
              "    </tr>\n",
              "  </thead>\n",
              "  <tbody>\n",
              "    <tr>\n",
              "      <th>1287</th>\n",
              "      <td>Miss</td>\n",
              "      <td>Hileni</td>\n",
              "      <td>Zabour</td>\n",
              "      <td>female</td>\n",
              "      <td>14.500000</td>\n",
              "      <td>child</td>\n",
              "      <td>2665</td>\n",
              "      <td>3</td>\n",
              "      <td>Cherbourg</td>\n",
              "      <td>1</td>\n",
              "      <td>14</td>\n",
              "      <td>0</td>\n",
              "    </tr>\n",
              "    <tr>\n",
              "      <th>1288</th>\n",
              "      <td>Miss</td>\n",
              "      <td>Thamine</td>\n",
              "      <td>Zabour</td>\n",
              "      <td>female</td>\n",
              "      <td>29.881135</td>\n",
              "      <td>adult</td>\n",
              "      <td>2665</td>\n",
              "      <td>3</td>\n",
              "      <td>Cherbourg</td>\n",
              "      <td>1</td>\n",
              "      <td>14</td>\n",
              "      <td>0</td>\n",
              "    </tr>\n",
              "    <tr>\n",
              "      <th>1289</th>\n",
              "      <td>Mr</td>\n",
              "      <td>Mapriededer</td>\n",
              "      <td>Zakarian</td>\n",
              "      <td>male</td>\n",
              "      <td>26.500000</td>\n",
              "      <td>adult</td>\n",
              "      <td>2656</td>\n",
              "      <td>3</td>\n",
              "      <td>Cherbourg</td>\n",
              "      <td>0</td>\n",
              "      <td>7</td>\n",
              "      <td>0</td>\n",
              "    </tr>\n",
              "    <tr>\n",
              "      <th>1290</th>\n",
              "      <td>Mr</td>\n",
              "      <td>Ortin</td>\n",
              "      <td>Zakarian</td>\n",
              "      <td>male</td>\n",
              "      <td>27.000000</td>\n",
              "      <td>adult</td>\n",
              "      <td>2670</td>\n",
              "      <td>3</td>\n",
              "      <td>Cherbourg</td>\n",
              "      <td>0</td>\n",
              "      <td>7</td>\n",
              "      <td>0</td>\n",
              "    </tr>\n",
              "    <tr>\n",
              "      <th>1291</th>\n",
              "      <td>Mr</td>\n",
              "      <td>Leo</td>\n",
              "      <td>Zimmerman</td>\n",
              "      <td>male</td>\n",
              "      <td>29.000000</td>\n",
              "      <td>adult</td>\n",
              "      <td>315082</td>\n",
              "      <td>3</td>\n",
              "      <td>Southampton</td>\n",
              "      <td>0</td>\n",
              "      <td>7</td>\n",
              "      <td>0</td>\n",
              "    </tr>\n",
              "  </tbody>\n",
              "</table>\n",
              "</div>"
            ],
            "text/plain": [
              "     courtesy_title         fname      lname  gender        age age_category  \\\n",
              "1287           Miss        Hileni     Zabour  female  14.500000        child   \n",
              "1288           Miss       Thamine     Zabour  female  29.881135        adult   \n",
              "1289             Mr   Mapriededer   Zakarian    male  26.500000        adult   \n",
              "1290             Mr         Ortin   Zakarian    male  27.000000        adult   \n",
              "1291             Mr           Leo  Zimmerman    male  29.000000        adult   \n",
              "\n",
              "      ticket  pclass     embarked  family_count  fare  survived  \n",
              "1287    2665       3    Cherbourg             1    14         0  \n",
              "1288    2665       3    Cherbourg             1    14         0  \n",
              "1289    2656       3    Cherbourg             0     7         0  \n",
              "1290    2670       3    Cherbourg             0     7         0  \n",
              "1291  315082       3  Southampton             0     7         0  "
            ]
          },
          "execution_count": 35,
          "metadata": {},
          "output_type": "execute_result"
        }
      ],
      "source": [
        "df.tail()          #by defalult tail will fetch bottom/last 5 records "
      ]
    },
    {
      "cell_type": "markdown",
      "metadata": {
        "id": "FAeUG4nM8SQT"
      },
      "source": [
        "# get the total_no_records"
      ]
    },
    {
      "cell_type": "code",
      "execution_count": 36,
      "metadata": {},
      "outputs": [
        {
          "data": {
            "text/plain": [
              "1292"
            ]
          },
          "execution_count": 36,
          "metadata": {},
          "output_type": "execute_result"
        }
      ],
      "source": [
        "# len(df)                 #1275\n",
        "df.shape                  #(total no of records=1275, columns=12)\n",
        "df.shape[0]  \n",
        "            "
      ]
    },
    {
      "cell_type": "markdown",
      "metadata": {
        "id": "-iSVsr-68zkr"
      },
      "source": [
        "# get the total columns"
      ]
    },
    {
      "cell_type": "code",
      "execution_count": 37,
      "metadata": {},
      "outputs": [
        {
          "data": {
            "text/plain": [
              "12"
            ]
          },
          "execution_count": 37,
          "metadata": {},
          "output_type": "execute_result"
        }
      ],
      "source": [
        "df.shape                       #(total no of records=1275, columns=12)\n",
        "df.shape[1]            "
      ]
    },
    {
      "cell_type": "markdown",
      "metadata": {
        "id": "gNkQMw4X9Irf"
      },
      "source": [
        "# get the first row"
      ]
    },
    {
      "cell_type": "code",
      "execution_count": 38,
      "metadata": {},
      "outputs": [
        {
          "data": {
            "text/plain": [
              "courtesy_title                 Miss\n",
              "fname              Elisabeth Walton\n",
              "lname                         Allen\n",
              "gender                       female\n",
              "age                            29.0\n",
              "age_category                  adult\n",
              "ticket                        24160\n",
              "pclass                            1\n",
              "embarked                Southampton\n",
              "family_count                      0\n",
              "fare                            211\n",
              "survived                          1\n",
              "Name: 0, dtype: object"
            ]
          },
          "execution_count": 38,
          "metadata": {},
          "output_type": "execute_result"
        }
      ],
      "source": [
        "df.head(1)\n",
        "\n",
        "df.loc[0,::]                          #iloc[row,column]   #according to index=0 is 1st row"
      ]
    },
    {
      "cell_type": "markdown",
      "metadata": {
        "id": "Bcbe917z9sDX"
      },
      "source": [
        "# get the second row"
      ]
    },
    {
      "cell_type": "code",
      "execution_count": 39,
      "metadata": {},
      "outputs": [
        {
          "data": {
            "text/plain": [
              "courtesy_title            Master\n",
              "fname              Hudson Trevor\n",
              "lname                    Allison\n",
              "gender                      male\n",
              "age                       0.9167\n",
              "age_category                baby\n",
              "ticket                    113781\n",
              "pclass                         1\n",
              "embarked             Southampton\n",
              "family_count                   3\n",
              "fare                         151\n",
              "survived                       1\n",
              "Name: 1, dtype: object"
            ]
          },
          "execution_count": 39,
          "metadata": {},
          "output_type": "execute_result"
        }
      ],
      "source": [
        "df.loc[1,::]                     #iloc[row,column]   #according to index=1 is 2nd row    #[,::]=all columns"
      ]
    },
    {
      "cell_type": "markdown",
      "metadata": {
        "id": "MAGhjbzK-BG1"
      },
      "source": [
        "# get the fname and age of all passengers"
      ]
    },
    {
      "cell_type": "code",
      "execution_count": 40,
      "metadata": {},
      "outputs": [
        {
          "data": {
            "text/html": [
              "<div>\n",
              "<style scoped>\n",
              "    .dataframe tbody tr th:only-of-type {\n",
              "        vertical-align: middle;\n",
              "    }\n",
              "\n",
              "    .dataframe tbody tr th {\n",
              "        vertical-align: top;\n",
              "    }\n",
              "\n",
              "    .dataframe thead th {\n",
              "        text-align: right;\n",
              "    }\n",
              "</style>\n",
              "<table border=\"1\" class=\"dataframe\">\n",
              "  <thead>\n",
              "    <tr style=\"text-align: right;\">\n",
              "      <th></th>\n",
              "      <th>fname</th>\n",
              "      <th>age</th>\n",
              "    </tr>\n",
              "  </thead>\n",
              "  <tbody>\n",
              "    <tr>\n",
              "      <th>0</th>\n",
              "      <td>Elisabeth Walton</td>\n",
              "      <td>29.000000</td>\n",
              "    </tr>\n",
              "    <tr>\n",
              "      <th>1</th>\n",
              "      <td>Hudson Trevor</td>\n",
              "      <td>0.916700</td>\n",
              "    </tr>\n",
              "    <tr>\n",
              "      <th>2</th>\n",
              "      <td>Helen Loraine</td>\n",
              "      <td>2.000000</td>\n",
              "    </tr>\n",
              "    <tr>\n",
              "      <th>3</th>\n",
              "      <td>Hudson Joshua Creighton</td>\n",
              "      <td>30.000000</td>\n",
              "    </tr>\n",
              "    <tr>\n",
              "      <th>4</th>\n",
              "      <td>Hudson J C (Bessie Waldo Daniels)</td>\n",
              "      <td>25.000000</td>\n",
              "    </tr>\n",
              "    <tr>\n",
              "      <th>...</th>\n",
              "      <td>...</td>\n",
              "      <td>...</td>\n",
              "    </tr>\n",
              "    <tr>\n",
              "      <th>1287</th>\n",
              "      <td>Hileni</td>\n",
              "      <td>14.500000</td>\n",
              "    </tr>\n",
              "    <tr>\n",
              "      <th>1288</th>\n",
              "      <td>Thamine</td>\n",
              "      <td>29.881135</td>\n",
              "    </tr>\n",
              "    <tr>\n",
              "      <th>1289</th>\n",
              "      <td>Mapriededer</td>\n",
              "      <td>26.500000</td>\n",
              "    </tr>\n",
              "    <tr>\n",
              "      <th>1290</th>\n",
              "      <td>Ortin</td>\n",
              "      <td>27.000000</td>\n",
              "    </tr>\n",
              "    <tr>\n",
              "      <th>1291</th>\n",
              "      <td>Leo</td>\n",
              "      <td>29.000000</td>\n",
              "    </tr>\n",
              "  </tbody>\n",
              "</table>\n",
              "<p>1292 rows × 2 columns</p>\n",
              "</div>"
            ],
            "text/plain": [
              "                                   fname        age\n",
              "0                       Elisabeth Walton  29.000000\n",
              "1                          Hudson Trevor   0.916700\n",
              "2                          Helen Loraine   2.000000\n",
              "3                Hudson Joshua Creighton  30.000000\n",
              "4      Hudson J C (Bessie Waldo Daniels)  25.000000\n",
              "...                                  ...        ...\n",
              "1287                              Hileni  14.500000\n",
              "1288                             Thamine  29.881135\n",
              "1289                         Mapriededer  26.500000\n",
              "1290                               Ortin  27.000000\n",
              "1291                                 Leo  29.000000\n",
              "\n",
              "[1292 rows x 2 columns]"
            ]
          },
          "execution_count": 40,
          "metadata": {},
          "output_type": "execute_result"
        }
      ],
      "source": [
        "df.loc[::,['fname','age']]                #[::,]=all rows   #[,[multiple columns]]"
      ]
    },
    {
      "cell_type": "markdown",
      "metadata": {
        "id": "O3VgsIjS-zM0"
      },
      "source": [
        "# get the 5th and 6th passenger fname ,age and survived details"
      ]
    },
    {
      "cell_type": "code",
      "execution_count": 41,
      "metadata": {},
      "outputs": [
        {
          "data": {
            "text/html": [
              "<div>\n",
              "<style scoped>\n",
              "    .dataframe tbody tr th:only-of-type {\n",
              "        vertical-align: middle;\n",
              "    }\n",
              "\n",
              "    .dataframe tbody tr th {\n",
              "        vertical-align: top;\n",
              "    }\n",
              "\n",
              "    .dataframe thead th {\n",
              "        text-align: right;\n",
              "    }\n",
              "</style>\n",
              "<table border=\"1\" class=\"dataframe\">\n",
              "  <thead>\n",
              "    <tr style=\"text-align: right;\">\n",
              "      <th></th>\n",
              "      <th>fname</th>\n",
              "      <th>age</th>\n",
              "      <th>survived</th>\n",
              "    </tr>\n",
              "  </thead>\n",
              "  <tbody>\n",
              "    <tr>\n",
              "      <th>5</th>\n",
              "      <td>Harry</td>\n",
              "      <td>48.0</td>\n",
              "      <td>1</td>\n",
              "    </tr>\n",
              "    <tr>\n",
              "      <th>6</th>\n",
              "      <td>Kornelia Theodosia</td>\n",
              "      <td>63.0</td>\n",
              "      <td>1</td>\n",
              "    </tr>\n",
              "  </tbody>\n",
              "</table>\n",
              "</div>"
            ],
            "text/plain": [
              "                 fname   age  survived\n",
              "5                Harry  48.0         1\n",
              "6   Kornelia Theodosia  63.0         1"
            ]
          },
          "execution_count": 41,
          "metadata": {},
          "output_type": "execute_result"
        }
      ],
      "source": [
        "df.loc[[5,6],['fname','age','survived']]                            #[[desired multiple rows],[]]"
      ]
    },
    {
      "cell_type": "markdown",
      "metadata": {
        "id": "AybFuz3q_dfp"
      },
      "source": [
        "# get the passenger details of pclass 1"
      ]
    },
    {
      "cell_type": "code",
      "execution_count": 42,
      "metadata": {},
      "outputs": [
        {
          "data": {
            "text/html": [
              "<div>\n",
              "<style scoped>\n",
              "    .dataframe tbody tr th:only-of-type {\n",
              "        vertical-align: middle;\n",
              "    }\n",
              "\n",
              "    .dataframe tbody tr th {\n",
              "        vertical-align: top;\n",
              "    }\n",
              "\n",
              "    .dataframe thead th {\n",
              "        text-align: right;\n",
              "    }\n",
              "</style>\n",
              "<table border=\"1\" class=\"dataframe\">\n",
              "  <thead>\n",
              "    <tr style=\"text-align: right;\">\n",
              "      <th></th>\n",
              "      <th>courtesy_title</th>\n",
              "      <th>fname</th>\n",
              "      <th>lname</th>\n",
              "      <th>gender</th>\n",
              "      <th>age</th>\n",
              "      <th>age_category</th>\n",
              "      <th>ticket</th>\n",
              "      <th>pclass</th>\n",
              "      <th>embarked</th>\n",
              "      <th>family_count</th>\n",
              "      <th>fare</th>\n",
              "      <th>survived</th>\n",
              "    </tr>\n",
              "  </thead>\n",
              "  <tbody>\n",
              "    <tr>\n",
              "      <th>0</th>\n",
              "      <td>Miss</td>\n",
              "      <td>Elisabeth Walton</td>\n",
              "      <td>Allen</td>\n",
              "      <td>female</td>\n",
              "      <td>29.000000</td>\n",
              "      <td>adult</td>\n",
              "      <td>24160</td>\n",
              "      <td>1</td>\n",
              "      <td>Southampton</td>\n",
              "      <td>0</td>\n",
              "      <td>211</td>\n",
              "      <td>1</td>\n",
              "    </tr>\n",
              "    <tr>\n",
              "      <th>1</th>\n",
              "      <td>Master</td>\n",
              "      <td>Hudson Trevor</td>\n",
              "      <td>Allison</td>\n",
              "      <td>male</td>\n",
              "      <td>0.916700</td>\n",
              "      <td>baby</td>\n",
              "      <td>113781</td>\n",
              "      <td>1</td>\n",
              "      <td>Southampton</td>\n",
              "      <td>3</td>\n",
              "      <td>151</td>\n",
              "      <td>1</td>\n",
              "    </tr>\n",
              "    <tr>\n",
              "      <th>2</th>\n",
              "      <td>Miss</td>\n",
              "      <td>Helen Loraine</td>\n",
              "      <td>Allison</td>\n",
              "      <td>female</td>\n",
              "      <td>2.000000</td>\n",
              "      <td>baby</td>\n",
              "      <td>113781</td>\n",
              "      <td>1</td>\n",
              "      <td>Southampton</td>\n",
              "      <td>3</td>\n",
              "      <td>151</td>\n",
              "      <td>0</td>\n",
              "    </tr>\n",
              "    <tr>\n",
              "      <th>3</th>\n",
              "      <td>Mr</td>\n",
              "      <td>Hudson Joshua Creighton</td>\n",
              "      <td>Allison</td>\n",
              "      <td>male</td>\n",
              "      <td>30.000000</td>\n",
              "      <td>adult</td>\n",
              "      <td>113781</td>\n",
              "      <td>1</td>\n",
              "      <td>Southampton</td>\n",
              "      <td>3</td>\n",
              "      <td>151</td>\n",
              "      <td>0</td>\n",
              "    </tr>\n",
              "    <tr>\n",
              "      <th>4</th>\n",
              "      <td>Mrs</td>\n",
              "      <td>Hudson J C (Bessie Waldo Daniels)</td>\n",
              "      <td>Allison</td>\n",
              "      <td>female</td>\n",
              "      <td>25.000000</td>\n",
              "      <td>teen</td>\n",
              "      <td>113781</td>\n",
              "      <td>1</td>\n",
              "      <td>Southampton</td>\n",
              "      <td>3</td>\n",
              "      <td>151</td>\n",
              "      <td>0</td>\n",
              "    </tr>\n",
              "    <tr>\n",
              "      <th>...</th>\n",
              "      <td>...</td>\n",
              "      <td>...</td>\n",
              "      <td>...</td>\n",
              "      <td>...</td>\n",
              "      <td>...</td>\n",
              "      <td>...</td>\n",
              "      <td>...</td>\n",
              "      <td>...</td>\n",
              "      <td>...</td>\n",
              "      <td>...</td>\n",
              "      <td>...</td>\n",
              "      <td>...</td>\n",
              "    </tr>\n",
              "    <tr>\n",
              "      <th>311</th>\n",
              "      <td>Mr</td>\n",
              "      <td>Fletcher Fellows</td>\n",
              "      <td>Williams-Lambert</td>\n",
              "      <td>male</td>\n",
              "      <td>29.881135</td>\n",
              "      <td>adult</td>\n",
              "      <td>113510</td>\n",
              "      <td>1</td>\n",
              "      <td>Southampton</td>\n",
              "      <td>0</td>\n",
              "      <td>35</td>\n",
              "      <td>0</td>\n",
              "    </tr>\n",
              "    <tr>\n",
              "      <th>312</th>\n",
              "      <td>Miss</td>\n",
              "      <td>Helen Alice</td>\n",
              "      <td>Wilson</td>\n",
              "      <td>female</td>\n",
              "      <td>31.000000</td>\n",
              "      <td>adult</td>\n",
              "      <td>16966</td>\n",
              "      <td>1</td>\n",
              "      <td>Cherbourg</td>\n",
              "      <td>0</td>\n",
              "      <td>134</td>\n",
              "      <td>1</td>\n",
              "    </tr>\n",
              "    <tr>\n",
              "      <th>313</th>\n",
              "      <td>Mr</td>\n",
              "      <td>Hugh</td>\n",
              "      <td>Woolner</td>\n",
              "      <td>male</td>\n",
              "      <td>29.881135</td>\n",
              "      <td>adult</td>\n",
              "      <td>19947</td>\n",
              "      <td>1</td>\n",
              "      <td>Southampton</td>\n",
              "      <td>0</td>\n",
              "      <td>35</td>\n",
              "      <td>1</td>\n",
              "    </tr>\n",
              "    <tr>\n",
              "      <th>314</th>\n",
              "      <td>Mr</td>\n",
              "      <td>George</td>\n",
              "      <td>Wright</td>\n",
              "      <td>male</td>\n",
              "      <td>62.000000</td>\n",
              "      <td>senior</td>\n",
              "      <td>113807</td>\n",
              "      <td>1</td>\n",
              "      <td>Southampton</td>\n",
              "      <td>0</td>\n",
              "      <td>26</td>\n",
              "      <td>0</td>\n",
              "    </tr>\n",
              "    <tr>\n",
              "      <th>315</th>\n",
              "      <td>Miss</td>\n",
              "      <td>Marie Grice</td>\n",
              "      <td>Young</td>\n",
              "      <td>female</td>\n",
              "      <td>36.000000</td>\n",
              "      <td>adult</td>\n",
              "      <td>PC 17760</td>\n",
              "      <td>1</td>\n",
              "      <td>Cherbourg</td>\n",
              "      <td>0</td>\n",
              "      <td>135</td>\n",
              "      <td>1</td>\n",
              "    </tr>\n",
              "  </tbody>\n",
              "</table>\n",
              "<p>316 rows × 12 columns</p>\n",
              "</div>"
            ],
            "text/plain": [
              "    courtesy_title                               fname             lname  \\\n",
              "0             Miss                    Elisabeth Walton             Allen   \n",
              "1           Master                       Hudson Trevor           Allison   \n",
              "2             Miss                       Helen Loraine           Allison   \n",
              "3               Mr             Hudson Joshua Creighton           Allison   \n",
              "4              Mrs   Hudson J C (Bessie Waldo Daniels)           Allison   \n",
              "..             ...                                 ...               ...   \n",
              "311             Mr                    Fletcher Fellows  Williams-Lambert   \n",
              "312           Miss                         Helen Alice            Wilson   \n",
              "313             Mr                                Hugh           Woolner   \n",
              "314             Mr                              George            Wright   \n",
              "315           Miss                         Marie Grice             Young   \n",
              "\n",
              "     gender        age age_category    ticket  pclass     embarked  \\\n",
              "0    female  29.000000        adult     24160       1  Southampton   \n",
              "1      male   0.916700         baby    113781       1  Southampton   \n",
              "2    female   2.000000         baby    113781       1  Southampton   \n",
              "3      male  30.000000        adult    113781       1  Southampton   \n",
              "4    female  25.000000         teen    113781       1  Southampton   \n",
              "..      ...        ...          ...       ...     ...          ...   \n",
              "311    male  29.881135        adult    113510       1  Southampton   \n",
              "312  female  31.000000        adult     16966       1    Cherbourg   \n",
              "313    male  29.881135        adult     19947       1  Southampton   \n",
              "314    male  62.000000       senior    113807       1  Southampton   \n",
              "315  female  36.000000        adult  PC 17760       1    Cherbourg   \n",
              "\n",
              "     family_count  fare  survived  \n",
              "0               0   211         1  \n",
              "1               3   151         1  \n",
              "2               3   151         0  \n",
              "3               3   151         0  \n",
              "4               3   151         0  \n",
              "..            ...   ...       ...  \n",
              "311             0    35         0  \n",
              "312             0   134         1  \n",
              "313             0    35         1  \n",
              "314             0    26         0  \n",
              "315             0   135         1  \n",
              "\n",
              "[316 rows x 12 columns]"
            ]
          },
          "execution_count": 42,
          "metadata": {},
          "output_type": "execute_result"
        }
      ],
      "source": [
        "cond=df['pclass']==1                     #(bool values)\n",
        "\n",
        "df.loc[cond,::]                          #loc[ ] provies only the true records "
      ]
    },
    {
      "cell_type": "markdown",
      "metadata": {
        "id": "LW5SYPjoA7s9"
      },
      "source": [
        "# get the passenger fname and age of pclass 1"
      ]
    },
    {
      "cell_type": "code",
      "execution_count": 43,
      "metadata": {},
      "outputs": [
        {
          "data": {
            "text/html": [
              "<div>\n",
              "<style scoped>\n",
              "    .dataframe tbody tr th:only-of-type {\n",
              "        vertical-align: middle;\n",
              "    }\n",
              "\n",
              "    .dataframe tbody tr th {\n",
              "        vertical-align: top;\n",
              "    }\n",
              "\n",
              "    .dataframe thead th {\n",
              "        text-align: right;\n",
              "    }\n",
              "</style>\n",
              "<table border=\"1\" class=\"dataframe\">\n",
              "  <thead>\n",
              "    <tr style=\"text-align: right;\">\n",
              "      <th></th>\n",
              "      <th>fname</th>\n",
              "      <th>age</th>\n",
              "    </tr>\n",
              "  </thead>\n",
              "  <tbody>\n",
              "    <tr>\n",
              "      <th>0</th>\n",
              "      <td>Elisabeth Walton</td>\n",
              "      <td>29.000000</td>\n",
              "    </tr>\n",
              "    <tr>\n",
              "      <th>1</th>\n",
              "      <td>Hudson Trevor</td>\n",
              "      <td>0.916700</td>\n",
              "    </tr>\n",
              "    <tr>\n",
              "      <th>2</th>\n",
              "      <td>Helen Loraine</td>\n",
              "      <td>2.000000</td>\n",
              "    </tr>\n",
              "    <tr>\n",
              "      <th>3</th>\n",
              "      <td>Hudson Joshua Creighton</td>\n",
              "      <td>30.000000</td>\n",
              "    </tr>\n",
              "    <tr>\n",
              "      <th>4</th>\n",
              "      <td>Hudson J C (Bessie Waldo Daniels)</td>\n",
              "      <td>25.000000</td>\n",
              "    </tr>\n",
              "    <tr>\n",
              "      <th>...</th>\n",
              "      <td>...</td>\n",
              "      <td>...</td>\n",
              "    </tr>\n",
              "    <tr>\n",
              "      <th>311</th>\n",
              "      <td>Fletcher Fellows</td>\n",
              "      <td>29.881135</td>\n",
              "    </tr>\n",
              "    <tr>\n",
              "      <th>312</th>\n",
              "      <td>Helen Alice</td>\n",
              "      <td>31.000000</td>\n",
              "    </tr>\n",
              "    <tr>\n",
              "      <th>313</th>\n",
              "      <td>Hugh</td>\n",
              "      <td>29.881135</td>\n",
              "    </tr>\n",
              "    <tr>\n",
              "      <th>314</th>\n",
              "      <td>George</td>\n",
              "      <td>62.000000</td>\n",
              "    </tr>\n",
              "    <tr>\n",
              "      <th>315</th>\n",
              "      <td>Marie Grice</td>\n",
              "      <td>36.000000</td>\n",
              "    </tr>\n",
              "  </tbody>\n",
              "</table>\n",
              "<p>316 rows × 2 columns</p>\n",
              "</div>"
            ],
            "text/plain": [
              "                                  fname        age\n",
              "0                      Elisabeth Walton  29.000000\n",
              "1                         Hudson Trevor   0.916700\n",
              "2                         Helen Loraine   2.000000\n",
              "3               Hudson Joshua Creighton  30.000000\n",
              "4     Hudson J C (Bessie Waldo Daniels)  25.000000\n",
              "..                                  ...        ...\n",
              "311                    Fletcher Fellows  29.881135\n",
              "312                         Helen Alice  31.000000\n",
              "313                                Hugh  29.881135\n",
              "314                              George  62.000000\n",
              "315                         Marie Grice  36.000000\n",
              "\n",
              "[316 rows x 2 columns]"
            ]
          },
          "execution_count": 43,
          "metadata": {},
          "output_type": "execute_result"
        }
      ],
      "source": [
        "cond=df['pclass']==1                               #(bool values)\n",
        "df.loc[cond,['fname','age']]  \n",
        "         #(or)\n",
        "\n",
        "df.loc[(df['pclass']==1),['fname','age']]"
      ]
    },
    {
      "cell_type": "markdown",
      "metadata": {
        "id": "rXZye9KqBkan"
      },
      "source": [
        "# get the male passenger details of pclass 1"
      ]
    },
    {
      "cell_type": "code",
      "execution_count": 44,
      "metadata": {},
      "outputs": [
        {
          "data": {
            "text/html": [
              "<div>\n",
              "<style scoped>\n",
              "    .dataframe tbody tr th:only-of-type {\n",
              "        vertical-align: middle;\n",
              "    }\n",
              "\n",
              "    .dataframe tbody tr th {\n",
              "        vertical-align: top;\n",
              "    }\n",
              "\n",
              "    .dataframe thead th {\n",
              "        text-align: right;\n",
              "    }\n",
              "</style>\n",
              "<table border=\"1\" class=\"dataframe\">\n",
              "  <thead>\n",
              "    <tr style=\"text-align: right;\">\n",
              "      <th></th>\n",
              "      <th>courtesy_title</th>\n",
              "      <th>fname</th>\n",
              "      <th>lname</th>\n",
              "      <th>gender</th>\n",
              "      <th>age</th>\n",
              "      <th>age_category</th>\n",
              "      <th>ticket</th>\n",
              "      <th>pclass</th>\n",
              "      <th>embarked</th>\n",
              "      <th>family_count</th>\n",
              "      <th>fare</th>\n",
              "      <th>survived</th>\n",
              "    </tr>\n",
              "  </thead>\n",
              "  <tbody>\n",
              "    <tr>\n",
              "      <th>1</th>\n",
              "      <td>Master</td>\n",
              "      <td>Hudson Trevor</td>\n",
              "      <td>Allison</td>\n",
              "      <td>male</td>\n",
              "      <td>0.916700</td>\n",
              "      <td>baby</td>\n",
              "      <td>113781</td>\n",
              "      <td>1</td>\n",
              "      <td>Southampton</td>\n",
              "      <td>3</td>\n",
              "      <td>151</td>\n",
              "      <td>1</td>\n",
              "    </tr>\n",
              "    <tr>\n",
              "      <th>3</th>\n",
              "      <td>Mr</td>\n",
              "      <td>Hudson Joshua Creighton</td>\n",
              "      <td>Allison</td>\n",
              "      <td>male</td>\n",
              "      <td>30.000000</td>\n",
              "      <td>adult</td>\n",
              "      <td>113781</td>\n",
              "      <td>1</td>\n",
              "      <td>Southampton</td>\n",
              "      <td>3</td>\n",
              "      <td>151</td>\n",
              "      <td>0</td>\n",
              "    </tr>\n",
              "    <tr>\n",
              "      <th>5</th>\n",
              "      <td>Mr</td>\n",
              "      <td>Harry</td>\n",
              "      <td>Anderson</td>\n",
              "      <td>male</td>\n",
              "      <td>48.000000</td>\n",
              "      <td>adult</td>\n",
              "      <td>19952</td>\n",
              "      <td>1</td>\n",
              "      <td>Southampton</td>\n",
              "      <td>0</td>\n",
              "      <td>26</td>\n",
              "      <td>1</td>\n",
              "    </tr>\n",
              "    <tr>\n",
              "      <th>8</th>\n",
              "      <td>Mr</td>\n",
              "      <td>Ramon</td>\n",
              "      <td>Artagaveytia</td>\n",
              "      <td>male</td>\n",
              "      <td>71.000000</td>\n",
              "      <td>senior</td>\n",
              "      <td>PC 17609</td>\n",
              "      <td>1</td>\n",
              "      <td>Cherbourg</td>\n",
              "      <td>0</td>\n",
              "      <td>49</td>\n",
              "      <td>0</td>\n",
              "    </tr>\n",
              "    <tr>\n",
              "      <th>9</th>\n",
              "      <td>Col</td>\n",
              "      <td>John Jacob</td>\n",
              "      <td>Astor</td>\n",
              "      <td>male</td>\n",
              "      <td>47.000000</td>\n",
              "      <td>adult</td>\n",
              "      <td>PC 17757</td>\n",
              "      <td>1</td>\n",
              "      <td>Cherbourg</td>\n",
              "      <td>1</td>\n",
              "      <td>227</td>\n",
              "      <td>0</td>\n",
              "    </tr>\n",
              "    <tr>\n",
              "      <th>...</th>\n",
              "      <td>...</td>\n",
              "      <td>...</td>\n",
              "      <td>...</td>\n",
              "      <td>...</td>\n",
              "      <td>...</td>\n",
              "      <td>...</td>\n",
              "      <td>...</td>\n",
              "      <td>...</td>\n",
              "      <td>...</td>\n",
              "      <td>...</td>\n",
              "      <td>...</td>\n",
              "      <td>...</td>\n",
              "    </tr>\n",
              "    <tr>\n",
              "      <th>309</th>\n",
              "      <td>Mr</td>\n",
              "      <td>Charles Duane</td>\n",
              "      <td>Williams</td>\n",
              "      <td>male</td>\n",
              "      <td>51.000000</td>\n",
              "      <td>senior</td>\n",
              "      <td>PC 17597</td>\n",
              "      <td>1</td>\n",
              "      <td>Cherbourg</td>\n",
              "      <td>1</td>\n",
              "      <td>61</td>\n",
              "      <td>0</td>\n",
              "    </tr>\n",
              "    <tr>\n",
              "      <th>310</th>\n",
              "      <td>Mr</td>\n",
              "      <td>Richard Norris II</td>\n",
              "      <td>Williams</td>\n",
              "      <td>male</td>\n",
              "      <td>21.000000</td>\n",
              "      <td>teen</td>\n",
              "      <td>PC 17597</td>\n",
              "      <td>1</td>\n",
              "      <td>Cherbourg</td>\n",
              "      <td>1</td>\n",
              "      <td>61</td>\n",
              "      <td>1</td>\n",
              "    </tr>\n",
              "    <tr>\n",
              "      <th>311</th>\n",
              "      <td>Mr</td>\n",
              "      <td>Fletcher Fellows</td>\n",
              "      <td>Williams-Lambert</td>\n",
              "      <td>male</td>\n",
              "      <td>29.881135</td>\n",
              "      <td>adult</td>\n",
              "      <td>113510</td>\n",
              "      <td>1</td>\n",
              "      <td>Southampton</td>\n",
              "      <td>0</td>\n",
              "      <td>35</td>\n",
              "      <td>0</td>\n",
              "    </tr>\n",
              "    <tr>\n",
              "      <th>313</th>\n",
              "      <td>Mr</td>\n",
              "      <td>Hugh</td>\n",
              "      <td>Woolner</td>\n",
              "      <td>male</td>\n",
              "      <td>29.881135</td>\n",
              "      <td>adult</td>\n",
              "      <td>19947</td>\n",
              "      <td>1</td>\n",
              "      <td>Southampton</td>\n",
              "      <td>0</td>\n",
              "      <td>35</td>\n",
              "      <td>1</td>\n",
              "    </tr>\n",
              "    <tr>\n",
              "      <th>314</th>\n",
              "      <td>Mr</td>\n",
              "      <td>George</td>\n",
              "      <td>Wright</td>\n",
              "      <td>male</td>\n",
              "      <td>62.000000</td>\n",
              "      <td>senior</td>\n",
              "      <td>113807</td>\n",
              "      <td>1</td>\n",
              "      <td>Southampton</td>\n",
              "      <td>0</td>\n",
              "      <td>26</td>\n",
              "      <td>0</td>\n",
              "    </tr>\n",
              "  </tbody>\n",
              "</table>\n",
              "<p>172 rows × 12 columns</p>\n",
              "</div>"
            ],
            "text/plain": [
              "    courtesy_title                     fname             lname gender  \\\n",
              "1           Master             Hudson Trevor           Allison   male   \n",
              "3               Mr   Hudson Joshua Creighton           Allison   male   \n",
              "5               Mr                     Harry          Anderson   male   \n",
              "8               Mr                     Ramon      Artagaveytia   male   \n",
              "9              Col                John Jacob             Astor   male   \n",
              "..             ...                       ...               ...    ...   \n",
              "309             Mr             Charles Duane          Williams   male   \n",
              "310             Mr         Richard Norris II          Williams   male   \n",
              "311             Mr          Fletcher Fellows  Williams-Lambert   male   \n",
              "313             Mr                      Hugh           Woolner   male   \n",
              "314             Mr                    George            Wright   male   \n",
              "\n",
              "           age age_category    ticket  pclass     embarked  family_count  \\\n",
              "1     0.916700         baby    113781       1  Southampton             3   \n",
              "3    30.000000        adult    113781       1  Southampton             3   \n",
              "5    48.000000        adult     19952       1  Southampton             0   \n",
              "8    71.000000       senior  PC 17609       1    Cherbourg             0   \n",
              "9    47.000000        adult  PC 17757       1    Cherbourg             1   \n",
              "..         ...          ...       ...     ...          ...           ...   \n",
              "309  51.000000       senior  PC 17597       1    Cherbourg             1   \n",
              "310  21.000000         teen  PC 17597       1    Cherbourg             1   \n",
              "311  29.881135        adult    113510       1  Southampton             0   \n",
              "313  29.881135        adult     19947       1  Southampton             0   \n",
              "314  62.000000       senior    113807       1  Southampton             0   \n",
              "\n",
              "     fare  survived  \n",
              "1     151         1  \n",
              "3     151         0  \n",
              "5      26         1  \n",
              "8      49         0  \n",
              "9     227         0  \n",
              "..    ...       ...  \n",
              "309    61         0  \n",
              "310    61         1  \n",
              "311    35         0  \n",
              "313    35         1  \n",
              "314    26         0  \n",
              "\n",
              "[172 rows x 12 columns]"
            ]
          },
          "execution_count": 44,
          "metadata": {},
          "output_type": "execute_result"
        }
      ],
      "source": [
        "cond=(df['gender']=='male') & (df['pclass']==1)               #in pandas & work like AND operator\n",
        "df.loc[cond,::]\n",
        "\n",
        "      #or\n",
        "\n",
        "df.loc[(df['gender']=='male') & (df['pclass']==1),::]\n"
      ]
    },
    {
      "cell_type": "markdown",
      "metadata": {
        "id": "PFEohM3VCZTI"
      },
      "source": [
        "# get the female passengers fname who were survived in pclass 1"
      ]
    },
    {
      "cell_type": "code",
      "execution_count": 45,
      "metadata": {},
      "outputs": [
        {
          "data": {
            "text/html": [
              "<div>\n",
              "<style scoped>\n",
              "    .dataframe tbody tr th:only-of-type {\n",
              "        vertical-align: middle;\n",
              "    }\n",
              "\n",
              "    .dataframe tbody tr th {\n",
              "        vertical-align: top;\n",
              "    }\n",
              "\n",
              "    .dataframe thead th {\n",
              "        text-align: right;\n",
              "    }\n",
              "</style>\n",
              "<table border=\"1\" class=\"dataframe\">\n",
              "  <thead>\n",
              "    <tr style=\"text-align: right;\">\n",
              "      <th></th>\n",
              "      <th>fname</th>\n",
              "    </tr>\n",
              "  </thead>\n",
              "  <tbody>\n",
              "    <tr>\n",
              "      <th>0</th>\n",
              "      <td>Elisabeth Walton</td>\n",
              "    </tr>\n",
              "    <tr>\n",
              "      <th>6</th>\n",
              "      <td>Kornelia Theodosia</td>\n",
              "    </tr>\n",
              "    <tr>\n",
              "      <th>7</th>\n",
              "      <td>Edward Dale (Charlotte Lamson)</td>\n",
              "    </tr>\n",
              "    <tr>\n",
              "      <th>10</th>\n",
              "      <td>John Jacob (Madeleine Talmadge Force)</td>\n",
              "    </tr>\n",
              "    <tr>\n",
              "      <th>11</th>\n",
              "      <td>Leontine Pauline</td>\n",
              "    </tr>\n",
              "    <tr>\n",
              "      <th>...</th>\n",
              "      <td>...</td>\n",
              "    </tr>\n",
              "    <tr>\n",
              "      <th>304</th>\n",
              "      <td>George Dennick (Mary Hitchcock)</td>\n",
              "    </tr>\n",
              "    <tr>\n",
              "      <th>307</th>\n",
              "      <td>George Dunton (Eleanor Elkins)</td>\n",
              "    </tr>\n",
              "    <tr>\n",
              "      <th>308</th>\n",
              "      <td>Constance</td>\n",
              "    </tr>\n",
              "    <tr>\n",
              "      <th>312</th>\n",
              "      <td>Helen Alice</td>\n",
              "    </tr>\n",
              "    <tr>\n",
              "      <th>315</th>\n",
              "      <td>Marie Grice</td>\n",
              "    </tr>\n",
              "  </tbody>\n",
              "</table>\n",
              "<p>139 rows × 1 columns</p>\n",
              "</div>"
            ],
            "text/plain": [
              "                                      fname\n",
              "0                          Elisabeth Walton\n",
              "6                        Kornelia Theodosia\n",
              "7            Edward Dale (Charlotte Lamson)\n",
              "10    John Jacob (Madeleine Talmadge Force)\n",
              "11                         Leontine Pauline\n",
              "..                                      ...\n",
              "304         George Dennick (Mary Hitchcock)\n",
              "307          George Dunton (Eleanor Elkins)\n",
              "308                               Constance\n",
              "312                             Helen Alice\n",
              "315                             Marie Grice\n",
              "\n",
              "[139 rows x 1 columns]"
            ]
          },
          "execution_count": 45,
          "metadata": {},
          "output_type": "execute_result"
        }
      ],
      "source": [
        "cond=(df['gender']=='female') & (df['survived']==1) & (df['pclass']==1)\n",
        "df.loc[cond,['fname']]"
      ]
    },
    {
      "cell_type": "markdown",
      "metadata": {
        "id": "GE-JNqpywzKG"
      },
      "source": [
        "# Get the passengers details whose embarked is Southampton, cherbourg"
      ]
    },
    {
      "cell_type": "code",
      "execution_count": 46,
      "metadata": {},
      "outputs": [
        {
          "data": {
            "text/html": [
              "<div>\n",
              "<style scoped>\n",
              "    .dataframe tbody tr th:only-of-type {\n",
              "        vertical-align: middle;\n",
              "    }\n",
              "\n",
              "    .dataframe tbody tr th {\n",
              "        vertical-align: top;\n",
              "    }\n",
              "\n",
              "    .dataframe thead th {\n",
              "        text-align: right;\n",
              "    }\n",
              "</style>\n",
              "<table border=\"1\" class=\"dataframe\">\n",
              "  <thead>\n",
              "    <tr style=\"text-align: right;\">\n",
              "      <th></th>\n",
              "      <th>courtesy_title</th>\n",
              "      <th>fname</th>\n",
              "      <th>lname</th>\n",
              "      <th>gender</th>\n",
              "      <th>age</th>\n",
              "      <th>age_category</th>\n",
              "      <th>ticket</th>\n",
              "      <th>pclass</th>\n",
              "      <th>embarked</th>\n",
              "      <th>family_count</th>\n",
              "      <th>fare</th>\n",
              "      <th>survived</th>\n",
              "    </tr>\n",
              "  </thead>\n",
              "  <tbody>\n",
              "    <tr>\n",
              "      <th>0</th>\n",
              "      <td>Miss</td>\n",
              "      <td>Elisabeth Walton</td>\n",
              "      <td>Allen</td>\n",
              "      <td>female</td>\n",
              "      <td>29.000000</td>\n",
              "      <td>adult</td>\n",
              "      <td>24160</td>\n",
              "      <td>1</td>\n",
              "      <td>Southampton</td>\n",
              "      <td>0</td>\n",
              "      <td>211</td>\n",
              "      <td>1</td>\n",
              "    </tr>\n",
              "    <tr>\n",
              "      <th>1</th>\n",
              "      <td>Master</td>\n",
              "      <td>Hudson Trevor</td>\n",
              "      <td>Allison</td>\n",
              "      <td>male</td>\n",
              "      <td>0.916700</td>\n",
              "      <td>baby</td>\n",
              "      <td>113781</td>\n",
              "      <td>1</td>\n",
              "      <td>Southampton</td>\n",
              "      <td>3</td>\n",
              "      <td>151</td>\n",
              "      <td>1</td>\n",
              "    </tr>\n",
              "    <tr>\n",
              "      <th>2</th>\n",
              "      <td>Miss</td>\n",
              "      <td>Helen Loraine</td>\n",
              "      <td>Allison</td>\n",
              "      <td>female</td>\n",
              "      <td>2.000000</td>\n",
              "      <td>baby</td>\n",
              "      <td>113781</td>\n",
              "      <td>1</td>\n",
              "      <td>Southampton</td>\n",
              "      <td>3</td>\n",
              "      <td>151</td>\n",
              "      <td>0</td>\n",
              "    </tr>\n",
              "    <tr>\n",
              "      <th>3</th>\n",
              "      <td>Mr</td>\n",
              "      <td>Hudson Joshua Creighton</td>\n",
              "      <td>Allison</td>\n",
              "      <td>male</td>\n",
              "      <td>30.000000</td>\n",
              "      <td>adult</td>\n",
              "      <td>113781</td>\n",
              "      <td>1</td>\n",
              "      <td>Southampton</td>\n",
              "      <td>3</td>\n",
              "      <td>151</td>\n",
              "      <td>0</td>\n",
              "    </tr>\n",
              "    <tr>\n",
              "      <th>4</th>\n",
              "      <td>Mrs</td>\n",
              "      <td>Hudson J C (Bessie Waldo Daniels)</td>\n",
              "      <td>Allison</td>\n",
              "      <td>female</td>\n",
              "      <td>25.000000</td>\n",
              "      <td>teen</td>\n",
              "      <td>113781</td>\n",
              "      <td>1</td>\n",
              "      <td>Southampton</td>\n",
              "      <td>3</td>\n",
              "      <td>151</td>\n",
              "      <td>0</td>\n",
              "    </tr>\n",
              "    <tr>\n",
              "      <th>...</th>\n",
              "      <td>...</td>\n",
              "      <td>...</td>\n",
              "      <td>...</td>\n",
              "      <td>...</td>\n",
              "      <td>...</td>\n",
              "      <td>...</td>\n",
              "      <td>...</td>\n",
              "      <td>...</td>\n",
              "      <td>...</td>\n",
              "      <td>...</td>\n",
              "      <td>...</td>\n",
              "      <td>...</td>\n",
              "    </tr>\n",
              "    <tr>\n",
              "      <th>1278</th>\n",
              "      <td>Mr</td>\n",
              "      <td>Einar</td>\n",
              "      <td>Windelov</td>\n",
              "      <td>male</td>\n",
              "      <td>21.000000</td>\n",
              "      <td>teen</td>\n",
              "      <td>SOTON/OQ 3101317</td>\n",
              "      <td>3</td>\n",
              "      <td>Southampton</td>\n",
              "      <td>0</td>\n",
              "      <td>7</td>\n",
              "      <td>0</td>\n",
              "    </tr>\n",
              "    <tr>\n",
              "      <th>1279</th>\n",
              "      <td>Mr</td>\n",
              "      <td>Albert</td>\n",
              "      <td>Wirz</td>\n",
              "      <td>male</td>\n",
              "      <td>27.000000</td>\n",
              "      <td>adult</td>\n",
              "      <td>315154</td>\n",
              "      <td>3</td>\n",
              "      <td>Southampton</td>\n",
              "      <td>0</td>\n",
              "      <td>8</td>\n",
              "      <td>0</td>\n",
              "    </tr>\n",
              "    <tr>\n",
              "      <th>1280</th>\n",
              "      <td>Mr</td>\n",
              "      <td>Phillippe</td>\n",
              "      <td>Wiseman</td>\n",
              "      <td>male</td>\n",
              "      <td>29.881135</td>\n",
              "      <td>adult</td>\n",
              "      <td>A/4. 34244</td>\n",
              "      <td>3</td>\n",
              "      <td>Southampton</td>\n",
              "      <td>0</td>\n",
              "      <td>7</td>\n",
              "      <td>0</td>\n",
              "    </tr>\n",
              "    <tr>\n",
              "      <th>1281</th>\n",
              "      <td>Mr</td>\n",
              "      <td>Camille</td>\n",
              "      <td>Wittevrongel</td>\n",
              "      <td>male</td>\n",
              "      <td>36.000000</td>\n",
              "      <td>adult</td>\n",
              "      <td>345771</td>\n",
              "      <td>3</td>\n",
              "      <td>Southampton</td>\n",
              "      <td>0</td>\n",
              "      <td>9</td>\n",
              "      <td>0</td>\n",
              "    </tr>\n",
              "    <tr>\n",
              "      <th>1291</th>\n",
              "      <td>Mr</td>\n",
              "      <td>Leo</td>\n",
              "      <td>Zimmerman</td>\n",
              "      <td>male</td>\n",
              "      <td>29.000000</td>\n",
              "      <td>adult</td>\n",
              "      <td>315082</td>\n",
              "      <td>3</td>\n",
              "      <td>Southampton</td>\n",
              "      <td>0</td>\n",
              "      <td>7</td>\n",
              "      <td>0</td>\n",
              "    </tr>\n",
              "  </tbody>\n",
              "</table>\n",
              "<p>899 rows × 12 columns</p>\n",
              "</div>"
            ],
            "text/plain": [
              "     courtesy_title                               fname         lname  gender  \\\n",
              "0              Miss                    Elisabeth Walton         Allen  female   \n",
              "1            Master                       Hudson Trevor       Allison    male   \n",
              "2              Miss                       Helen Loraine       Allison  female   \n",
              "3                Mr             Hudson Joshua Creighton       Allison    male   \n",
              "4               Mrs   Hudson J C (Bessie Waldo Daniels)       Allison  female   \n",
              "...             ...                                 ...           ...     ...   \n",
              "1278             Mr                               Einar      Windelov    male   \n",
              "1279             Mr                              Albert          Wirz    male   \n",
              "1280             Mr                           Phillippe       Wiseman    male   \n",
              "1281             Mr                             Camille  Wittevrongel    male   \n",
              "1291             Mr                                 Leo     Zimmerman    male   \n",
              "\n",
              "            age age_category            ticket  pclass     embarked  \\\n",
              "0     29.000000        adult             24160       1  Southampton   \n",
              "1      0.916700         baby            113781       1  Southampton   \n",
              "2      2.000000         baby            113781       1  Southampton   \n",
              "3     30.000000        adult            113781       1  Southampton   \n",
              "4     25.000000         teen            113781       1  Southampton   \n",
              "...         ...          ...               ...     ...          ...   \n",
              "1278  21.000000         teen  SOTON/OQ 3101317       3  Southampton   \n",
              "1279  27.000000        adult            315154       3  Southampton   \n",
              "1280  29.881135        adult        A/4. 34244       3  Southampton   \n",
              "1281  36.000000        adult            345771       3  Southampton   \n",
              "1291  29.000000        adult            315082       3  Southampton   \n",
              "\n",
              "      family_count  fare  survived  \n",
              "0                0   211         1  \n",
              "1                3   151         1  \n",
              "2                3   151         0  \n",
              "3                3   151         0  \n",
              "4                3   151         0  \n",
              "...            ...   ...       ...  \n",
              "1278             0     7         0  \n",
              "1279             0     8         0  \n",
              "1280             0     7         0  \n",
              "1281             0     9         0  \n",
              "1291             0     7         0  \n",
              "\n",
              "[899 rows x 12 columns]"
            ]
          },
          "execution_count": 46,
          "metadata": {},
          "output_type": "execute_result"
        }
      ],
      "source": [
        "cond=(df['embarked']=='Southampton') | (df['embarked']=='Cherbouurg')          # | operator work like a OR operator in pandas\n",
        "df.loc[cond,::]\n",
        "          \n",
        "#or\n",
        "\n",
        "cond=df['embarked'].isin(['Southampton','Cherbourge'])\n",
        "df.loc[cond,::]\n"
      ]
    },
    {
      "cell_type": "markdown",
      "metadata": {},
      "source": [
        "\n",
        "# Get the no_of_survivals\n",
        "# Get the survival rate"
      ]
    },
    {
      "cell_type": "code",
      "execution_count": 47,
      "metadata": {},
      "outputs": [
        {
          "data": {
            "text/plain": [
              "survived    0.385449\n",
              "dtype: float64"
            ]
          },
          "execution_count": 47,
          "metadata": {},
          "output_type": "execute_result"
        }
      ],
      "source": [
        "cond=df['survived']==1\n",
        "df.loc[cond,['survived']].count() \n",
        "#or \n",
        "df.loc[::,['survived']].sum()\n",
        "#or\n",
        "df['survived'].sum()\n",
        "\n",
        "\n",
        "survival_rate=df.loc[::,['survived']].mean()\n",
        "survival_rate"
      ]
    },
    {
      "cell_type": "markdown",
      "metadata": {},
      "source": [
        "get the number of missings values in age column (assuming missing values exist)"
      ]
    },
    {
      "cell_type": "code",
      "execution_count": 48,
      "metadata": {},
      "outputs": [
        {
          "data": {
            "text/plain": [
              "np.int64(0)"
            ]
          },
          "execution_count": 48,
          "metadata": {},
          "output_type": "execute_result"
        }
      ],
      "source": [
        "df['age'].isnull().sum()"
      ]
    },
    {
      "cell_type": "markdown",
      "metadata": {},
      "source": [
        "# Get the no_of passengers\n",
        "# Get the no_of male passengers"
      ]
    },
    {
      "cell_type": "code",
      "execution_count": 49,
      "metadata": {},
      "outputs": [
        {
          "data": {
            "text/plain": [
              "gender    826\n",
              "dtype: int64"
            ]
          },
          "execution_count": 49,
          "metadata": {},
          "output_type": "execute_result"
        }
      ],
      "source": [
        "no_of_passengers=df['ticket'].count()\n",
        "no_of_passengers\n",
        "\n",
        "cond=df['gender']=='male'\n",
        "df.loc[cond,['gender']].count()\n",
        "#or\n",
        "\n",
        "df.loc[(df['gender']=='male'),['gender']].count()"
      ]
    },
    {
      "cell_type": "markdown",
      "metadata": {
        "id": "X2bNBTdRx8cT"
      },
      "source": [
        "# Get the highest fare\n",
        "# Get the lowest fare among female passengers"
      ]
    },
    {
      "cell_type": "code",
      "execution_count": 50,
      "metadata": {},
      "outputs": [
        {
          "data": {
            "text/plain": [
              "fare    6\n",
              "dtype: int64"
            ]
          },
          "execution_count": 50,
          "metadata": {},
          "output_type": "execute_result"
        }
      ],
      "source": [
        "df['fare'].max()\n",
        "#or\n",
        "df.loc[::,['fare']].max()\n",
        "\n",
        "\n",
        "cond=df['gender']=='female'\n",
        "df.loc[cond,['fare']].min()"
      ]
    },
    {
      "cell_type": "markdown",
      "metadata": {
        "id": "_WcYgDYiyaiS"
      },
      "source": [
        "# Get the aggregates for fare column"
      ]
    },
    {
      "cell_type": "code",
      "execution_count": 51,
      "metadata": {},
      "outputs": [
        {
          "data": {
            "text/html": [
              "<div>\n",
              "<style scoped>\n",
              "    .dataframe tbody tr th:only-of-type {\n",
              "        vertical-align: middle;\n",
              "    }\n",
              "\n",
              "    .dataframe tbody tr th {\n",
              "        vertical-align: top;\n",
              "    }\n",
              "\n",
              "    .dataframe thead th {\n",
              "        text-align: right;\n",
              "    }\n",
              "</style>\n",
              "<table border=\"1\" class=\"dataframe\">\n",
              "  <thead>\n",
              "    <tr style=\"text-align: right;\">\n",
              "      <th></th>\n",
              "      <th>fare</th>\n",
              "    </tr>\n",
              "  </thead>\n",
              "  <tbody>\n",
              "    <tr>\n",
              "      <th>count</th>\n",
              "      <td>1292.000000</td>\n",
              "    </tr>\n",
              "    <tr>\n",
              "      <th>min</th>\n",
              "      <td>3.000000</td>\n",
              "    </tr>\n",
              "    <tr>\n",
              "      <th>max</th>\n",
              "      <td>512.000000</td>\n",
              "    </tr>\n",
              "    <tr>\n",
              "      <th>mean</th>\n",
              "      <td>33.301858</td>\n",
              "    </tr>\n",
              "    <tr>\n",
              "      <th>sum</th>\n",
              "      <td>43026.000000</td>\n",
              "    </tr>\n",
              "  </tbody>\n",
              "</table>\n",
              "</div>"
            ],
            "text/plain": [
              "               fare\n",
              "count   1292.000000\n",
              "min        3.000000\n",
              "max      512.000000\n",
              "mean      33.301858\n",
              "sum    43026.000000"
            ]
          },
          "execution_count": 51,
          "metadata": {},
          "output_type": "execute_result"
        }
      ],
      "source": [
        "df.agg({'fare':['count','min','max','mean','sum']})"
      ]
    },
    {
      "cell_type": "markdown",
      "metadata": {},
      "source": []
    },
    {
      "cell_type": "markdown",
      "metadata": {
        "id": "OZ132l1kymwm"
      },
      "source": [
        "# Get the no_of_passengers in each gender"
      ]
    },
    {
      "cell_type": "code",
      "execution_count": 52,
      "metadata": {},
      "outputs": [
        {
          "data": {
            "text/plain": [
              "gender\n",
              "female    466\n",
              "male      826\n",
              "Name: gender, dtype: int64"
            ]
          },
          "execution_count": 52,
          "metadata": {},
          "output_type": "execute_result"
        }
      ],
      "source": [
        "gp_obj=df.groupby(['gender'])\n",
        "gp_obj['gender'].count()\n"
      ]
    },
    {
      "cell_type": "markdown",
      "metadata": {},
      "source": [
        "There were 466 females in the titanic.\n",
        "\n",
        "There were 826 males in the titanic."
      ]
    },
    {
      "cell_type": "markdown",
      "metadata": {
        "id": "DKbEsb5JyuH7"
      },
      "source": [
        "# Get the total fare in each pclass"
      ]
    },
    {
      "cell_type": "code",
      "execution_count": 53,
      "metadata": {},
      "outputs": [
        {
          "data": {
            "text/plain": [
              "pclass\n",
              "1    28129\n",
              "2     5806\n",
              "3     9091\n",
              "Name: fare, dtype: int64"
            ]
          },
          "execution_count": 53,
          "metadata": {},
          "output_type": "execute_result"
        }
      ],
      "source": [
        "gp_obj=df.groupby(['pclass'])\n",
        "gp_obj['fare'].sum()"
      ]
    },
    {
      "cell_type": "markdown",
      "metadata": {},
      "source": [
        "1st-class passengers contributed a total of $28129 in fares.\n",
        "\n",
        "2nd-class passengers contributed a total of $5806 in fares.\n",
        "\n",
        "3rd-class passengers contributed a total of $9091 in fares."
      ]
    },
    {
      "cell_type": "markdown",
      "metadata": {
        "id": "S4dAEuNLy5m0"
      },
      "source": [
        "# Get the pclass wise survival rate and count"
      ]
    },
    {
      "cell_type": "code",
      "execution_count": 54,
      "metadata": {},
      "outputs": [
        {
          "data": {
            "text/html": [
              "<div>\n",
              "<style scoped>\n",
              "    .dataframe tbody tr th:only-of-type {\n",
              "        vertical-align: middle;\n",
              "    }\n",
              "\n",
              "    .dataframe tbody tr th {\n",
              "        vertical-align: top;\n",
              "    }\n",
              "\n",
              "    .dataframe thead tr th {\n",
              "        text-align: left;\n",
              "    }\n",
              "\n",
              "    .dataframe thead tr:last-of-type th {\n",
              "        text-align: right;\n",
              "    }\n",
              "</style>\n",
              "<table border=\"1\" class=\"dataframe\">\n",
              "  <thead>\n",
              "    <tr>\n",
              "      <th></th>\n",
              "      <th colspan=\"2\" halign=\"left\">survived</th>\n",
              "    </tr>\n",
              "    <tr>\n",
              "      <th></th>\n",
              "      <th>count</th>\n",
              "      <th>mean</th>\n",
              "    </tr>\n",
              "    <tr>\n",
              "      <th>pclass</th>\n",
              "      <th></th>\n",
              "      <th></th>\n",
              "    </tr>\n",
              "  </thead>\n",
              "  <tbody>\n",
              "    <tr>\n",
              "      <th>1</th>\n",
              "      <td>316</td>\n",
              "      <td>0.629747</td>\n",
              "    </tr>\n",
              "    <tr>\n",
              "      <th>2</th>\n",
              "      <td>271</td>\n",
              "      <td>0.439114</td>\n",
              "    </tr>\n",
              "    <tr>\n",
              "      <th>3</th>\n",
              "      <td>705</td>\n",
              "      <td>0.255319</td>\n",
              "    </tr>\n",
              "  </tbody>\n",
              "</table>\n",
              "</div>"
            ],
            "text/plain": [
              "       survived          \n",
              "          count      mean\n",
              "pclass                   \n",
              "1           316  0.629747\n",
              "2           271  0.439114\n",
              "3           705  0.255319"
            ]
          },
          "execution_count": 54,
          "metadata": {},
          "output_type": "execute_result"
        }
      ],
      "source": [
        "gp_obj=df.groupby(['pclass'])\n",
        "gp_obj.agg({'survived':['count','mean']})"
      ]
    },
    {
      "cell_type": "markdown",
      "metadata": {},
      "source": [
        "316 passengers were in 1st class, with a survival rate of 63%.\n",
        "\n",
        "271 passengers were in 2nd class, with a survival rate of 47%.\n",
        "\n",
        "705 passengers were in 3rd class, with a survival rate of 24%."
      ]
    },
    {
      "cell_type": "markdown",
      "metadata": {
        "id": "FrOGPnIYzSOc"
      },
      "source": [
        "# Get the pclass,gender wise survival rate"
      ]
    },
    {
      "cell_type": "code",
      "execution_count": 55,
      "metadata": {},
      "outputs": [
        {
          "data": {
            "text/html": [
              "<div>\n",
              "<style scoped>\n",
              "    .dataframe tbody tr th:only-of-type {\n",
              "        vertical-align: middle;\n",
              "    }\n",
              "\n",
              "    .dataframe tbody tr th {\n",
              "        vertical-align: top;\n",
              "    }\n",
              "\n",
              "    .dataframe thead tr th {\n",
              "        text-align: left;\n",
              "    }\n",
              "\n",
              "    .dataframe thead tr:last-of-type th {\n",
              "        text-align: right;\n",
              "    }\n",
              "</style>\n",
              "<table border=\"1\" class=\"dataframe\">\n",
              "  <thead>\n",
              "    <tr>\n",
              "      <th></th>\n",
              "      <th></th>\n",
              "      <th>survived</th>\n",
              "    </tr>\n",
              "    <tr>\n",
              "      <th></th>\n",
              "      <th></th>\n",
              "      <th>mean</th>\n",
              "    </tr>\n",
              "    <tr>\n",
              "      <th>pclass</th>\n",
              "      <th>gender</th>\n",
              "      <th></th>\n",
              "    </tr>\n",
              "  </thead>\n",
              "  <tbody>\n",
              "    <tr>\n",
              "      <th rowspan=\"2\" valign=\"top\">1</th>\n",
              "      <th>female</th>\n",
              "      <td>0.965278</td>\n",
              "    </tr>\n",
              "    <tr>\n",
              "      <th>male</th>\n",
              "      <td>0.348837</td>\n",
              "    </tr>\n",
              "    <tr>\n",
              "      <th rowspan=\"2\" valign=\"top\">2</th>\n",
              "      <th>female</th>\n",
              "      <td>0.886792</td>\n",
              "    </tr>\n",
              "    <tr>\n",
              "      <th>male</th>\n",
              "      <td>0.151515</td>\n",
              "    </tr>\n",
              "    <tr>\n",
              "      <th rowspan=\"2\" valign=\"top\">3</th>\n",
              "      <th>female</th>\n",
              "      <td>0.490741</td>\n",
              "    </tr>\n",
              "    <tr>\n",
              "      <th>male</th>\n",
              "      <td>0.151329</td>\n",
              "    </tr>\n",
              "  </tbody>\n",
              "</table>\n",
              "</div>"
            ],
            "text/plain": [
              "               survived\n",
              "                   mean\n",
              "pclass gender          \n",
              "1      female  0.965278\n",
              "       male    0.348837\n",
              "2      female  0.886792\n",
              "       male    0.151515\n",
              "3      female  0.490741\n",
              "       male    0.151329"
            ]
          },
          "execution_count": 55,
          "metadata": {},
          "output_type": "execute_result"
        }
      ],
      "source": [
        "gp_obj=df.groupby(['pclass','gender'])\n",
        "gp_obj['survived'].mean()\n",
        "\n",
        "#or\n",
        "gp_obj.agg({'survived':['mean']})"
      ]
    },
    {
      "cell_type": "markdown",
      "metadata": {},
      "source": [
        "96% of 1st-class females survived.\n",
        "34% of 1st-class males survived.\n",
        "\n",
        "92% of 2nd-class females survived.\n",
        "15% of 2nd-class males survived.\n",
        "\n",
        "50% of 3rd-class females survived.\n",
        "12% of 3rd-class males survived."
      ]
    },
    {
      "cell_type": "markdown",
      "metadata": {
        "id": "MzwHJXRuzycb"
      },
      "source": [
        "# Get the no.of.psgn in each pclass"
      ]
    },
    {
      "cell_type": "markdown",
      "metadata": {
        "id": "AIFAuASVzljm"
      },
      "source": [
        "# Find the pclass in which highest no_of_passengers are there"
      ]
    },
    {
      "cell_type": "code",
      "execution_count": 56,
      "metadata": {},
      "outputs": [
        {
          "data": {
            "text/plain": [
              "np.int64(3)"
            ]
          },
          "execution_count": 56,
          "metadata": {},
          "output_type": "execute_result"
        }
      ],
      "source": [
        "gp=df.groupby('pclass')\n",
        "gp['pclass'].count().idxmax()"
      ]
    },
    {
      "cell_type": "markdown",
      "metadata": {
        "id": "aelUi-qsz8tj"
      },
      "source": [
        "# Find the pclass in which lowest no_of_passengers are there"
      ]
    },
    {
      "cell_type": "code",
      "execution_count": 57,
      "metadata": {},
      "outputs": [
        {
          "data": {
            "text/plain": [
              "<bound method Series.idxmin of pclass\n",
              "1    316\n",
              "2    271\n",
              "3    705\n",
              "Name: pclass, dtype: int64>"
            ]
          },
          "execution_count": 57,
          "metadata": {},
          "output_type": "execute_result"
        }
      ],
      "source": [
        "gp=df.groupby('pclass')\n",
        "gp['pclass'].count().idxmin"
      ]
    },
    {
      "cell_type": "markdown",
      "metadata": {
        "id": "Nd_z1s5t0pP4"
      },
      "source": [
        "# Find the no.of.familes travelling"
      ]
    },
    {
      "cell_type": "code",
      "execution_count": 58,
      "metadata": {},
      "outputs": [
        {
          "data": {
            "text/plain": [
              "ticket\n",
              "110152         3\n",
              "110413         3\n",
              "110465         2\n",
              "110469         1\n",
              "110489         1\n",
              "              ..\n",
              "W./C. 6608     5\n",
              "W./C. 6609     1\n",
              "W.E.P. 5734    2\n",
              "W/C 14208      1\n",
              "WE/P 5735      2\n",
              "Name: ticket, Length: 918, dtype: int64"
            ]
          },
          "execution_count": 58,
          "metadata": {},
          "output_type": "execute_result"
        }
      ],
      "source": [
        "df.groupby('ticket')['ticket'].count()"
      ]
    },
    {
      "cell_type": "markdown",
      "metadata": {
        "id": "J7Wi9Nl-1NDK"
      },
      "source": [
        "# Find the no.of.familes travelling  and survival rate"
      ]
    },
    {
      "cell_type": "code",
      "execution_count": 59,
      "metadata": {},
      "outputs": [
        {
          "data": {
            "text/html": [
              "<div>\n",
              "<style scoped>\n",
              "    .dataframe tbody tr th:only-of-type {\n",
              "        vertical-align: middle;\n",
              "    }\n",
              "\n",
              "    .dataframe tbody tr th {\n",
              "        vertical-align: top;\n",
              "    }\n",
              "\n",
              "    .dataframe thead tr th {\n",
              "        text-align: left;\n",
              "    }\n",
              "\n",
              "    .dataframe thead tr:last-of-type th {\n",
              "        text-align: right;\n",
              "    }\n",
              "</style>\n",
              "<table border=\"1\" class=\"dataframe\">\n",
              "  <thead>\n",
              "    <tr>\n",
              "      <th></th>\n",
              "      <th colspan=\"2\" halign=\"left\">survived</th>\n",
              "    </tr>\n",
              "    <tr>\n",
              "      <th></th>\n",
              "      <th>count</th>\n",
              "      <th>mean</th>\n",
              "    </tr>\n",
              "    <tr>\n",
              "      <th>ticket</th>\n",
              "      <th></th>\n",
              "      <th></th>\n",
              "    </tr>\n",
              "  </thead>\n",
              "  <tbody>\n",
              "    <tr>\n",
              "      <th>110152</th>\n",
              "      <td>3</td>\n",
              "      <td>1.000000</td>\n",
              "    </tr>\n",
              "    <tr>\n",
              "      <th>110413</th>\n",
              "      <td>3</td>\n",
              "      <td>0.666667</td>\n",
              "    </tr>\n",
              "    <tr>\n",
              "      <th>110465</th>\n",
              "      <td>2</td>\n",
              "      <td>0.000000</td>\n",
              "    </tr>\n",
              "    <tr>\n",
              "      <th>110469</th>\n",
              "      <td>1</td>\n",
              "      <td>0.000000</td>\n",
              "    </tr>\n",
              "    <tr>\n",
              "      <th>110489</th>\n",
              "      <td>1</td>\n",
              "      <td>0.000000</td>\n",
              "    </tr>\n",
              "    <tr>\n",
              "      <th>...</th>\n",
              "      <td>...</td>\n",
              "      <td>...</td>\n",
              "    </tr>\n",
              "    <tr>\n",
              "      <th>W./C. 6608</th>\n",
              "      <td>5</td>\n",
              "      <td>0.000000</td>\n",
              "    </tr>\n",
              "    <tr>\n",
              "      <th>W./C. 6609</th>\n",
              "      <td>1</td>\n",
              "      <td>0.000000</td>\n",
              "    </tr>\n",
              "    <tr>\n",
              "      <th>W.E.P. 5734</th>\n",
              "      <td>2</td>\n",
              "      <td>0.500000</td>\n",
              "    </tr>\n",
              "    <tr>\n",
              "      <th>W/C 14208</th>\n",
              "      <td>1</td>\n",
              "      <td>0.000000</td>\n",
              "    </tr>\n",
              "    <tr>\n",
              "      <th>WE/P 5735</th>\n",
              "      <td>2</td>\n",
              "      <td>0.500000</td>\n",
              "    </tr>\n",
              "  </tbody>\n",
              "</table>\n",
              "<p>918 rows × 2 columns</p>\n",
              "</div>"
            ],
            "text/plain": [
              "            survived          \n",
              "               count      mean\n",
              "ticket                        \n",
              "110152             3  1.000000\n",
              "110413             3  0.666667\n",
              "110465             2  0.000000\n",
              "110469             1  0.000000\n",
              "110489             1  0.000000\n",
              "...              ...       ...\n",
              "W./C. 6608         5  0.000000\n",
              "W./C. 6609         1  0.000000\n",
              "W.E.P. 5734        2  0.500000\n",
              "W/C 14208          1  0.000000\n",
              "WE/P 5735          2  0.500000\n",
              "\n",
              "[918 rows x 2 columns]"
            ]
          },
          "execution_count": 59,
          "metadata": {},
          "output_type": "execute_result"
        }
      ],
      "source": [
        "df.groupby('ticket').agg({'survived':['count','mean']})\n"
      ]
    },
    {
      "cell_type": "markdown",
      "metadata": {
        "id": "D60vX1FAyGY1"
      },
      "source": []
    },
    {
      "cell_type": "code",
      "execution_count": 60,
      "metadata": {},
      "outputs": [],
      "source": [
        "# df.loc[df['ticket']=='110413',['survived']]   #(optional)\n",
        "\n",
        "# df.loc[df['ticket']=='110413',::]             #(optional)\n",
        "\n",
        "#if family count is 0 , that does not mean they are alone.\n",
        "#if the ticket is same , that does not mean they are family (they might me friends)"
      ]
    },
    {
      "cell_type": "markdown",
      "metadata": {
        "id": "ft7bBI3_1WJM"
      },
      "source": [
        "# find the correlation between the numerical columns"
      ]
    },
    {
      "cell_type": "code",
      "execution_count": 61,
      "metadata": {},
      "outputs": [
        {
          "data": {
            "text/html": [
              "<div>\n",
              "<style scoped>\n",
              "    .dataframe tbody tr th:only-of-type {\n",
              "        vertical-align: middle;\n",
              "    }\n",
              "\n",
              "    .dataframe tbody tr th {\n",
              "        vertical-align: top;\n",
              "    }\n",
              "\n",
              "    .dataframe thead th {\n",
              "        text-align: right;\n",
              "    }\n",
              "</style>\n",
              "<table border=\"1\" class=\"dataframe\">\n",
              "  <thead>\n",
              "    <tr style=\"text-align: right;\">\n",
              "      <th></th>\n",
              "      <th>age</th>\n",
              "      <th>pclass</th>\n",
              "      <th>family_count</th>\n",
              "      <th>fare</th>\n",
              "      <th>survived</th>\n",
              "    </tr>\n",
              "  </thead>\n",
              "  <tbody>\n",
              "    <tr>\n",
              "      <th>age</th>\n",
              "      <td>1.000000</td>\n",
              "      <td>-0.366397</td>\n",
              "      <td>-0.196047</td>\n",
              "      <td>0.174783</td>\n",
              "      <td>-0.049676</td>\n",
              "    </tr>\n",
              "    <tr>\n",
              "      <th>pclass</th>\n",
              "      <td>-0.366397</td>\n",
              "      <td>1.000000</td>\n",
              "      <td>0.046349</td>\n",
              "      <td>-0.570109</td>\n",
              "      <td>-0.321205</td>\n",
              "    </tr>\n",
              "    <tr>\n",
              "      <th>family_count</th>\n",
              "      <td>-0.196047</td>\n",
              "      <td>0.046349</td>\n",
              "      <td>1.000000</td>\n",
              "      <td>0.222935</td>\n",
              "      <td>0.023038</td>\n",
              "    </tr>\n",
              "    <tr>\n",
              "      <th>fare</th>\n",
              "      <td>0.174783</td>\n",
              "      <td>-0.570109</td>\n",
              "      <td>0.222935</td>\n",
              "      <td>1.000000</td>\n",
              "      <td>0.241527</td>\n",
              "    </tr>\n",
              "    <tr>\n",
              "      <th>survived</th>\n",
              "      <td>-0.049676</td>\n",
              "      <td>-0.321205</td>\n",
              "      <td>0.023038</td>\n",
              "      <td>0.241527</td>\n",
              "      <td>1.000000</td>\n",
              "    </tr>\n",
              "  </tbody>\n",
              "</table>\n",
              "</div>"
            ],
            "text/plain": [
              "                   age    pclass  family_count      fare  survived\n",
              "age           1.000000 -0.366397     -0.196047  0.174783 -0.049676\n",
              "pclass       -0.366397  1.000000      0.046349 -0.570109 -0.321205\n",
              "family_count -0.196047  0.046349      1.000000  0.222935  0.023038\n",
              "fare          0.174783 -0.570109      0.222935  1.000000  0.241527\n",
              "survived     -0.049676 -0.321205      0.023038  0.241527  1.000000"
            ]
          },
          "execution_count": 61,
          "metadata": {},
          "output_type": "execute_result"
        }
      ],
      "source": [
        "df.corr(numeric_only=True)"
      ]
    },
    {
      "cell_type": "markdown",
      "metadata": {
        "id": "D5nPKLdF2Bpy"
      },
      "source": [
        "# What is correlation b/w fare and pclass\n",
        "\n",
        "# what is the correlate b/w fare and survival\n",
        "\n",
        "# What is correlation b/w age and survival"
      ]
    },
    {
      "cell_type": "code",
      "execution_count": 62,
      "metadata": {},
      "outputs": [
        {
          "data": {
            "text/html": [
              "<div>\n",
              "<style scoped>\n",
              "    .dataframe tbody tr th:only-of-type {\n",
              "        vertical-align: middle;\n",
              "    }\n",
              "\n",
              "    .dataframe tbody tr th {\n",
              "        vertical-align: top;\n",
              "    }\n",
              "\n",
              "    .dataframe thead th {\n",
              "        text-align: right;\n",
              "    }\n",
              "</style>\n",
              "<table border=\"1\" class=\"dataframe\">\n",
              "  <thead>\n",
              "    <tr style=\"text-align: right;\">\n",
              "      <th></th>\n",
              "      <th>age</th>\n",
              "      <th>survived</th>\n",
              "    </tr>\n",
              "  </thead>\n",
              "  <tbody>\n",
              "    <tr>\n",
              "      <th>age</th>\n",
              "      <td>1.000000</td>\n",
              "      <td>-0.049676</td>\n",
              "    </tr>\n",
              "    <tr>\n",
              "      <th>survived</th>\n",
              "      <td>-0.049676</td>\n",
              "      <td>1.000000</td>\n",
              "    </tr>\n",
              "  </tbody>\n",
              "</table>\n",
              "</div>"
            ],
            "text/plain": [
              "               age  survived\n",
              "age       1.000000 -0.049676\n",
              "survived -0.049676  1.000000"
            ]
          },
          "execution_count": 62,
          "metadata": {},
          "output_type": "execute_result"
        }
      ],
      "source": [
        "df.loc[::,['fare','pclass']].corr()\n",
        "\n",
        "df.loc[::,['fare','survived']].corr()\n",
        "\n",
        "df.loc[::,['age','survived']].corr()"
      ]
    },
    {
      "cell_type": "markdown",
      "metadata": {},
      "source": [
        "find the correlation b/w gender and survival"
      ]
    },
    {
      "cell_type": "code",
      "execution_count": 63,
      "metadata": {},
      "outputs": [
        {
          "data": {
            "text/plain": [
              "np.float64(0.5278258125759906)"
            ]
          },
          "execution_count": 63,
          "metadata": {},
          "output_type": "execute_result"
        }
      ],
      "source": [
        "temp=df['gender'].map({'male':0,'female':1})\n",
        "# print(temp)\n",
        "\n",
        "df.loc[::,'survived'].corr(temp)"
      ]
    },
    {
      "cell_type": "markdown",
      "metadata": {},
      "source": [
        "find the correlation b/w age-category and survival"
      ]
    },
    {
      "cell_type": "code",
      "execution_count": 64,
      "metadata": {},
      "outputs": [
        {
          "data": {
            "text/plain": [
              "np.float64(-0.04967616651156049)"
            ]
          },
          "execution_count": 64,
          "metadata": {},
          "output_type": "execute_result"
        }
      ],
      "source": [
        "temp=df['age']\n",
        "df.loc[::,'survived'].corr(temp)"
      ]
    },
    {
      "cell_type": "markdown",
      "metadata": {},
      "source": []
    },
    {
      "cell_type": "code",
      "execution_count": null,
      "metadata": {},
      "outputs": [],
      "source": []
    },
    {
      "cell_type": "markdown",
      "metadata": {
        "id": "w1kGfuyC1dPu"
      },
      "source": [
        "# Get the pclass wise male and female count and survival rate"
      ]
    },
    {
      "cell_type": "code",
      "execution_count": 65,
      "metadata": {},
      "outputs": [
        {
          "data": {
            "text/html": [
              "<div>\n",
              "<style scoped>\n",
              "    .dataframe tbody tr th:only-of-type {\n",
              "        vertical-align: middle;\n",
              "    }\n",
              "\n",
              "    .dataframe tbody tr th {\n",
              "        vertical-align: top;\n",
              "    }\n",
              "\n",
              "    .dataframe thead tr th {\n",
              "        text-align: left;\n",
              "    }\n",
              "\n",
              "    .dataframe thead tr:last-of-type th {\n",
              "        text-align: right;\n",
              "    }\n",
              "</style>\n",
              "<table border=\"1\" class=\"dataframe\">\n",
              "  <thead>\n",
              "    <tr>\n",
              "      <th></th>\n",
              "      <th></th>\n",
              "      <th colspan=\"2\" halign=\"left\">survived</th>\n",
              "    </tr>\n",
              "    <tr>\n",
              "      <th></th>\n",
              "      <th></th>\n",
              "      <th>count</th>\n",
              "      <th>mean</th>\n",
              "    </tr>\n",
              "    <tr>\n",
              "      <th>pclass</th>\n",
              "      <th>gender</th>\n",
              "      <th></th>\n",
              "      <th></th>\n",
              "    </tr>\n",
              "  </thead>\n",
              "  <tbody>\n",
              "    <tr>\n",
              "      <th rowspan=\"2\" valign=\"top\">1</th>\n",
              "      <th>female</th>\n",
              "      <td>144</td>\n",
              "      <td>0.965278</td>\n",
              "    </tr>\n",
              "    <tr>\n",
              "      <th>male</th>\n",
              "      <td>172</td>\n",
              "      <td>0.348837</td>\n",
              "    </tr>\n",
              "    <tr>\n",
              "      <th rowspan=\"2\" valign=\"top\">2</th>\n",
              "      <th>female</th>\n",
              "      <td>106</td>\n",
              "      <td>0.886792</td>\n",
              "    </tr>\n",
              "    <tr>\n",
              "      <th>male</th>\n",
              "      <td>165</td>\n",
              "      <td>0.151515</td>\n",
              "    </tr>\n",
              "    <tr>\n",
              "      <th rowspan=\"2\" valign=\"top\">3</th>\n",
              "      <th>female</th>\n",
              "      <td>216</td>\n",
              "      <td>0.490741</td>\n",
              "    </tr>\n",
              "    <tr>\n",
              "      <th>male</th>\n",
              "      <td>489</td>\n",
              "      <td>0.151329</td>\n",
              "    </tr>\n",
              "  </tbody>\n",
              "</table>\n",
              "</div>"
            ],
            "text/plain": [
              "              survived          \n",
              "                 count      mean\n",
              "pclass gender                   \n",
              "1      female      144  0.965278\n",
              "       male        172  0.348837\n",
              "2      female      106  0.886792\n",
              "       male        165  0.151515\n",
              "3      female      216  0.490741\n",
              "       male        489  0.151329"
            ]
          },
          "execution_count": 65,
          "metadata": {},
          "output_type": "execute_result"
        }
      ],
      "source": [
        "gp=df.groupby(['pclass','gender'])\n",
        "gp.agg({'survived':['count','mean']})\n"
      ]
    },
    {
      "cell_type": "markdown",
      "metadata": {
        "id": "nG29gGtn17cr"
      },
      "source": [
        "# Get the age_seg wise no.of.psgns and survival rate"
      ]
    },
    {
      "cell_type": "code",
      "execution_count": 66,
      "metadata": {},
      "outputs": [
        {
          "name": "stderr",
          "output_type": "stream",
          "text": [
            "C:\\Users\\deepa\\AppData\\Local\\Temp\\ipykernel_23760\\1929276771.py:3: FutureWarning: The default of observed=False is deprecated and will be changed to True in a future version of pandas. Pass observed=False to retain current behavior or observed=True to adopt the future default and silence this warning.\n",
            "  gp=df.groupby([age_segment])\n"
          ]
        },
        {
          "data": {
            "text/html": [
              "<div>\n",
              "<style scoped>\n",
              "    .dataframe tbody tr th:only-of-type {\n",
              "        vertical-align: middle;\n",
              "    }\n",
              "\n",
              "    .dataframe tbody tr th {\n",
              "        vertical-align: top;\n",
              "    }\n",
              "\n",
              "    .dataframe thead tr th {\n",
              "        text-align: left;\n",
              "    }\n",
              "\n",
              "    .dataframe thead tr:last-of-type th {\n",
              "        text-align: right;\n",
              "    }\n",
              "</style>\n",
              "<table border=\"1\" class=\"dataframe\">\n",
              "  <thead>\n",
              "    <tr>\n",
              "      <th></th>\n",
              "      <th colspan=\"2\" halign=\"left\">survived</th>\n",
              "    </tr>\n",
              "    <tr>\n",
              "      <th></th>\n",
              "      <th>count</th>\n",
              "      <th>mean</th>\n",
              "    </tr>\n",
              "    <tr>\n",
              "      <th>age</th>\n",
              "      <th></th>\n",
              "      <th></th>\n",
              "    </tr>\n",
              "  </thead>\n",
              "  <tbody>\n",
              "    <tr>\n",
              "      <th>0-10</th>\n",
              "      <td>86</td>\n",
              "      <td>0.581395</td>\n",
              "    </tr>\n",
              "    <tr>\n",
              "      <th>10-20</th>\n",
              "      <td>161</td>\n",
              "      <td>0.397516</td>\n",
              "    </tr>\n",
              "    <tr>\n",
              "      <th>20-30</th>\n",
              "      <td>614</td>\n",
              "      <td>0.335505</td>\n",
              "    </tr>\n",
              "    <tr>\n",
              "      <th>30-40</th>\n",
              "      <td>206</td>\n",
              "      <td>0.432039</td>\n",
              "    </tr>\n",
              "    <tr>\n",
              "      <th>40-50</th>\n",
              "      <td>130</td>\n",
              "      <td>0.392308</td>\n",
              "    </tr>\n",
              "    <tr>\n",
              "      <th>50-60</th>\n",
              "      <td>62</td>\n",
              "      <td>0.483871</td>\n",
              "    </tr>\n",
              "    <tr>\n",
              "      <th>60-70</th>\n",
              "      <td>27</td>\n",
              "      <td>0.222222</td>\n",
              "    </tr>\n",
              "    <tr>\n",
              "      <th>70-80</th>\n",
              "      <td>6</td>\n",
              "      <td>0.333333</td>\n",
              "    </tr>\n",
              "  </tbody>\n",
              "</table>\n",
              "</div>"
            ],
            "text/plain": [
              "      survived          \n",
              "         count      mean\n",
              "age                     \n",
              "0-10        86  0.581395\n",
              "10-20      161  0.397516\n",
              "20-30      614  0.335505\n",
              "30-40      206  0.432039\n",
              "40-50      130  0.392308\n",
              "50-60       62  0.483871\n",
              "60-70       27  0.222222\n",
              "70-80        6  0.333333"
            ]
          },
          "execution_count": 66,
          "metadata": {},
          "output_type": "execute_result"
        }
      ],
      "source": [
        "age_segment= pd.cut(df['age'],bins=[0,10,20,30,40,50,60,70,80],labels=['0-10','10-20','20-30','30-40','40-50','50-60','60-70','70-80'])\n",
        "\n",
        "gp=df.groupby([age_segment])\n",
        "gp.agg({'survived':['count','mean']})\n",
        "\n"
      ]
    },
    {
      "cell_type": "markdown",
      "metadata": {
        "id": "iT_b0rMX2eUJ"
      },
      "source": [
        "# Get the age_seg which has high_survivale rate"
      ]
    },
    {
      "cell_type": "code",
      "execution_count": 67,
      "metadata": {},
      "outputs": [
        {
          "name": "stderr",
          "output_type": "stream",
          "text": [
            "C:\\Users\\deepa\\AppData\\Local\\Temp\\ipykernel_23760\\631513610.py:3: FutureWarning: The default of observed=False is deprecated and will be changed to True in a future version of pandas. Pass observed=False to retain current behavior or observed=True to adopt the future default and silence this warning.\n",
            "  gp=df.groupby([age_segment])\n"
          ]
        },
        {
          "data": {
            "text/plain": [
              "survived  mean    0-10\n",
              "dtype: category\n",
              "Categories (8, object): ['0-10' < '10-20' < '20-30' < '30-40' < '40-50' < '50-60' < '60-70' < '70-80']"
            ]
          },
          "execution_count": 67,
          "metadata": {},
          "output_type": "execute_result"
        }
      ],
      "source": [
        "age_segment= pd.cut(df['age'],bins=[0,10,20,30,40,50,60,70,80],labels=['0-10','10-20','20-30','30-40','40-50','50-60','60-70','70-80'])\n",
        "\n",
        "gp=df.groupby([age_segment])\n",
        "gp.agg({'survived':['mean']}).idxmax()\n"
      ]
    },
    {
      "cell_type": "markdown",
      "metadata": {
        "id": "OWh7IZ0W2wQa"
      },
      "source": [
        "# Get the gender and age_seg which has high survival rate"
      ]
    },
    {
      "cell_type": "code",
      "execution_count": 68,
      "metadata": {},
      "outputs": [
        {
          "name": "stderr",
          "output_type": "stream",
          "text": [
            "C:\\Users\\deepa\\AppData\\Local\\Temp\\ipykernel_23760\\3076212919.py:3: FutureWarning: The default of observed=False is deprecated and will be changed to True in a future version of pandas. Pass observed=False to retain current behavior or observed=True to adopt the future default and silence this warning.\n",
            "  gp=df.groupby(['gender',age_segment])\n"
          ]
        },
        {
          "data": {
            "text/plain": [
              "('female', '70-80')"
            ]
          },
          "execution_count": 68,
          "metadata": {},
          "output_type": "execute_result"
        }
      ],
      "source": [
        "age_segment= pd.cut(df['age'],bins=[0,10,20,30,40,50,60,70,80],labels=['0-10','10-20','20-30','30-40','40-50','50-60','60-70','70-80'])\n",
        "\n",
        "gp=df.groupby(['gender',age_segment])\n",
        "gp['survived'].mean().idxmax()\n"
      ]
    },
    {
      "cell_type": "markdown",
      "metadata": {
        "id": "VF62_Lzs3CeP"
      },
      "source": [
        "# Get the pclass,age_seg,gender in which survival rate is high"
      ]
    },
    {
      "cell_type": "code",
      "execution_count": 69,
      "metadata": {},
      "outputs": [
        {
          "name": "stderr",
          "output_type": "stream",
          "text": [
            "C:\\Users\\deepa\\AppData\\Local\\Temp\\ipykernel_23760\\2489124984.py:2: FutureWarning: The default of observed=False is deprecated and will be changed to True in a future version of pandas. Pass observed=False to retain current behavior or observed=True to adopt the future default and silence this warning.\n",
            "  gp=df.groupby(['pclass',age_segment,'gender'])\n"
          ]
        },
        {
          "data": {
            "text/plain": [
              "(np.int64(1), '0-10', 'male')"
            ]
          },
          "execution_count": 69,
          "metadata": {},
          "output_type": "execute_result"
        }
      ],
      "source": [
        "age_segment= pd.cut(df['age'],bins=[0,10,20,30,40,50,60,70,80],labels=['0-10','10-20','20-30','30-40','40-50','50-60','60-70','70-80'])\n",
        "gp=df.groupby(['pclass',age_segment,'gender'])\n",
        "gp['survived'].mean().idxmax()"
      ]
    },
    {
      "cell_type": "markdown",
      "metadata": {
        "id": "ESTHQ2dG3SgS"
      },
      "source": [
        "# Get the solo travelers full name"
      ]
    },
    {
      "cell_type": "code",
      "execution_count": 70,
      "metadata": {},
      "outputs": [
        {
          "data": {
            "text/plain": [
              "0        Elisabeth Walton\n",
              "5                   Harry\n",
              "8                   Ramon\n",
              "11       Leontine Pauline\n",
              "12         Ellen \"Nellie\"\n",
              "              ...        \n",
              "1285                Wazli\n",
              "1286              Gerious\n",
              "1289          Mapriededer\n",
              "1290                Ortin\n",
              "1291                  Leo\n",
              "Name: fname, Length: 773, dtype: object"
            ]
          },
          "execution_count": 70,
          "metadata": {},
          "output_type": "execute_result"
        }
      ],
      "source": [
        "so=df[df['family_count']==0]\n",
        "so['fname']\n"
      ]
    },
    {
      "cell_type": "markdown",
      "metadata": {
        "id": "e-YoJ8vo4MfN"
      },
      "source": [
        "# solo travelers survival rate v/s psngs  with family survival rate"
      ]
    },
    {
      "cell_type": "code",
      "execution_count": 71,
      "metadata": {},
      "outputs": [
        {
          "name": "stdout",
          "output_type": "stream",
          "text": [
            "0.598297213622291\n",
            "0.40170278637770895\n"
          ]
        },
        {
          "data": {
            "text/html": [
              "<div>\n",
              "<style scoped>\n",
              "    .dataframe tbody tr th:only-of-type {\n",
              "        vertical-align: middle;\n",
              "    }\n",
              "\n",
              "    .dataframe tbody tr th {\n",
              "        vertical-align: top;\n",
              "    }\n",
              "\n",
              "    .dataframe thead th {\n",
              "        text-align: right;\n",
              "    }\n",
              "</style>\n",
              "<table border=\"1\" class=\"dataframe\">\n",
              "  <thead>\n",
              "    <tr style=\"text-align: right;\">\n",
              "      <th></th>\n",
              "      <th>courtesy_title</th>\n",
              "      <th>fname</th>\n",
              "      <th>lname</th>\n",
              "      <th>gender</th>\n",
              "      <th>age</th>\n",
              "      <th>age_category</th>\n",
              "      <th>ticket</th>\n",
              "      <th>pclass</th>\n",
              "      <th>embarked</th>\n",
              "      <th>family_count</th>\n",
              "      <th>fare</th>\n",
              "      <th>survived</th>\n",
              "    </tr>\n",
              "  </thead>\n",
              "  <tbody>\n",
              "    <tr>\n",
              "      <th>0</th>\n",
              "      <td>Miss</td>\n",
              "      <td>Elisabeth Walton</td>\n",
              "      <td>Allen</td>\n",
              "      <td>female</td>\n",
              "      <td>29.000000</td>\n",
              "      <td>adult</td>\n",
              "      <td>24160</td>\n",
              "      <td>1</td>\n",
              "      <td>Southampton</td>\n",
              "      <td>0</td>\n",
              "      <td>211</td>\n",
              "      <td>1</td>\n",
              "    </tr>\n",
              "    <tr>\n",
              "      <th>1</th>\n",
              "      <td>Master</td>\n",
              "      <td>Hudson Trevor</td>\n",
              "      <td>Allison</td>\n",
              "      <td>male</td>\n",
              "      <td>0.916700</td>\n",
              "      <td>baby</td>\n",
              "      <td>113781</td>\n",
              "      <td>1</td>\n",
              "      <td>Southampton</td>\n",
              "      <td>3</td>\n",
              "      <td>151</td>\n",
              "      <td>1</td>\n",
              "    </tr>\n",
              "    <tr>\n",
              "      <th>2</th>\n",
              "      <td>Miss</td>\n",
              "      <td>Helen Loraine</td>\n",
              "      <td>Allison</td>\n",
              "      <td>female</td>\n",
              "      <td>2.000000</td>\n",
              "      <td>baby</td>\n",
              "      <td>113781</td>\n",
              "      <td>1</td>\n",
              "      <td>Southampton</td>\n",
              "      <td>3</td>\n",
              "      <td>151</td>\n",
              "      <td>0</td>\n",
              "    </tr>\n",
              "    <tr>\n",
              "      <th>3</th>\n",
              "      <td>Mr</td>\n",
              "      <td>Hudson Joshua Creighton</td>\n",
              "      <td>Allison</td>\n",
              "      <td>male</td>\n",
              "      <td>30.000000</td>\n",
              "      <td>adult</td>\n",
              "      <td>113781</td>\n",
              "      <td>1</td>\n",
              "      <td>Southampton</td>\n",
              "      <td>3</td>\n",
              "      <td>151</td>\n",
              "      <td>0</td>\n",
              "    </tr>\n",
              "    <tr>\n",
              "      <th>4</th>\n",
              "      <td>Mrs</td>\n",
              "      <td>Hudson J C (Bessie Waldo Daniels)</td>\n",
              "      <td>Allison</td>\n",
              "      <td>female</td>\n",
              "      <td>25.000000</td>\n",
              "      <td>teen</td>\n",
              "      <td>113781</td>\n",
              "      <td>1</td>\n",
              "      <td>Southampton</td>\n",
              "      <td>3</td>\n",
              "      <td>151</td>\n",
              "      <td>0</td>\n",
              "    </tr>\n",
              "    <tr>\n",
              "      <th>...</th>\n",
              "      <td>...</td>\n",
              "      <td>...</td>\n",
              "      <td>...</td>\n",
              "      <td>...</td>\n",
              "      <td>...</td>\n",
              "      <td>...</td>\n",
              "      <td>...</td>\n",
              "      <td>...</td>\n",
              "      <td>...</td>\n",
              "      <td>...</td>\n",
              "      <td>...</td>\n",
              "      <td>...</td>\n",
              "    </tr>\n",
              "    <tr>\n",
              "      <th>1287</th>\n",
              "      <td>Miss</td>\n",
              "      <td>Hileni</td>\n",
              "      <td>Zabour</td>\n",
              "      <td>female</td>\n",
              "      <td>14.500000</td>\n",
              "      <td>child</td>\n",
              "      <td>2665</td>\n",
              "      <td>3</td>\n",
              "      <td>Cherbourg</td>\n",
              "      <td>1</td>\n",
              "      <td>14</td>\n",
              "      <td>0</td>\n",
              "    </tr>\n",
              "    <tr>\n",
              "      <th>1288</th>\n",
              "      <td>Miss</td>\n",
              "      <td>Thamine</td>\n",
              "      <td>Zabour</td>\n",
              "      <td>female</td>\n",
              "      <td>29.881135</td>\n",
              "      <td>adult</td>\n",
              "      <td>2665</td>\n",
              "      <td>3</td>\n",
              "      <td>Cherbourg</td>\n",
              "      <td>1</td>\n",
              "      <td>14</td>\n",
              "      <td>0</td>\n",
              "    </tr>\n",
              "    <tr>\n",
              "      <th>1289</th>\n",
              "      <td>Mr</td>\n",
              "      <td>Mapriededer</td>\n",
              "      <td>Zakarian</td>\n",
              "      <td>male</td>\n",
              "      <td>26.500000</td>\n",
              "      <td>adult</td>\n",
              "      <td>2656</td>\n",
              "      <td>3</td>\n",
              "      <td>Cherbourg</td>\n",
              "      <td>0</td>\n",
              "      <td>7</td>\n",
              "      <td>0</td>\n",
              "    </tr>\n",
              "    <tr>\n",
              "      <th>1290</th>\n",
              "      <td>Mr</td>\n",
              "      <td>Ortin</td>\n",
              "      <td>Zakarian</td>\n",
              "      <td>male</td>\n",
              "      <td>27.000000</td>\n",
              "      <td>adult</td>\n",
              "      <td>2670</td>\n",
              "      <td>3</td>\n",
              "      <td>Cherbourg</td>\n",
              "      <td>0</td>\n",
              "      <td>7</td>\n",
              "      <td>0</td>\n",
              "    </tr>\n",
              "    <tr>\n",
              "      <th>1291</th>\n",
              "      <td>Mr</td>\n",
              "      <td>Leo</td>\n",
              "      <td>Zimmerman</td>\n",
              "      <td>male</td>\n",
              "      <td>29.000000</td>\n",
              "      <td>adult</td>\n",
              "      <td>315082</td>\n",
              "      <td>3</td>\n",
              "      <td>Southampton</td>\n",
              "      <td>0</td>\n",
              "      <td>7</td>\n",
              "      <td>0</td>\n",
              "    </tr>\n",
              "  </tbody>\n",
              "</table>\n",
              "<p>1292 rows × 12 columns</p>\n",
              "</div>"
            ],
            "text/plain": [
              "     courtesy_title                               fname      lname  gender  \\\n",
              "0              Miss                    Elisabeth Walton      Allen  female   \n",
              "1            Master                       Hudson Trevor    Allison    male   \n",
              "2              Miss                       Helen Loraine    Allison  female   \n",
              "3                Mr             Hudson Joshua Creighton    Allison    male   \n",
              "4               Mrs   Hudson J C (Bessie Waldo Daniels)    Allison  female   \n",
              "...             ...                                 ...        ...     ...   \n",
              "1287           Miss                              Hileni     Zabour  female   \n",
              "1288           Miss                             Thamine     Zabour  female   \n",
              "1289             Mr                         Mapriededer   Zakarian    male   \n",
              "1290             Mr                               Ortin   Zakarian    male   \n",
              "1291             Mr                                 Leo  Zimmerman    male   \n",
              "\n",
              "            age age_category  ticket  pclass     embarked  family_count  fare  \\\n",
              "0     29.000000        adult   24160       1  Southampton             0   211   \n",
              "1      0.916700         baby  113781       1  Southampton             3   151   \n",
              "2      2.000000         baby  113781       1  Southampton             3   151   \n",
              "3     30.000000        adult  113781       1  Southampton             3   151   \n",
              "4     25.000000         teen  113781       1  Southampton             3   151   \n",
              "...         ...          ...     ...     ...          ...           ...   ...   \n",
              "1287  14.500000        child    2665       3    Cherbourg             1    14   \n",
              "1288  29.881135        adult    2665       3    Cherbourg             1    14   \n",
              "1289  26.500000        adult    2656       3    Cherbourg             0     7   \n",
              "1290  27.000000        adult    2670       3    Cherbourg             0     7   \n",
              "1291  29.000000        adult  315082       3  Southampton             0     7   \n",
              "\n",
              "      survived  \n",
              "0            1  \n",
              "1            1  \n",
              "2            0  \n",
              "3            0  \n",
              "4            0  \n",
              "...        ...  \n",
              "1287         0  \n",
              "1288         0  \n",
              "1289         0  \n",
              "1290         0  \n",
              "1291         0  \n",
              "\n",
              "[1292 rows x 12 columns]"
            ]
          },
          "execution_count": 71,
          "metadata": {},
          "output_type": "execute_result"
        }
      ],
      "source": [
        "total=df['ticket'].count()\n",
        "\n",
        "so=df[df['family_count']==0]\n",
        "\n",
        "a=so['survived']==1\n",
        "print(a.count()/total)\n",
        "\n",
        "so=df[df['family_count']>0]\n",
        "b=so['survived']==1\n",
        "print(b.count()/total)\n",
        "\n",
        "df"
      ]
    },
    {
      "cell_type": "markdown",
      "metadata": {
        "id": "FJX1c0bG4vbc"
      },
      "source": [
        "# Find the gender and pclass wise survival rate of solo travelers"
      ]
    },
    {
      "cell_type": "code",
      "execution_count": 72,
      "metadata": {},
      "outputs": [
        {
          "data": {
            "text/plain": [
              "gender  pclass\n",
              "female  1         0.965278\n",
              "        2         0.886792\n",
              "        3         0.490741\n",
              "male    1         0.348837\n",
              "        2         0.151515\n",
              "        3         0.151329\n",
              "Name: survived, dtype: float64"
            ]
          },
          "execution_count": 72,
          "metadata": {},
          "output_type": "execute_result"
        }
      ],
      "source": [
        "\n",
        "solo_travellers=df['family_count']==1\n",
        "\n",
        "gp=df.groupby(['gender','pclass'])\n",
        "gp['survived'].mean()"
      ]
    },
    {
      "cell_type": "markdown",
      "metadata": {
        "id": "-5R4qkml6uDM"
      },
      "source": []
    },
    {
      "cell_type": "markdown",
      "metadata": {},
      "source": []
    },
    {
      "cell_type": "markdown",
      "metadata": {},
      "source": [
        "# ------------------------------------"
      ]
    },
    {
      "cell_type": "markdown",
      "metadata": {},
      "source": [
        "# 1. Plot the total count of male and female passengers."
      ]
    },
    {
      "cell_type": "code",
      "execution_count": 73,
      "metadata": {},
      "outputs": [
        {
          "data": {
            "text/plain": [
              "[Text(0, 0, '466'), Text(0, 0, '826')]"
            ]
          },
          "execution_count": 73,
          "metadata": {},
          "output_type": "execute_result"
        },
        {
          "data": {
            "image/png": "[encoded data removed]",
            "text/plain": [
              "<Figure size 640x480 with 1 Axes>"
            ]
          },
          "metadata": {},
          "output_type": "display_data"
        }
      ],
      "source": [
        "a= sns.countplot(data=df,x='gender')\n",
        "\n",
        "a.bar_label(a.containers[0])                                                             "
      ]
    },
    {
      "cell_type": "markdown",
      "metadata": {},
      "source": [
        "# 2. Plot the total count of male and female passengers in each passenger class."
      ]
    },
    {
      "cell_type": "code",
      "execution_count": 74,
      "metadata": {},
      "outputs": [
        {
          "data": {
            "image/png": "[encoded data removed]",
            "text/plain": [
              "<Figure size 640x480 with 1 Axes>"
            ]
          },
          "metadata": {},
          "output_type": "display_data"
        }
      ],
      "source": [
        "a = sns.countplot(data=df,x='gender')\n",
        "\n",
        "a.bar_label(a.containers[0])\n",
        "\n",
        "for c in a.containers:\n",
        "    a.bar_label(c)\n"
      ]
    },
    {
      "cell_type": "markdown",
      "metadata": {},
      "source": [
        "# observation\n",
        "male and female "
      ]
    },
    {
      "cell_type": "markdown",
      "metadata": {},
      "source": [
        "# 3. Plot the count of survived and non-survived passengers."
      ]
    },
    {
      "cell_type": "code",
      "execution_count": 75,
      "metadata": {},
      "outputs": [
        {
          "data": {
            "text/plain": [
              "([<matplotlib.axis.XTick at 0x212be2e5590>,\n",
              "  <matplotlib.axis.XTick at 0x212be2e7d90>],\n",
              " [Text(0, 0, 'non survived'), Text(1, 0, 'survived')])"
            ]
          },
          "execution_count": 75,
          "metadata": {},
          "output_type": "execute_result"
        },
        {
          "data": {
            "image/png": "[encoded data removed]",
            "text/plain": [
              "<Figure size 600x300 with 1 Axes>"
            ]
          },
          "metadata": {},
          "output_type": "display_data"
        }
      ],
      "source": [
        "plt.figure(figsize=(6,3))\n",
        "\n",
        "a=sns.countplot(data=df,x='survived')\n",
        "\n",
        "a.bar_label(a.containers[0])\n",
        "\n",
        "plt.xticks([0,1],labels=['non survived','survived'])  "
      ]
    },
    {
      "cell_type": "markdown",
      "metadata": {},
      "source": [
        "# 4. Plot the gender-wise count of survived and non-survived passengers."
      ]
    },
    {
      "cell_type": "code",
      "execution_count": 76,
      "metadata": {},
      "outputs": [
        {
          "data": {
            "image/png": "[encoded data removed]",
            "text/plain": [
              "<Figure size 600x300 with 1 Axes>"
            ]
          },
          "metadata": {},
          "output_type": "display_data"
        }
      ],
      "source": [
        "plt.figure(figsize=(6,3))\n",
        "\n",
        "a=sns.countplot(data=df,x='survived',hue='gender')\n",
        "\n",
        "a.bar_label(a.containers[0])\n",
        "\n",
        "plt.xticks([0,1],labels=['non survived','survived'])\n",
        "\n",
        "for c in a.containers:\n",
        "    a.bar_label(c)"
      ]
    },
    {
      "cell_type": "markdown",
      "metadata": {},
      "source": [
        "# observation\n",
        "\n"
      ]
    },
    {
      "cell_type": "markdown",
      "metadata": {},
      "source": [
        "# 5. Plot the count of passengers in each age category."
      ]
    },
    {
      "cell_type": "code",
      "execution_count": 77,
      "metadata": {},
      "outputs": [
        {
          "data": {
            "text/plain": [
              "[Text(0, 0, '34'),\n",
              " Text(0, 0, '100'),\n",
              " Text(0, 0, '307'),\n",
              " Text(0, 0, '741'),\n",
              " Text(0, 0, '110')]"
            ]
          },
          "execution_count": 77,
          "metadata": {},
          "output_type": "execute_result"
        },
        {
          "data": {
            "image/png": "[encoded data removed]",
            "text/plain": [
              "<Figure size 600x300 with 1 Axes>"
            ]
          },
          "metadata": {},
          "output_type": "display_data"
        }
      ],
      "source": [
        "plt.figure(figsize=(6,3))\n",
        "\n",
        "a=sns.countplot(data=df,x='age_category')\n",
        "\n",
        "a.bar_label(a.containers[0])\n"
      ]
    },
    {
      "cell_type": "markdown",
      "metadata": {},
      "source": []
    },
    {
      "cell_type": "markdown",
      "metadata": {},
      "source": [
        "# 6. Plot the count of survived and non-survived passengers in each age category."
      ]
    },
    {
      "cell_type": "code",
      "execution_count": 78,
      "metadata": {},
      "outputs": [
        {
          "data": {
            "image/png": "[encoded data removed]",
            "text/plain": [
              "<Figure size 600x300 with 1 Axes>"
            ]
          },
          "metadata": {},
          "output_type": "display_data"
        }
      ],
      "source": [
        "plt.figure(figsize=(6,3))\n",
        "\n",
        "a=sns.countplot(data=df,x='survived',hue='age_category')\n",
        "\n",
        "a.bar_label(a.containers[0])\n",
        "\n",
        "plt.xticks([0,1],labels=['non survived','survived'])\n",
        "\n",
        "for c in a.containers:\n",
        "    a.bar_label(c)"
      ]
    },
    {
      "cell_type": "markdown",
      "metadata": {},
      "source": []
    },
    {
      "cell_type": "markdown",
      "metadata": {},
      "source": [
        "# adults are more in which pclass\n",
        "# adults are more in which gender"
      ]
    },
    {
      "cell_type": "code",
      "execution_count": 79,
      "metadata": {},
      "outputs": [
        {
          "data": {
            "text/plain": [
              "<Axes: xlabel='pclass', ylabel='count'>"
            ]
          },
          "execution_count": 79,
          "metadata": {},
          "output_type": "execute_result"
        },
        {
          "data": {
            "image/png": "[encoded data removed]",
            "text/plain": [
              "<Figure size 640x480 with 1 Axes>"
            ]
          },
          "metadata": {},
          "output_type": "display_data"
        }
      ],
      "source": [
        "\n",
        "n=df[(df[\"age_category\"]=='adult')]\n",
        "\n",
        "sns.countplot(data=n,x='pclass')"
      ]
    },
    {
      "cell_type": "markdown",
      "metadata": {},
      "source": []
    },
    {
      "cell_type": "markdown",
      "metadata": {},
      "source": [
        "# 7. Plot the number of passengers who boarded at each port."
      ]
    },
    {
      "cell_type": "code",
      "execution_count": null,
      "metadata": {},
      "outputs": [],
      "source": []
    },
    {
      "cell_type": "markdown",
      "metadata": {},
      "source": []
    },
    {
      "cell_type": "markdown",
      "metadata": {},
      "source": [
        "# 8. Plot the total fare collected for each passenger class."
      ]
    },
    {
      "cell_type": "code",
      "execution_count": 80,
      "metadata": {},
      "outputs": [
        {
          "data": {
            "text/plain": [
              "[Text(0, 0, '28129'), Text(0, 0, '5806'), Text(0, 0, '9091')]"
            ]
          },
          "execution_count": 80,
          "metadata": {},
          "output_type": "execute_result"
        },
        {
          "data": {
            "image/png": "[encoded data removed]",
            "text/plain": [
              "<Figure size 640x480 with 1 Axes>"
            ]
          },
          "metadata": {},
          "output_type": "display_data"
        }
      ],
      "source": [
        "a= sns.barplot(data=df,x='pclass',y='fare',estimator='sum')\n",
        "\n",
        "a.bar_label(a.containers[0])"
      ]
    },
    {
      "cell_type": "markdown",
      "metadata": {},
      "source": [
        "# 9. Plot the total fare collected for each gender."
      ]
    },
    {
      "cell_type": "code",
      "execution_count": 81,
      "metadata": {},
      "outputs": [
        {
          "data": {
            "text/plain": [
              "[Text(0, 0, '21328'), Text(0, 0, '21698')]"
            ]
          },
          "execution_count": 81,
          "metadata": {},
          "output_type": "execute_result"
        },
        {
          "data": {
            "image/png": "[encoded data removed]",
            "text/plain": [
              "<Figure size 640x480 with 1 Axes>"
            ]
          },
          "metadata": {},
          "output_type": "display_data"
        }
      ],
      "source": [
        "a= sns.barplot(data=df,x='gender',y='fare',estimator='sum')\n",
        "\n",
        "a.bar_label(a.containers[0])"
      ]
    },
    {
      "cell_type": "markdown",
      "metadata": {},
      "source": []
    },
    {
      "cell_type": "markdown",
      "metadata": {},
      "source": [
        "# 10. Plot the average fare for each passenger class."
      ]
    },
    {
      "cell_type": "code",
      "execution_count": 82,
      "metadata": {},
      "outputs": [
        {
          "data": {
            "text/plain": [
              "[Text(0, 0, '89.0158'), Text(0, 0, '21.4244'), Text(0, 0, '12.895')]"
            ]
          },
          "execution_count": 82,
          "metadata": {},
          "output_type": "execute_result"
        },
        {
          "data": {
            "image/png": "[encoded data removed]",
            "text/plain": [
              "<Figure size 640x480 with 1 Axes>"
            ]
          },
          "metadata": {},
          "output_type": "display_data"
        }
      ],
      "source": [
        "a= sns.barplot(data=df,x=\"pclass\",y=\"fare\",estimator=\"mean\")\n",
        "\n",
        "a.bar_label(a.containers[0])"
      ]
    },
    {
      "cell_type": "markdown",
      "metadata": {},
      "source": [
        "# 11. Plot the percentage of passengers in each age category."
      ]
    },
    {
      "cell_type": "code",
      "execution_count": 83,
      "metadata": {},
      "outputs": [
        {
          "data": {
            "image/png": "[encoded data removed]",
            "text/plain": [
              "<Figure size 800x500 with 1 Axes>"
            ]
          },
          "metadata": {},
          "output_type": "display_data"
        }
      ],
      "source": [
        "\n",
        "# Calculate percentage of passengers in each category\n",
        "age_distribution = df['age_category'].value_counts(normalize=True) * 100\n",
        "\n",
        "# Plot the results\n",
        "plt.figure(figsize=(8, 5))\n",
        "age_distribution.sort_values().plot(kind='barh', color='skyblue', edgecolor='black')\n",
        "\n",
        "# Formatting\n",
        "plt.xlabel(\"Percentage of Passengers\")\n",
        "plt.ylabel(\"Age Category\")\n",
        "plt.title(\"Percentage of Passengers in Each Age Category\")\n",
        "plt.grid(axis='x', linestyle='--', alpha=0.7)\n",
        "\n",
        "# Show plot\n",
        "plt.show()\n"
      ]
    },
    {
      "cell_type": "markdown",
      "metadata": {},
      "source": [
        "# 12. Plot the relationship between fare and passenger class.\n"
      ]
    },
    {
      "cell_type": "code",
      "execution_count": 84,
      "metadata": {},
      "outputs": [
        {
          "data": {
            "image/png": "[encoded data removed]",
            "text/plain": [
              "<Figure size 800x600 with 1 Axes>"
            ]
          },
          "metadata": {},
          "output_type": "display_data"
        }
      ],
      "source": [
        "plt.figure(figsize=(8, 6))\n",
        "a=sns.scatterplot(x='pclass', y='fare', data=df)\n",
        "plt.title('Relationship Between Fare and Passenger Class')\n",
        "plt.xlabel('Passenger Class')\n",
        "plt.ylabel('Fare')\n",
        "plt.grid()"
      ]
    },
    {
      "cell_type": "markdown",
      "metadata": {},
      "source": [
        "# conclusion\n",
        "we can see from the above graph, when the pclass increases then the fare amount is getting decresed"
      ]
    },
    {
      "cell_type": "markdown",
      "metadata": {},
      "source": [
        "# 13. Plot the distribution of fares."
      ]
    },
    {
      "cell_type": "code",
      "execution_count": 85,
      "metadata": {},
      "outputs": [
        {
          "data": {
            "image/png": "[encoded data removed]",
            "text/plain": [
              "<Figure size 800x600 with 1 Axes>"
            ]
          },
          "metadata": {},
          "output_type": "display_data"
        }
      ],
      "source": [
        "plt.figure(figsize=(8,6))\n",
        "sns.kdeplot(data=df,x=\"fare\")\n",
        "plt.xticks(np.arange(0,551,15))\n",
        "plt.grid()"
      ]
    },
    {
      "cell_type": "markdown",
      "metadata": {},
      "source": []
    },
    {
      "cell_type": "code",
      "execution_count": 86,
      "metadata": {},
      "outputs": [
        {
          "name": "stderr",
          "output_type": "stream",
          "text": [
            "C:\\Users\\deepa\\AppData\\Local\\Temp\\ipykernel_23760\\2453287010.py:2: FutureWarning: \n",
            "\n",
            "`shade` is now deprecated in favor of `fill`; setting `fill=True`.\n",
            "This will become an error in seaborn v0.14.0; please update your code.\n",
            "\n",
            "  sns.kdeplot(data=df,x=\"fare\",hue='gender',shade=True)\n"
          ]
        },
        {
          "data": {
            "text/plain": [
              "<Axes: xlabel='fare', ylabel='Density'>"
            ]
          },
          "execution_count": 86,
          "metadata": {},
          "output_type": "execute_result"
        },
        {
          "data": {
            "image/png": "[encoded data removed]",
            "text/plain": [
              "<Figure size 800x600 with 1 Axes>"
            ]
          },
          "metadata": {},
          "output_type": "display_data"
        }
      ],
      "source": [
        "plt.figure(figsize=(8,6))\n",
        "sns.kdeplot(data=df,x=\"fare\",hue='gender',shade=True)\n"
      ]
    },
    {
      "cell_type": "markdown",
      "metadata": {},
      "source": [
        "# conclusion \n",
        "male passangers has the density around 0.5 and female passangers has the density around 1.55"
      ]
    },
    {
      "cell_type": "markdown",
      "metadata": {},
      "source": [
        "# 14. Plot the distribution of ages."
      ]
    },
    {
      "cell_type": "code",
      "execution_count": 87,
      "metadata": {},
      "outputs": [
        {
          "data": {
            "image/png": "[encoded data removed]",
            "text/plain": [
              "<Figure size 800x400 with 1 Axes>"
            ]
          },
          "metadata": {},
          "output_type": "display_data"
        }
      ],
      "source": [
        "\n",
        "plt.figure(figsize=(8,4))\n",
        "sns.kdeplot(data=df,x=\"age\",bw_adjust=0.5)\n",
        "plt.xticks(np.arange(0,100,5))\n",
        "plt.grid()"
      ]
    },
    {
      "cell_type": "markdown",
      "metadata": {},
      "source": [
        "# observation\n",
        "\n",
        "overall age between the age 25 to 35 the density is around 0.8"
      ]
    },
    {
      "cell_type": "code",
      "execution_count": 88,
      "metadata": {},
      "outputs": [
        {
          "data": {
            "image/png": "[encoded data removed]",
            "text/plain": [
              "<Figure size 640x480 with 1 Axes>"
            ]
          },
          "metadata": {},
          "output_type": "display_data"
        }
      ],
      "source": [
        "sns.kdeplot(data=df,x=\"age\",hue='gender')\n",
        "plt.xticks(np.arange(0,100,10))\n",
        "plt.grid()"
      ]
    },
    {
      "cell_type": "markdown",
      "metadata": {},
      "source": [
        "# observation\n",
        "\n"
      ]
    },
    {
      "cell_type": "markdown",
      "metadata": {},
      "source": [
        "# 15. Plot the survival rate in each passenger class."
      ]
    },
    {
      "cell_type": "code",
      "execution_count": 89,
      "metadata": {},
      "outputs": [
        {
          "data": {
            "text/plain": [
              "[Text(0, 22, '62.97%'), Text(0, 22, '43.91%'), Text(0, 22, '25.53%')]"
            ]
          },
          "execution_count": 89,
          "metadata": {},
          "output_type": "execute_result"
        },
        {
          "data": {
            "image/png": "[encoded data removed]",
            "text/plain": [
              "<Figure size 640x480 with 1 Axes>"
            ]
          },
          "metadata": {},
          "output_type": "display_data"
        }
      ],
      "source": [
        "a= sns.barplot(data=df,x=\"pclass\",y=\"survived\",estimator=lambda z:(sum(z)/len(z) *100))   #to shift the . to right side((sum(z)/len(z) *100))\n",
        "                                                                                             \n",
        "a.bar_label(a.containers[0],fmt='%.2f%%',padding=22)"
      ]
    },
    {
      "cell_type": "markdown",
      "metadata": {},
      "source": [
        "The higher the class, the better the survival chances because of better access to lifeboats.\n",
        "\n",
        "Third-class passengers had the hardest time escaping , so they have less survival rate \n"
      ]
    },
    {
      "cell_type": "code",
      "execution_count": 90,
      "metadata": {},
      "outputs": [
        {
          "data": {
            "image/png": "[encoded data removed]",
            "text/plain": [
              "<Figure size 600x400 with 1 Axes>"
            ]
          },
          "metadata": {},
          "output_type": "display_data"
        }
      ],
      "source": [
        "plt.figure(figsize=(6,4))\n",
        "a= sns.barplot(data=df,x=\"pclass\",\n",
        "               y=\"survived\",\n",
        "               hue=\"gender\",\n",
        "               estimator=lambda z:(sum(z)/len(z) *100))   #to shift the . to right side((sum(z)/len(z) *100))\n",
        "                                                                                             \n",
        "\n",
        "\n",
        "for c in  a.containers:\n",
        "    a.bar_label(c,fmt='%.2f%%',padding=22)\n"
      ]
    },
    {
      "cell_type": "markdown",
      "metadata": {},
      "source": [
        "# why female passangers are having high survival chances than male passangers."
      ]
    },
    {
      "cell_type": "markdown",
      "metadata": {},
      "source": [
        "Female survival rate: ~74%\n",
        "Male survival rate: ~18%\n",
        "\n",
        "Women had higher survival chances because of the \"Women and Children First\" rule, lifeboat priority, and social norms of the time. Men had lower survival rates because they were expected to sacrifice themselves and had fewer chances to board lifeboats"
      ]
    },
    {
      "cell_type": "code",
      "execution_count": null,
      "metadata": {},
      "outputs": [],
      "source": []
    },
    {
      "cell_type": "markdown",
      "metadata": {},
      "source": [
        "# 16. Plot the survival rate in each age category."
      ]
    },
    {
      "cell_type": "code",
      "execution_count": 91,
      "metadata": {},
      "outputs": [
        {
          "data": {
            "text/plain": [
              "[Text(0, 0, '61.76%'),\n",
              " Text(0, 0, '53.00%'),\n",
              " Text(0, 0, '36.81%'),\n",
              " Text(0, 0, '36.03%'),\n",
              " Text(0, 0, '40.00%')]"
            ]
          },
          "execution_count": 91,
          "metadata": {},
          "output_type": "execute_result"
        },
        {
          "data": {
            "image/png": "[encoded data removed]",
            "text/plain": [
              "<Figure size 640x480 with 1 Axes>"
            ]
          },
          "metadata": {},
          "output_type": "display_data"
        }
      ],
      "source": [
        "a=sns.barplot(data=df,x=\"age_category\",y=\"survived\",estimator=lambda z:(sum(z)/len(z) *100))\n",
        "\n",
        "a.bar_label(a.containers[0],fmt=\"%.2f%%\")"
      ]
    },
    {
      "cell_type": "markdown",
      "metadata": {},
      "source": [
        "# 17. Plot the variation in fare and age."
      ]
    },
    {
      "cell_type": "code",
      "execution_count": 92,
      "metadata": {},
      "outputs": [
        {
          "data": {
            "text/plain": [
              "<Axes: xlabel='fare', ylabel='age'>"
            ]
          },
          "execution_count": 92,
          "metadata": {},
          "output_type": "execute_result"
        },
        {
          "data": {
            "image/png": "[encoded data removed]",
            "text/plain": [
              "<Figure size 1000x400 with 1 Axes>"
            ]
          },
          "metadata": {},
          "output_type": "display_data"
        }
      ],
      "source": [
        "plt.figure(figsize=(10,4))\n",
        "sns.lineplot(data=df,x=\"fare\",y=\"age\")"
      ]
    },
    {
      "cell_type": "markdown",
      "metadata": {},
      "source": [
        "Fare increases with class (first-class tickets cost more).\n",
        "\n",
        "Young children generally paid lower fares (mostly in third class).\n",
        "\n",
        "Older, wealthy passengers paid the highest fares (mostly first class)."
      ]
    },
    {
      "cell_type": "markdown",
      "metadata": {},
      "source": [
        "# 18.  Did fare affect survival.\n"
      ]
    },
    {
      "cell_type": "code",
      "execution_count": 93,
      "metadata": {},
      "outputs": [
        {
          "data": {
            "text/plain": [
              "[Text(0, 0, '23.369'), Text(0, 0, '49.1386')]"
            ]
          },
          "execution_count": 93,
          "metadata": {},
          "output_type": "execute_result"
        },
        {
          "data": {
            "image/png": "[encoded data removed]",
            "text/plain": [
              "<Figure size 640x480 with 1 Axes>"
            ]
          },
          "metadata": {},
          "output_type": "display_data"
        }
      ],
      "source": [
        "a=sns.barplot(data=df,x='survived',y='fare')\n",
        "\n",
        "a.bar_label(a.containers[0])\n"
      ]
    },
    {
      "cell_type": "markdown",
      "metadata": {},
      "source": [
        "# yes because  fare affected survival because higher fare meant a first-class ticket, which gave better chances of getting on a lifeboat"
      ]
    },
    {
      "cell_type": "markdown",
      "metadata": {},
      "source": []
    },
    {
      "cell_type": "markdown",
      "metadata": {},
      "source": [
        "# 19.  Is there any role of age in survival."
      ]
    },
    {
      "cell_type": "code",
      "execution_count": 94,
      "metadata": {},
      "outputs": [
        {
          "name": "stdout",
          "output_type": "stream",
          "text": [
            "\n"
          ]
        },
        {
          "data": {
            "text/plain": [
              "[Text(0, 0, '0.617647'),\n",
              " Text(0, 0, '0.53'),\n",
              " Text(0, 0, '0.368078'),\n",
              " Text(0, 0, '0.360324'),\n",
              " Text(0, 0, '0.4')]"
            ]
          },
          "execution_count": 94,
          "metadata": {},
          "output_type": "execute_result"
        },
        {
          "data": {
            "image/png": "[encoded data removed]",
            "text/plain": [
              "<Figure size 640x480 with 1 Axes>"
            ]
          },
          "metadata": {},
          "output_type": "display_data"
        }
      ],
      "source": [
        "a=sns.barplot(data=df,x='survived',y='age_category')\n",
        "\n",
        "print()\n",
        "\n",
        "a.bar_label(a.containers[0])"
      ]
    },
    {
      "cell_type": "markdown",
      "metadata": {},
      "source": [
        "# Yes, age played a big role in survival. Children had the best chances, while older passengers and young men had lower survival rates."
      ]
    },
    {
      "cell_type": "markdown",
      "metadata": {},
      "source": [
        "# 20.  Why did females have more survival chances than males? Which factor influenced this."
      ]
    },
    {
      "cell_type": "code",
      "execution_count": null,
      "metadata": {},
      "outputs": [],
      "source": []
    },
    {
      "cell_type": "markdown",
      "metadata": {},
      "source": []
    },
    {
      "cell_type": "markdown",
      "metadata": {},
      "source": [
        "# Women had higher survival chances because of the \"Women and Children First\" rule, lifeboat priority, and social norms of the time. Men had lower survival rates because they were expected to sacrifice themselves and had fewer chances to board lifeboats."
      ]
    },
    {
      "cell_type": "markdown",
      "metadata": {},
      "source": []
    },
    {
      "cell_type": "code",
      "execution_count": null,
      "metadata": {},
      "outputs": [],
      "source": []
    },
    {
      "cell_type": "markdown",
      "metadata": {},
      "source": []
    },
    {
      "cell_type": "code",
      "execution_count": null,
      "metadata": {},
      "outputs": [],
      "source": [
        "\n",
        "\n"
      ]
    },
    {
      "cell_type": "code",
      "execution_count": null,
      "metadata": {},
      "outputs": [],
      "source": []
    }
  ],
  "metadata": {
    "colab": {
      "provenance": []
    },
    "kernelspec": {
      "display_name": "Python 3",
      "name": "python3"
    },
    "language_info": {
      "codemirror_mode": {
        "name": "ipython",
        "version": 3
      },
      "file_extension": ".py",
      "mimetype": "text/x-python",
      "name": "python",
      "nbconvert_exporter": "python",
      "pygments_lexer": "ipython3",
      "version": "3.13.1"
    }
  },
  "nbformat": 4,
  "nbformat_minor": 0
}
